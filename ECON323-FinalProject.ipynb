{
 "cells": [
  {
   "cell_type": "markdown",
   "id": "be3de3ce-1df6-4e32-9107-0a7166ad58e5",
   "metadata": {},
   "source": [
    "# Healthcare on the Move: Patterns and Predictors of Medical Professional Migration in OECD Countries\n",
    "**Elijah Adrian, Wuyang Ren, Pierre Lambelet, and Angelo Mladineo**"
   ]
  },
  {
   "cell_type": "markdown",
   "id": "aad1973e-0bf7-4004-a5a5-f4f623b2a48d",
   "metadata": {},
   "source": [
    "## Introduction\n",
    "\n",
    "The Government of Canada states that health is an inalienable human right - crucial for sustainable development, economic prosperity, and poverty eradication - as well as being an indicator of a country's progress, as health increases the likelihood for sustained growth ([Global Affairs Canada](https://www.international.gc.ca/world-monde/issues_development-enjeux_developpement/global_health-sante_mondiale/health_development-sante_developpement.aspx?lang=eng), 2017). It is through healthcare systems that governments directly affect the health of a nation. Therefore, it is imperative to study healthcare systems, find patterns among their characteristics, and evaluate their performance, in order to improve wellbeing for all citizens.\n",
    "\n",
    "The purpose of this project is to analyze patterns in the migration of healthcare workers and health outcomes. This is an important field of study because while countries are capable of training their healthcare workers domestically, a substantial number come from outside their borders and contribute significantly to the healthcare labour force and thus health outcomes.\n",
    "We will focus on OECD countries specifically, as there exists comprehensive datasets on them, from which patterns of migration and healthcare systems' performance can be observed.\n",
    "For example, the latest OECD annual report on migration mentions that migration into OECD countries, in addition to employment of foreigners within them, reached record high levels in 2022 ([OECD](https://www.oecd.org/migration/international-migration-outlook-1999124x.htm), 2023). \n",
    "\n",
    "In order to explore the impact of medical professionals backgrounds', this research project is divided into three research sections of interest, with an additional section focused on maps showcasing the migration of medical professionals geographically:\n",
    "\n",
    "- The relationship between health outcomes and migration of healthcare providers \n",
    "- Government health insurance, per capita healthcare spending, and remuneration of medical professionals as predictive factors of healthcare professional migration\n",
    "- Relationship between domestic and foreign-trained medical professionals\n",
    "- Maps"
   ]
  },
  {
   "cell_type": "markdown",
   "id": "4a59817a-3d3d-46ae-8f90-a92e4a697f1e",
   "metadata": {},
   "source": [
    "## Data"
   ]
  },
  {
   "cell_type": "markdown",
   "id": "cc85a921-5ca5-4383-9fb5-5f9312668982",
   "metadata": {},
   "source": [
    "### Importing libraries"
   ]
  },
  {
   "cell_type": "markdown",
   "id": "a6ff5930-60f0-409d-99f9-37342d00f8a2",
   "metadata": {},
   "source": [
    "As was mentioned in the introduction, the datasets in this project come from datasets found in [OECD data](https://data.oecd.org), but before we present and clean them, we start by importing the Python libraries that allow us to work with the data.\n",
    "\n",
    "These are:\n",
    "`math`, `pandas`, `numpy`, `matplotlib.pyplot`, `seaborn`, and `statsmodels.api`.\n",
    "\n",
    "We also have to load all the libraries necessary for the interactive map, most of these stem from `bokeh`, in addition to `geopandas` and `json`."
   ]
  },
  {
   "cell_type": "code",
   "execution_count": 1,
   "id": "bae48a13-2e26-49a2-85e8-1fe57b1f4c15",
   "metadata": {
    "tags": []
   },
   "outputs": [
    {
     "name": "stdout",
     "output_type": "stream",
     "text": [
      "Collecting geopandas\n",
      "  Using cached geopandas-0.14.3-py3-none-any.whl (1.1 MB)\n",
      "Collecting shapely>=1.8.0\n",
      "  Using cached shapely-2.0.4-cp310-cp310-manylinux_2_17_x86_64.manylinux2014_x86_64.whl (2.5 MB)\n",
      "Collecting fiona>=1.8.21\n",
      "  Using cached fiona-1.9.6-cp310-cp310-manylinux2014_x86_64.whl (15.7 MB)\n",
      "Collecting pyproj>=3.3.0\n",
      "  Using cached pyproj-3.6.1-cp310-cp310-manylinux_2_17_x86_64.manylinux2014_x86_64.whl (8.3 MB)\n",
      "Requirement already satisfied: pandas>=1.4.0 in /opt/conda/lib/python3.10/site-packages (from geopandas) (1.5.3)\n",
      "Requirement already satisfied: packaging in /opt/conda/lib/python3.10/site-packages (from geopandas) (23.0)\n",
      "Requirement already satisfied: certifi in /opt/conda/lib/python3.10/site-packages (from fiona>=1.8.21->geopandas) (2022.12.7)\n",
      "Requirement already satisfied: click~=8.0 in /opt/conda/lib/python3.10/site-packages (from fiona>=1.8.21->geopandas) (8.1.3)\n",
      "Collecting click-plugins>=1.0\n",
      "  Using cached click_plugins-1.1.1-py2.py3-none-any.whl (7.5 kB)\n",
      "Requirement already satisfied: six in /opt/conda/lib/python3.10/site-packages (from fiona>=1.8.21->geopandas) (1.16.0)\n",
      "Requirement already satisfied: attrs>=19.2.0 in /opt/conda/lib/python3.10/site-packages (from fiona>=1.8.21->geopandas) (22.2.0)\n",
      "Collecting cligj>=0.5\n",
      "  Using cached cligj-0.7.2-py3-none-any.whl (7.1 kB)\n",
      "Requirement already satisfied: python-dateutil>=2.8.1 in /opt/conda/lib/python3.10/site-packages (from pandas>=1.4.0->geopandas) (2.8.2)\n",
      "Requirement already satisfied: pytz>=2020.1 in /opt/conda/lib/python3.10/site-packages (from pandas>=1.4.0->geopandas) (2022.7.1)\n",
      "Requirement already satisfied: numpy>=1.21.0 in /opt/conda/lib/python3.10/site-packages (from pandas>=1.4.0->geopandas) (1.23.5)\n",
      "Installing collected packages: shapely, pyproj, cligj, click-plugins, fiona, geopandas\n",
      "Successfully installed click-plugins-1.1.1 cligj-0.7.2 fiona-1.9.6 geopandas-0.14.3 pyproj-3.6.1 shapely-2.0.4\n"
     ]
    },
    {
     "data": {
      "text/html": [
       "<div class=\"bk-root\">\n",
       "        <a href=\"https://bokeh.org\" target=\"_blank\" class=\"bk-logo bk-logo-small bk-logo-notebook\"></a>\n",
       "        <span id=\"1002\">Loading BokehJS ...</span>\n",
       "    </div>\n"
      ]
     },
     "metadata": {},
     "output_type": "display_data"
    },
    {
     "data": {
      "application/javascript": [
       "(function(root) {\n",
       "  function now() {\n",
       "    return new Date();\n",
       "  }\n",
       "\n",
       "  const force = true;\n",
       "\n",
       "  if (typeof root._bokeh_onload_callbacks === \"undefined\" || force === true) {\n",
       "    root._bokeh_onload_callbacks = [];\n",
       "    root._bokeh_is_loading = undefined;\n",
       "  }\n",
       "\n",
       "const JS_MIME_TYPE = 'application/javascript';\n",
       "  const HTML_MIME_TYPE = 'text/html';\n",
       "  const EXEC_MIME_TYPE = 'application/vnd.bokehjs_exec.v0+json';\n",
       "  const CLASS_NAME = 'output_bokeh rendered_html';\n",
       "\n",
       "  /**\n",
       "   * Render data to the DOM node\n",
       "   */\n",
       "  function render(props, node) {\n",
       "    const script = document.createElement(\"script\");\n",
       "    node.appendChild(script);\n",
       "  }\n",
       "\n",
       "  /**\n",
       "   * Handle when an output is cleared or removed\n",
       "   */\n",
       "  function handleClearOutput(event, handle) {\n",
       "    const cell = handle.cell;\n",
       "\n",
       "    const id = cell.output_area._bokeh_element_id;\n",
       "    const server_id = cell.output_area._bokeh_server_id;\n",
       "    // Clean up Bokeh references\n",
       "    if (id != null && id in Bokeh.index) {\n",
       "      Bokeh.index[id].model.document.clear();\n",
       "      delete Bokeh.index[id];\n",
       "    }\n",
       "\n",
       "    if (server_id !== undefined) {\n",
       "      // Clean up Bokeh references\n",
       "      const cmd_clean = \"from bokeh.io.state import curstate; print(curstate().uuid_to_server['\" + server_id + \"'].get_sessions()[0].document.roots[0]._id)\";\n",
       "      cell.notebook.kernel.execute(cmd_clean, {\n",
       "        iopub: {\n",
       "          output: function(msg) {\n",
       "            const id = msg.content.text.trim();\n",
       "            if (id in Bokeh.index) {\n",
       "              Bokeh.index[id].model.document.clear();\n",
       "              delete Bokeh.index[id];\n",
       "            }\n",
       "          }\n",
       "        }\n",
       "      });\n",
       "      // Destroy server and session\n",
       "      const cmd_destroy = \"import bokeh.io.notebook as ion; ion.destroy_server('\" + server_id + \"')\";\n",
       "      cell.notebook.kernel.execute(cmd_destroy);\n",
       "    }\n",
       "  }\n",
       "\n",
       "  /**\n",
       "   * Handle when a new output is added\n",
       "   */\n",
       "  function handleAddOutput(event, handle) {\n",
       "    const output_area = handle.output_area;\n",
       "    const output = handle.output;\n",
       "\n",
       "    // limit handleAddOutput to display_data with EXEC_MIME_TYPE content only\n",
       "    if ((output.output_type != \"display_data\") || (!Object.prototype.hasOwnProperty.call(output.data, EXEC_MIME_TYPE))) {\n",
       "      return\n",
       "    }\n",
       "\n",
       "    const toinsert = output_area.element.find(\".\" + CLASS_NAME.split(' ')[0]);\n",
       "\n",
       "    if (output.metadata[EXEC_MIME_TYPE][\"id\"] !== undefined) {\n",
       "      toinsert[toinsert.length - 1].firstChild.textContent = output.data[JS_MIME_TYPE];\n",
       "      // store reference to embed id on output_area\n",
       "      output_area._bokeh_element_id = output.metadata[EXEC_MIME_TYPE][\"id\"];\n",
       "    }\n",
       "    if (output.metadata[EXEC_MIME_TYPE][\"server_id\"] !== undefined) {\n",
       "      const bk_div = document.createElement(\"div\");\n",
       "      bk_div.innerHTML = output.data[HTML_MIME_TYPE];\n",
       "      const script_attrs = bk_div.children[0].attributes;\n",
       "      for (let i = 0; i < script_attrs.length; i++) {\n",
       "        toinsert[toinsert.length - 1].firstChild.setAttribute(script_attrs[i].name, script_attrs[i].value);\n",
       "        toinsert[toinsert.length - 1].firstChild.textContent = bk_div.children[0].textContent\n",
       "      }\n",
       "      // store reference to server id on output_area\n",
       "      output_area._bokeh_server_id = output.metadata[EXEC_MIME_TYPE][\"server_id\"];\n",
       "    }\n",
       "  }\n",
       "\n",
       "  function register_renderer(events, OutputArea) {\n",
       "\n",
       "    function append_mime(data, metadata, element) {\n",
       "      // create a DOM node to render to\n",
       "      const toinsert = this.create_output_subarea(\n",
       "        metadata,\n",
       "        CLASS_NAME,\n",
       "        EXEC_MIME_TYPE\n",
       "      );\n",
       "      this.keyboard_manager.register_events(toinsert);\n",
       "      // Render to node\n",
       "      const props = {data: data, metadata: metadata[EXEC_MIME_TYPE]};\n",
       "      render(props, toinsert[toinsert.length - 1]);\n",
       "      element.append(toinsert);\n",
       "      return toinsert\n",
       "    }\n",
       "\n",
       "    /* Handle when an output is cleared or removed */\n",
       "    events.on('clear_output.CodeCell', handleClearOutput);\n",
       "    events.on('delete.Cell', handleClearOutput);\n",
       "\n",
       "    /* Handle when a new output is added */\n",
       "    events.on('output_added.OutputArea', handleAddOutput);\n",
       "\n",
       "    /**\n",
       "     * Register the mime type and append_mime function with output_area\n",
       "     */\n",
       "    OutputArea.prototype.register_mime_type(EXEC_MIME_TYPE, append_mime, {\n",
       "      /* Is output safe? */\n",
       "      safe: true,\n",
       "      /* Index of renderer in `output_area.display_order` */\n",
       "      index: 0\n",
       "    });\n",
       "  }\n",
       "\n",
       "  // register the mime type if in Jupyter Notebook environment and previously unregistered\n",
       "  if (root.Jupyter !== undefined) {\n",
       "    const events = require('base/js/events');\n",
       "    const OutputArea = require('notebook/js/outputarea').OutputArea;\n",
       "\n",
       "    if (OutputArea.prototype.mime_types().indexOf(EXEC_MIME_TYPE) == -1) {\n",
       "      register_renderer(events, OutputArea);\n",
       "    }\n",
       "  }\n",
       "  if (typeof (root._bokeh_timeout) === \"undefined\" || force === true) {\n",
       "    root._bokeh_timeout = Date.now() + 5000;\n",
       "    root._bokeh_failed_load = false;\n",
       "  }\n",
       "\n",
       "  const NB_LOAD_WARNING = {'data': {'text/html':\n",
       "     \"<div style='background-color: #fdd'>\\n\"+\n",
       "     \"<p>\\n\"+\n",
       "     \"BokehJS does not appear to have successfully loaded. If loading BokehJS from CDN, this \\n\"+\n",
       "     \"may be due to a slow or bad network connection. Possible fixes:\\n\"+\n",
       "     \"</p>\\n\"+\n",
       "     \"<ul>\\n\"+\n",
       "     \"<li>re-rerun `output_notebook()` to attempt to load from CDN again, or</li>\\n\"+\n",
       "     \"<li>use INLINE resources instead, as so:</li>\\n\"+\n",
       "     \"</ul>\\n\"+\n",
       "     \"<code>\\n\"+\n",
       "     \"from bokeh.resources import INLINE\\n\"+\n",
       "     \"output_notebook(resources=INLINE)\\n\"+\n",
       "     \"</code>\\n\"+\n",
       "     \"</div>\"}};\n",
       "\n",
       "  function display_loaded() {\n",
       "    const el = document.getElementById(\"1002\");\n",
       "    if (el != null) {\n",
       "      el.textContent = \"BokehJS is loading...\";\n",
       "    }\n",
       "    if (root.Bokeh !== undefined) {\n",
       "      if (el != null) {\n",
       "        el.textContent = \"BokehJS \" + root.Bokeh.version + \" successfully loaded.\";\n",
       "      }\n",
       "    } else if (Date.now() < root._bokeh_timeout) {\n",
       "      setTimeout(display_loaded, 100)\n",
       "    }\n",
       "  }\n",
       "\n",
       "  function run_callbacks() {\n",
       "    try {\n",
       "      root._bokeh_onload_callbacks.forEach(function(callback) {\n",
       "        if (callback != null)\n",
       "          callback();\n",
       "      });\n",
       "    } finally {\n",
       "      delete root._bokeh_onload_callbacks\n",
       "    }\n",
       "    console.debug(\"Bokeh: all callbacks have finished\");\n",
       "  }\n",
       "\n",
       "  function load_libs(css_urls, js_urls, callback) {\n",
       "    if (css_urls == null) css_urls = [];\n",
       "    if (js_urls == null) js_urls = [];\n",
       "\n",
       "    root._bokeh_onload_callbacks.push(callback);\n",
       "    if (root._bokeh_is_loading > 0) {\n",
       "      console.debug(\"Bokeh: BokehJS is being loaded, scheduling callback at\", now());\n",
       "      return null;\n",
       "    }\n",
       "    if (js_urls == null || js_urls.length === 0) {\n",
       "      run_callbacks();\n",
       "      return null;\n",
       "    }\n",
       "    console.debug(\"Bokeh: BokehJS not loaded, scheduling load and callback at\", now());\n",
       "    root._bokeh_is_loading = css_urls.length + js_urls.length;\n",
       "\n",
       "    function on_load() {\n",
       "      root._bokeh_is_loading--;\n",
       "      if (root._bokeh_is_loading === 0) {\n",
       "        console.debug(\"Bokeh: all BokehJS libraries/stylesheets loaded\");\n",
       "        run_callbacks()\n",
       "      }\n",
       "    }\n",
       "\n",
       "    function on_error(url) {\n",
       "      console.error(\"failed to load \" + url);\n",
       "    }\n",
       "\n",
       "    for (let i = 0; i < css_urls.length; i++) {\n",
       "      const url = css_urls[i];\n",
       "      const element = document.createElement(\"link\");\n",
       "      element.onload = on_load;\n",
       "      element.onerror = on_error.bind(null, url);\n",
       "      element.rel = \"stylesheet\";\n",
       "      element.type = \"text/css\";\n",
       "      element.href = url;\n",
       "      console.debug(\"Bokeh: injecting link tag for BokehJS stylesheet: \", url);\n",
       "      document.body.appendChild(element);\n",
       "    }\n",
       "\n",
       "    for (let i = 0; i < js_urls.length; i++) {\n",
       "      const url = js_urls[i];\n",
       "      const element = document.createElement('script');\n",
       "      element.onload = on_load;\n",
       "      element.onerror = on_error.bind(null, url);\n",
       "      element.async = false;\n",
       "      element.src = url;\n",
       "      console.debug(\"Bokeh: injecting script tag for BokehJS library: \", url);\n",
       "      document.head.appendChild(element);\n",
       "    }\n",
       "  };\n",
       "\n",
       "  function inject_raw_css(css) {\n",
       "    const element = document.createElement(\"style\");\n",
       "    element.appendChild(document.createTextNode(css));\n",
       "    document.body.appendChild(element);\n",
       "  }\n",
       "\n",
       "  const js_urls = [\"https://cdn.bokeh.org/bokeh/release/bokeh-2.4.3.min.js\", \"https://cdn.bokeh.org/bokeh/release/bokeh-gl-2.4.3.min.js\", \"https://cdn.bokeh.org/bokeh/release/bokeh-widgets-2.4.3.min.js\", \"https://cdn.bokeh.org/bokeh/release/bokeh-tables-2.4.3.min.js\", \"https://cdn.bokeh.org/bokeh/release/bokeh-mathjax-2.4.3.min.js\"];\n",
       "  const css_urls = [];\n",
       "\n",
       "  const inline_js = [    function(Bokeh) {\n",
       "      Bokeh.set_log_level(\"info\");\n",
       "    },\n",
       "function(Bokeh) {\n",
       "    }\n",
       "  ];\n",
       "\n",
       "  function run_inline_js() {\n",
       "    if (root.Bokeh !== undefined || force === true) {\n",
       "          for (let i = 0; i < inline_js.length; i++) {\n",
       "      inline_js[i].call(root, root.Bokeh);\n",
       "    }\n",
       "if (force === true) {\n",
       "        display_loaded();\n",
       "      }} else if (Date.now() < root._bokeh_timeout) {\n",
       "      setTimeout(run_inline_js, 100);\n",
       "    } else if (!root._bokeh_failed_load) {\n",
       "      console.log(\"Bokeh: BokehJS failed to load within specified timeout.\");\n",
       "      root._bokeh_failed_load = true;\n",
       "    } else if (force !== true) {\n",
       "      const cell = $(document.getElementById(\"1002\")).parents('.cell').data().cell;\n",
       "      cell.output_area.append_execute_result(NB_LOAD_WARNING)\n",
       "    }\n",
       "  }\n",
       "\n",
       "  if (root._bokeh_is_loading === 0) {\n",
       "    console.debug(\"Bokeh: BokehJS loaded, going straight to plotting\");\n",
       "    run_inline_js();\n",
       "  } else {\n",
       "    load_libs(css_urls, js_urls, function() {\n",
       "      console.debug(\"Bokeh: BokehJS plotting callback run at\", now());\n",
       "      run_inline_js();\n",
       "    });\n",
       "  }\n",
       "}(window));"
      ],
      "application/vnd.bokehjs_load.v0+json": "(function(root) {\n  function now() {\n    return new Date();\n  }\n\n  const force = true;\n\n  if (typeof root._bokeh_onload_callbacks === \"undefined\" || force === true) {\n    root._bokeh_onload_callbacks = [];\n    root._bokeh_is_loading = undefined;\n  }\n\n\n  if (typeof (root._bokeh_timeout) === \"undefined\" || force === true) {\n    root._bokeh_timeout = Date.now() + 5000;\n    root._bokeh_failed_load = false;\n  }\n\n  const NB_LOAD_WARNING = {'data': {'text/html':\n     \"<div style='background-color: #fdd'>\\n\"+\n     \"<p>\\n\"+\n     \"BokehJS does not appear to have successfully loaded. If loading BokehJS from CDN, this \\n\"+\n     \"may be due to a slow or bad network connection. Possible fixes:\\n\"+\n     \"</p>\\n\"+\n     \"<ul>\\n\"+\n     \"<li>re-rerun `output_notebook()` to attempt to load from CDN again, or</li>\\n\"+\n     \"<li>use INLINE resources instead, as so:</li>\\n\"+\n     \"</ul>\\n\"+\n     \"<code>\\n\"+\n     \"from bokeh.resources import INLINE\\n\"+\n     \"output_notebook(resources=INLINE)\\n\"+\n     \"</code>\\n\"+\n     \"</div>\"}};\n\n  function display_loaded() {\n    const el = document.getElementById(\"1002\");\n    if (el != null) {\n      el.textContent = \"BokehJS is loading...\";\n    }\n    if (root.Bokeh !== undefined) {\n      if (el != null) {\n        el.textContent = \"BokehJS \" + root.Bokeh.version + \" successfully loaded.\";\n      }\n    } else if (Date.now() < root._bokeh_timeout) {\n      setTimeout(display_loaded, 100)\n    }\n  }\n\n  function run_callbacks() {\n    try {\n      root._bokeh_onload_callbacks.forEach(function(callback) {\n        if (callback != null)\n          callback();\n      });\n    } finally {\n      delete root._bokeh_onload_callbacks\n    }\n    console.debug(\"Bokeh: all callbacks have finished\");\n  }\n\n  function load_libs(css_urls, js_urls, callback) {\n    if (css_urls == null) css_urls = [];\n    if (js_urls == null) js_urls = [];\n\n    root._bokeh_onload_callbacks.push(callback);\n    if (root._bokeh_is_loading > 0) {\n      console.debug(\"Bokeh: BokehJS is being loaded, scheduling callback at\", now());\n      return null;\n    }\n    if (js_urls == null || js_urls.length === 0) {\n      run_callbacks();\n      return null;\n    }\n    console.debug(\"Bokeh: BokehJS not loaded, scheduling load and callback at\", now());\n    root._bokeh_is_loading = css_urls.length + js_urls.length;\n\n    function on_load() {\n      root._bokeh_is_loading--;\n      if (root._bokeh_is_loading === 0) {\n        console.debug(\"Bokeh: all BokehJS libraries/stylesheets loaded\");\n        run_callbacks()\n      }\n    }\n\n    function on_error(url) {\n      console.error(\"failed to load \" + url);\n    }\n\n    for (let i = 0; i < css_urls.length; i++) {\n      const url = css_urls[i];\n      const element = document.createElement(\"link\");\n      element.onload = on_load;\n      element.onerror = on_error.bind(null, url);\n      element.rel = \"stylesheet\";\n      element.type = \"text/css\";\n      element.href = url;\n      console.debug(\"Bokeh: injecting link tag for BokehJS stylesheet: \", url);\n      document.body.appendChild(element);\n    }\n\n    for (let i = 0; i < js_urls.length; i++) {\n      const url = js_urls[i];\n      const element = document.createElement('script');\n      element.onload = on_load;\n      element.onerror = on_error.bind(null, url);\n      element.async = false;\n      element.src = url;\n      console.debug(\"Bokeh: injecting script tag for BokehJS library: \", url);\n      document.head.appendChild(element);\n    }\n  };\n\n  function inject_raw_css(css) {\n    const element = document.createElement(\"style\");\n    element.appendChild(document.createTextNode(css));\n    document.body.appendChild(element);\n  }\n\n  const js_urls = [\"https://cdn.bokeh.org/bokeh/release/bokeh-2.4.3.min.js\", \"https://cdn.bokeh.org/bokeh/release/bokeh-gl-2.4.3.min.js\", \"https://cdn.bokeh.org/bokeh/release/bokeh-widgets-2.4.3.min.js\", \"https://cdn.bokeh.org/bokeh/release/bokeh-tables-2.4.3.min.js\", \"https://cdn.bokeh.org/bokeh/release/bokeh-mathjax-2.4.3.min.js\"];\n  const css_urls = [];\n\n  const inline_js = [    function(Bokeh) {\n      Bokeh.set_log_level(\"info\");\n    },\nfunction(Bokeh) {\n    }\n  ];\n\n  function run_inline_js() {\n    if (root.Bokeh !== undefined || force === true) {\n          for (let i = 0; i < inline_js.length; i++) {\n      inline_js[i].call(root, root.Bokeh);\n    }\nif (force === true) {\n        display_loaded();\n      }} else if (Date.now() < root._bokeh_timeout) {\n      setTimeout(run_inline_js, 100);\n    } else if (!root._bokeh_failed_load) {\n      console.log(\"Bokeh: BokehJS failed to load within specified timeout.\");\n      root._bokeh_failed_load = true;\n    } else if (force !== true) {\n      const cell = $(document.getElementById(\"1002\")).parents('.cell').data().cell;\n      cell.output_area.append_execute_result(NB_LOAD_WARNING)\n    }\n  }\n\n  if (root._bokeh_is_loading === 0) {\n    console.debug(\"Bokeh: BokehJS loaded, going straight to plotting\");\n    run_inline_js();\n  } else {\n    load_libs(css_urls, js_urls, function() {\n      console.debug(\"Bokeh: BokehJS plotting callback run at\", now());\n      run_inline_js();\n    });\n  }\n}(window));"
     },
     "metadata": {},
     "output_type": "display_data"
    }
   ],
   "source": [
    "! pip install geopandas\n",
    "\n",
    "import math\n",
    "import pandas as pd\n",
    "import numpy as np\n",
    "import matplotlib.pyplot as plt\n",
    "import seaborn as sns\n",
    "import statsmodels.api as sm\n",
    "\n",
    "import geopandas as gpd\n",
    "from bokeh.io import output_notebook,show\n",
    "from bokeh.plotting import figure, ColumnDataSource\n",
    "from bokeh.io import output_notebook, show, output_file\n",
    "from bokeh.plotting import figure\n",
    "from bokeh.models import GeoJSONDataSource, LinearColorMapper, ColorBar, HoverTool, Label, Legend\n",
    "from bokeh.palettes import brewer\n",
    "output_notebook()\n",
    "import json\n",
    "from bokeh.palettes import OrRd\n",
    "\n",
    "%matplotlib inline\n",
    "sns.set()"
   ]
  },
  {
   "cell_type": "markdown",
   "id": "4310b9e1-51db-48e9-8381-f2b0a76424de",
   "metadata": {},
   "source": [
    "### Loading datasets"
   ]
  },
  {
   "cell_type": "markdown",
   "id": "0cd971e0-3dc6-4e3d-a0c2-9c418b0e3633",
   "metadata": {},
   "source": [
    "Now we read all the data files from the OECD. The naming convention we use is an abbreviation of the datasets' names (for example `demo_ref_raw` stands for **demo**graphic **ref**erence data and so on) and all of them have the suffix \"raw\" in their variable name to indicate that the datasets have not been processed.\n",
    "\n"
   ]
  },
  {
   "cell_type": "code",
   "execution_count": 2,
   "id": "d4bc98c3-c2eb-4fb4-ad8c-b6fbffa52985",
   "metadata": {
    "tags": []
   },
   "outputs": [],
   "source": [
    "demo_ref_raw = pd.read_csv('demographicref.csv') #demographic reference data\n",
    "econ_ref_raw = pd.read_csv('econref.csv') #economic reference data\n",
    "health_expen_raw = pd.read_csv('healthexpenditure.csv') #healthcare expenditure data\n",
    "health_qual_raw = pd.read_csv('healthquality.csv') #healthcare quality data\n",
    "health_resor_raw = pd.read_csv('healthresources.csv') #healthcare resources data\n",
    "health_util_raw = pd.read_csv('healthutil.csv') #healthcare utilization data\n",
    "social_proc_raw = pd.read_csv('socialprotection.csv') #social healthcare protection data\n",
    "worker_migr_raw = pd.read_csv('healthworkmigration.csv') #healthcare worker migration data\n",
    "health_stat_raw = pd.read_csv('healthstatus.csv',nrows = 284583) #health status data"
   ]
  },
  {
   "cell_type": "markdown",
   "id": "8a1f48eb-922e-4976-8b6d-de6e60e461d6",
   "metadata": {},
   "source": [
    "Note that the final dataset (*healthstatus.csv*) cannot be loaded past the 284,614th line, so in order to avoid having partial data on one variable we needed to cut approximately the last 40,000 entries."
   ]
  },
  {
   "cell_type": "markdown",
   "id": "b546fdc3-a163-4132-b8f1-bd4c2f42ab36",
   "metadata": {},
   "source": [
    "Each dataset we include was obtained from the following sources:\n",
    "- [Demographic Reference Data](https://stats.oecd.org/Index.aspx?DataSetCode=HEALTH_DEMR)  \n",
    "- [Economic Reference Data](https://stats.oecd.org/Index.aspx?DataSetCode=HEALTH_ECOR)  \n",
    "- [Healthcare Expenditure Data](https://stats.oecd.org/Index.aspx?DataSetCode=SHA) \n",
    "- [Healthcare Quality Data](https://stats.oecd.org/Index.aspx?DataSetCode=HEALTH_HCQI)  \n",
    "- [Healthcare Resources Data](https://stats.oecd.org/Index.aspx?DataSetCode=HEALTH_REAC)  \n",
    "- [Healthcare Utilization Data](https://stats.oecd.org/Index.aspx?DataSetCode=HEALTH_PROC)  \n",
    "- [Social Healthcare Protection Data](https://stats.oecd.org/Index.aspx?DataSetCode=HEALTH_PROT)  \n",
    "- [Healthcare Worker Migration Data](https://stats.oecd.org/Index.aspx?DataSetCode=HEALTH_WFMI)  \n",
    "\n",
    "Full citations are at the end of the document."
   ]
  },
  {
   "cell_type": "markdown",
   "id": "425e0e74-0916-40ec-b096-2f4c39d912d0",
   "metadata": {},
   "source": [
    "### Data cleaning"
   ]
  },
  {
   "cell_type": "markdown",
   "id": "e6fa606c-05cc-4028-9b83-4f6dbc9e3a5e",
   "metadata": {},
   "source": [
    "We start the data cleaning process by removing unwanted columns of data. We are left with columns that we deemed relevant for our project."
   ]
  },
  {
   "cell_type": "code",
   "execution_count": 3,
   "id": "fb99cfa9-e148-478a-8af3-6b35ed7bc8b3",
   "metadata": {
    "tags": []
   },
   "outputs": [],
   "source": [
    "demo_ref_col = demo_ref_raw[['Variable','Measure','Country','Year','Value']]\n",
    "econ_ref_col = econ_ref_raw[['Variable', 'Measure', 'Country','Year', 'Value']]\n",
    "health_expen_col = health_expen_raw[['Financing scheme', 'Function','Provider', 'Measure', 'Country', 'Year', 'Unit', 'Value']]\n",
    "health_qual_col = health_qual_raw[['Country','Periods','Indicator','Gender','Age Group','Value','Value.1']]\n",
    "health_resor_col = health_resor_raw[['Variable','Measure','Country','Year','Value']]\n",
    "health_util_col = health_util_raw[['Variable','Measure','Country','Year','Value']]\n",
    "social_proc_col = social_proc_raw[['Variable','Measure','Country','Year','Value']]\n",
    "worker_migr_col = worker_migr_raw[['Country','Variable','Country of origin','Year','Value']]\n",
    "health_stat_col = health_stat_raw[['Variable','Measure','Country','Year','Value']]"
   ]
  },
  {
   "cell_type": "markdown",
   "id": "daf7e9d3-8ce8-42fe-bab4-84cd4dcc0780",
   "metadata": {
    "tags": []
   },
   "source": [
    "We proceed to remove unwanted rows of data. Typically, these are rows containing data measured in units that cannot be compared between countries (e.g. in local currency or raw numbers of incidents). In addition to that, we have to remove rows containing variables with few observations or rows that are unlikely to be helpful for our purposes. Almost all data sets required this, the exceptions are `demo_ref_col` and `worker_mig_col`."
   ]
  },
  {
   "cell_type": "code",
   "execution_count": 4,
   "id": "380ecc68-0e2c-4202-88f4-78974e4c67d1",
   "metadata": {
    "tags": []
   },
   "outputs": [],
   "source": [
    "econ_ref_clean = econ_ref_col.loc[(econ_ref_col['Measure']=='National currency unit per US$, PPP')|\n",
    "                       (econ_ref_col['Measure']=='/capita, US$ purchasing power parity')|\n",
    "                       (econ_ref_col['Measure']=='Million US$ at exchange rate')|\n",
    "                       (econ_ref_col['Measure']=='/capita, US$ exchange rate ')|\n",
    "                       (econ_ref_col['Measure']=='/capita, US$ purchasing power parity')]\n",
    "\n",
    "health_expen_clean = health_expen_col.loc[(health_expen_col['Measure']=='Share of gross domestic product')|\n",
    "                       (health_expen_col['Measure']=='Constant prices, OECD base year')|\n",
    "                       (health_expen_col['Measure']=='Share of current expenditure on health')|\n",
    "                       (health_expen_col['Measure']=='Per capita, current prices, current PPPs')]\n",
    "\n",
    "health_qual_clean = health_qual_col.loc[((health_qual_col['Value']=='Age-sex standardised rate per 100 000 population')|\n",
    "               (health_qual_col['Value']=='Age-sex standardised rate per 100 patients')|\n",
    "               (health_qual_col['Value']=='Age-standardised survival (%)'))|\n",
    "               (health_qual_col['Value']=='Rate per 100 deaths (%)')|\n",
    "               (health_qual_col['Value']=='Crude rate per 100 patients')|\n",
    "               (health_qual_col['Value']=='Age-sex standardised ratio')|\n",
    "               (health_qual_col['Value']=='Age-standardised survival (%)')|\n",
    "               (health_qual_col['Value']=='Ratio')|\n",
    "               (health_qual_col['Gender']=='Total')] \n",
    "\n",
    "health_qual_clean = health_qual_clean.drop(list((health_qual_clean.loc[(health_qual_clean['Periods']==\"2000-2004\")|\n",
    "                                                                      (health_qual_clean['Periods']==\"2005-2009\")|\n",
    "                                                                      (health_qual_clean['Periods']==\"2010-2014\")|\n",
    "                                                                      (health_qual_clean['Periods']==\"2015-2019\")]).index.values)) \n",
    "\n",
    "health_resor_clean = health_resor_col.loc[(health_resor_col['Measure']=='Density per 1 000 population (head counts)')|\n",
    "                (health_resor_col['Measure']=='Per million population')|\n",
    "                (health_resor_col['Measure']=='% of total physicians (head counts)')|\n",
    "                (health_resor_col['Measure']=='Per 1 000 population')|\n",
    "                (health_resor_col['Measure']=='% of physicians (head counts)')|\n",
    "                (health_resor_col['Measure']=='Per 100 000 population')|\n",
    "                (health_resor_col['Measure']=='% of total hospital employment (head counts)')|\n",
    "                (health_resor_col['Measure']=='Per 1 000 live births')|\n",
    "                (health_resor_col['Measure']=='Salaried, income, PPP for private consumption, in US$')] \n",
    "\n",
    "health_util_clean = health_util_col.loc[(health_util_col['Measure']=='Per 100 000 population')|\n",
    "               (health_util_col['Measure']=='% performed as inpatient cases')|\n",
    "               (health_util_col['Measure']=='% performed as day cases')|\n",
    "               (health_util_col['Measure']=='Per 100 000 females')|\n",
    "               (health_util_col['Measure']=='Inpatient cases per 100 000 population ')|\n",
    "               (health_util_col['Measure']=='Total procedures per 100 000 population')|\n",
    "               (health_util_col['Measure']=='Day cases per 100 000 population')|\n",
    "               (health_util_col['Measure']=='Per 1 000 population')|\n",
    "               (health_util_col['Measure']=='% of children immunised')|\n",
    "               (health_util_col['Measure']=='Waiting times from specialist assessment to treatment: Mean (days)')|\n",
    "               (health_util_col['Measure']=='Waiting times of patients on the list: % of all patients waiting more than 3 months')|\n",
    "               (health_util_col['Measure']=='Waiting times of patients on the list: Mean (days)')]\n",
    "\n",
    "social_proc_clean = social_proc_col.loc[(social_proc_col['Measure']=='% of total population')|\n",
    "                                        (social_proc_col['Measure']=='% of total population covered')] \n",
    "\n",
    "health_stat_clean = health_stat_col.loc[(health_stat_col['Measure']=='Deaths per 100 000 females (standardised rates)')|\n",
    "               (health_stat_col['Measure']=='Deaths per 100 000 females (crude rates)')|\n",
    "               (health_stat_col['Measure']=='Years lost, /100 000 females, aged 75 years old')|\n",
    "               (health_stat_col['Measure']=='Deaths per 100 000 males (standardised rates)')|\n",
    "               (health_stat_col['Measure']=='Deaths per 100 000 population (standardised rates)')|\n",
    "               (health_stat_col['Measure']=='Deaths per 100 000 males (crude rates)')|\n",
    "               (health_stat_col['Measure']=='Years lost, /100 000 males, aged 75 years old')|\n",
    "               (health_stat_col['Measure']=='Years lost, /100 000 population, aged 75 years old')|\n",
    "               (health_stat_col['Measure']=='Deaths per 100 000 population (crude rates)')|\n",
    "               (health_stat_col['Measure']=='% of population (crude rate)')|\n",
    "               (health_stat_col['Measure']=='Years')|\n",
    "               (health_stat_col['Measure']=='Incidence per 100 000 population')|\n",
    "               (health_stat_col['Measure']=='Deaths per 1 000 live births')]"
   ]
  },
  {
   "cell_type": "markdown",
   "id": "15f07a37-60c5-42a2-ac3e-4341d95358db",
   "metadata": {},
   "source": [
    "Next we want to remove all the countries not present in the migration dataframe (`worker_migr_col`) from every other dataframe. We specifically select countries with a sufficient number of observations (50 observations was deemed appropriate). To do this we use a for loop that appends an empty list with countries if they have sufficient migration data and are not in the list already (to avoid for repeated entries). \n",
    "\n",
    "This results in the `migr_list` list, where we have all the countries (i.e. country names) that meet our observations criteria without duplicates."
   ]
  },
  {
   "cell_type": "code",
   "execution_count": 5,
   "id": "bb5a16af-3dde-4e94-9971-b13a780e5152",
   "metadata": {
    "tags": []
   },
   "outputs": [],
   "source": [
    "migr_list = []\n",
    "for country in worker_migr_col[\"Country\"]:\n",
    "    if (worker_migr_col[\"Country\"].value_counts()[country] > 50) and (country not in migr_list):\n",
    "        migr_list.append(country)"
   ]
  },
  {
   "cell_type": "markdown",
   "id": "26470569-2ff4-4f2f-aa07-b8acc1f33384",
   "metadata": {},
   "source": [
    "We put `migr_list` into action immediately by filtering for all the rows in each dataframe where the *\"Country\"* column's value is in the list."
   ]
  },
  {
   "cell_type": "code",
   "execution_count": 6,
   "id": "481ad504-6cf8-4433-bb81-d39d4f531f1d",
   "metadata": {
    "tags": []
   },
   "outputs": [],
   "source": [
    "econ_ref_clean = econ_ref_clean.loc[(econ_ref_clean[\"Country\"].isin(migr_list))]\n",
    "demo_ref_clean = demo_ref_col.loc[(demo_ref_col[\"Country\"].isin(migr_list))]\n",
    "health_expen_clean = health_expen_clean.loc[(health_expen_clean[\"Country\"].isin(migr_list))]\n",
    "health_qual_clean = health_qual_clean.loc[(health_qual_clean[\"Country\"].isin(migr_list))]\n",
    "health_resor_clean = health_resor_clean.loc[(health_resor_clean[\"Country\"].isin(migr_list))]\n",
    "health_util_clean = health_util_clean.loc[(health_util_clean[\"Country\"].isin(migr_list))]\n",
    "social_proc_clean = social_proc_clean.loc[(social_proc_clean[\"Country\"].isin(migr_list))]\n",
    "health_stat_clean = health_stat_clean.loc[(health_stat_clean[\"Country\"].isin(migr_list))]"
   ]
  },
  {
   "cell_type": "markdown",
   "id": "f47815d1-d4ac-4700-8116-553c3b6befe9",
   "metadata": {},
   "source": [
    "Lastly before pivoting we want to reset all the indexes."
   ]
  },
  {
   "cell_type": "code",
   "execution_count": 7,
   "id": "cfa7f23d-0956-457f-b016-3f4f996562b7",
   "metadata": {
    "tags": []
   },
   "outputs": [],
   "source": [
    "econ_ref_clean = econ_ref_clean.reset_index()\n",
    "demo_ref_clean = demo_ref_clean.reset_index()\n",
    "health_expen_clean = health_expen_clean.reset_index()\n",
    "health_qual_clean = health_qual_clean.reset_index()\n",
    "health_resor_clean = health_resor_clean.reset_index()\n",
    "health_util_clean = health_util_clean.reset_index()\n",
    "social_proc_clean = social_proc_clean.reset_index()\n",
    "health_stat_clean = health_stat_clean.reset_index()"
   ]
  },
  {
   "cell_type": "markdown",
   "id": "26cdda8b-c848-4cfe-8ebf-109fe8d4f9ad",
   "metadata": {},
   "source": [
    "It is important to note that the dataframes in the code cell above have the suffix *\"clean\"*, this is to indicate that they have been processed (i.e. cleaned) and are ready for statistical analysis. We started using this naming convention before, and while these versions of the dataframes are not the ones we would present (a more suitable display is in the next code cell), it is from these versions where most of our work will stem. "
   ]
  },
  {
   "cell_type": "markdown",
   "id": "589c5f6a-9141-4d9e-b3be-cbb7db7e6973",
   "metadata": {},
   "source": [
    "Next we have to pivot each dataframe, and merge the reference data, i.e. data that is not directly related to healthcare but that describes the countries we are going to use (such as purchasing power for `econ_ref` and employment for `demo_ref`)."
   ]
  },
  {
   "cell_type": "code",
   "execution_count": 8,
   "id": "6f52e40d-24ad-461e-998a-35d3869b1e8d",
   "metadata": {
    "tags": []
   },
   "outputs": [],
   "source": [
    "worker_migr = worker_migr_col.pivot_table(index = ['Year','Country'], columns = ['Variable'], values = 'Value')\n",
    "demo_ref = demo_ref_clean.pivot_table(index = ['Year','Country'], columns = ['Measure','Variable'], values = 'Value')\n",
    "econ_ref = econ_ref_clean.pivot_table(index = ['Year','Country'], columns = ['Measure','Variable'], values = 'Value')\n",
    "health_expen = health_expen_clean.pivot_table(index = ['Year','Country'], columns = ['Measure','Function'], values = 'Value')\n",
    "health_qual = health_qual_clean.pivot_table(index = ['Periods','Country','Age Group'], columns = ['Value','Indicator'], values = 'Value.1')\n",
    "health_resor = health_resor_clean.pivot_table(index = ['Year','Country'], columns = ['Measure','Variable'], values = 'Value')\n",
    "health_util = health_util_clean.pivot_table(index = ['Year','Country'], columns = ['Measure','Variable'], values = 'Value')\n",
    "social_proc = social_proc_clean.pivot_table(index = ['Year','Country'], columns = ['Measure','Variable'], values = 'Value')\n",
    "health_stat = health_stat_clean.pivot_table(index = ['Year','Country'], columns = ['Measure','Variable'], values = 'Value')\n",
    "\n",
    "reference = pd.merge(demo_ref,econ_ref, on = ['Year','Country'])"
   ]
  },
  {
   "cell_type": "code",
   "execution_count": null,
   "id": "2160e2e5-19b0-46f8-8808-8642290436af",
   "metadata": {
    "tags": []
   },
   "outputs": [],
   "source": [
    "worker_migr.head(10) # our primary data frame of interest"
   ]
  },
  {
   "cell_type": "markdown",
   "id": "de0e436b-3801-4871-a8f4-a9808f004fb2",
   "metadata": {
    "tags": []
   },
   "source": [
    "Here we have the final versions of our dataframes. We have seven dataframes that display data regarding healthcare (`worker_migr` has information about healthcare workers too), and one dataframe (the `reference` dataframe) that describes countries' economic and demographic conditions.\n",
    "\n",
    "Most dataframes have the same hierarchical index, where we have 'Year' and 'Country' as the two indices. `health_qual` is the exception, as it uses three indices, but all dataframes follow an initial index regarding time measurements, followed by a location (\"Country\") index."
   ]
  },
  {
   "cell_type": "markdown",
   "id": "75693deb-54fa-4d0a-9edc-9ef15e3131b2",
   "metadata": {},
   "source": [
    "## Healthcare Quality and Health Status as Predictive Factors of Healthcare Professional Migration\n",
    " "
   ]
  },
  {
   "cell_type": "markdown",
   "id": "8a37c677-c794-4419-8d08-61c6eb1a1b2a",
   "metadata": {},
   "source": [
    "### Measuring Healthcare Quality and Health Status"
   ]
  },
  {
   "cell_type": "markdown",
   "id": "17ebd429-81de-46e3-a6c2-a8352bb06609",
   "metadata": {},
   "source": [
    "We hypothesize that countries with poorer healthcare outcomes and health status tend to have a higher number of immigrant healthcare professionals. The rationale is the assumption that governments of these nations might be incentivized to bolster healthcare capabilities by facilitating the immigration of healthcare workers to improve overall health metrics.\n",
    "\n",
    "Our project evaluates healthcare quality and health status from four distinct perspectives:\n",
    "\n",
    "1. **Quality of Acute Care**: We assess this through the mortality rates and hospital readmission rates for critical conditions, including:\n",
    "* Acute Myocardial Infarction (AMI, commonly known as a heart attack)\n",
    "* Haemorrhagic stroke\n",
    "* Ischemic stroke\n",
    "* Hip fractures with surgeries initiated within two calendar days of hospital admission.\n",
    "2. **Patient Experience:** This aspect is gauged through responses to questionnaires, focusing on the percentage of patient having enough consultation time\n",
    "3. **Perceived Health Status**: We measure this through the percentage of the population that perceives their health as poor.\n",
    "4. **Age Demographics**: Specifically, the percentage of the population over 65, as this demographic typically requires more healthcare services, impacting overall health service demand.\n",
    "\n",
    "Through these measures, we aim to investigate how healthcare quality and health status could predict the migration of healthcare professionals."
   ]
  },
  {
   "cell_type": "code",
   "execution_count": null,
   "id": "c28899f8-48c4-4d4f-bd72-e19fc8489595",
   "metadata": {
    "tags": []
   },
   "outputs": [],
   "source": [
    "mor_val =  health_qual_clean[\"Value\"] == \"Age-sex standardised rate per 100 patients\"\n",
    "hos_val =  health_qual_clean[\"Value\"] == \"Age-sex standardised rate per 100 000 population\" #Measure of mortality rate and hospital admission/readmission rate\n",
    "doc_val = health_qual_clean[\"Value\"] == \"Crude rate per 100 patients\"\n",
    "doc_gender = health_qual_clean[\"Gender\"] == \"Total\"\n",
    "\n",
    "health_qual_clean['Periods'] = pd.to_numeric(health_qual_clean['Periods'])\n",
    "yrs =  health_qual_clean[\"Periods\"] > 2014\n",
    "\n",
    "mor_ind = health_qual_clean[\"Indicator\"].str.contains(\"mortality\")\n",
    "re_hos_ind = health_qual_clean[\"Indicator\"].str.contains(\"hospital readmission\")\n",
    "doc_val_ind = health_qual_clean[\"Indicator\"].str.contains(\"spending enough time with patients during the consultation\")\n",
    "\n",
    "qual_mor = health_qual_clean[mor_ind & yrs & mor_val]\n",
    "qual_re_hos = health_qual_clean[re_hos_ind & yrs & hos_val]\n",
    "qual_doc= health_qual_clean[doc_val_ind & yrs & doc_val & doc_gender ]\n",
    "\n",
    "\n",
    "mor_countries = set(qual_mor['Country'].unique())\n",
    "re_hos_countries = set(qual_re_hos['Country'].unique())\n",
    "doc_countries = set(qual_doc['Country'].unique())\n",
    "\n",
    "common_countries = mor_countries & re_hos_countries & doc_countries #filtering out countries\n",
    "\n",
    "qual_mor_filtered = qual_mor[qual_mor['Country'].isin(common_countries)]\n",
    "qual_re_hos_filtered = qual_re_hos[qual_re_hos['Country'].isin(common_countries)]\n",
    "qual_doc_filtered = qual_doc[qual_doc['Country'].isin(common_countries)]"
   ]
  },
  {
   "cell_type": "markdown",
   "id": "da7aebb9-2655-49d8-bdc1-f102f74ee029",
   "metadata": {},
   "source": [
    "It is important to note that we create a variable called `common_countries` that will serve as a filter, such that we can check if the countries we want to observe have all the available data for the metrics we want to use."
   ]
  },
  {
   "cell_type": "markdown",
   "id": "4d602b22-07a4-4b06-bca1-b38784cc3d14",
   "metadata": {},
   "source": [
    "With our filtered data, we create new, small \"summary\" dataframes that allow for a clear plotting of average mortality and average hospital readmission rates since the year 2015."
   ]
  },
  {
   "cell_type": "code",
   "execution_count": null,
   "id": "ab0e7a29-3f66-4563-9f1d-24dece5c0dab",
   "metadata": {
    "tags": []
   },
   "outputs": [],
   "source": [
    "summary_qual_mor = pd.DataFrame(qual_mor_filtered.groupby(['Country'])['Value.1'].mean()).rename(columns={'Value.1': 'Mortality'})\n",
    "summary_qual_re_hos = pd.DataFrame(qual_re_hos_filtered .groupby(['Country'])['Value.1'].mean()).rename(columns={'Value.1': 'Hospital Readmission'})\n",
    "summary_qual_doc =  pd.DataFrame(qual_doc_filtered.groupby(['Country'])['Value.1'].mean()).rename(columns={'Value.1': 'Enough Consultation Time'})"
   ]
  },
  {
   "cell_type": "markdown",
   "id": "1981748d-c899-4043-990d-1621e42746fd",
   "metadata": {},
   "source": [
    "We do the same to represent countries with \"bad health\". Using the crude rate as our measure, we filter specifically for \"bad/very bad health\" such that we can focus on the proportion of people that are perceived to have bad health conditions. "
   ]
  },
  {
   "cell_type": "code",
   "execution_count": null,
   "id": "84d8546a-89fe-4338-af41-1e04412e262c",
   "metadata": {
    "tags": []
   },
   "outputs": [],
   "source": [
    "bad_health = pd.DataFrame(health_stat[\"% of population (crude rate)\"][\"Bad/very bad health, total aged 15+\"]).rename(columns={'Bad/very bad health, total aged 15+': 'Bad Health'})\n",
    "bad_health = bad_health[bad_health.index.get_level_values('Year') > 2014]\n",
    "bad_health_filterd = bad_health[bad_health.index.get_level_values('Country').isin(common_countries)]\n",
    "\n",
    "summary_bad_health = pd.DataFrame(bad_health_filterd.groupby(['Country'])['Bad Health'].mean()) "
   ]
  },
  {
   "cell_type": "markdown",
   "id": "a72dd134-c0c6-42e8-8dcf-f6119da582d8",
   "metadata": {},
   "source": [
    "We also need to consider the population age distribution of countries as it may be a factor that influences the perceived health of the nation, and in turn how effective each healthcare system is. "
   ]
  },
  {
   "cell_type": "code",
   "execution_count": null,
   "id": "8de09e00-72fb-4d56-b162-719561b3c706",
   "metadata": {
    "tags": []
   },
   "outputs": [],
   "source": [
    "age_ref = pd.DataFrame(reference[\"% of total population\"][\"Population: 65 years old and over\"])\n",
    "age_ref = age_ref[age_ref.index.get_level_values('Year') > 2014]\n",
    "age_ref_filtered = age_ref[age_ref.index.get_level_values('Country').isin(common_countries)]\n",
    "\n",
    "age_summary = pd.DataFrame(age_ref_filtered.groupby(\"Country\").mean())"
   ]
  },
  {
   "cell_type": "markdown",
   "id": "2c00bdbd-0d15-4afb-b1d4-a31c46734c96",
   "metadata": {},
   "source": [
    "To account for the age distribution, the process is similar to `summary_bad_health`, where we first extract values from the `reference`, specifically, the *\"Population: 65 years old and over\"* column that is within the *\"% of total population\"* column set. Second, as 2015- 2022 is the time period with the most available data for our variables of interest, we filter for all values starting in 2015 and index them by year. Third, we filter for countries that are in the `common_country` list. Finally, we create a plot-friendly data frame called `age_summary` where we take the mean of each of the countries' entries to have an average percentage of the population that is 65 years old and over.\n"
   ]
  },
  {
   "cell_type": "markdown",
   "id": "93473a34-3442-4758-bf97-f491b231c8e6",
   "metadata": {},
   "source": [
    "We proceed to plot mortality rates, hospital readmission rates, percentages of the population with bad health conditions and percentage of patients with enough consultation time among our common countries."
   ]
  },
  {
   "cell_type": "code",
   "execution_count": null,
   "id": "2741e274-d4e3-418e-a4b4-1782a9112080",
   "metadata": {
    "tags": []
   },
   "outputs": [],
   "source": [
    "fig, ax = plt.subplots(2, 2, figsize=(10, 10))\n",
    "ax[0, 0] = summary_qual_mor.plot.bar(ax=ax[0,0])\n",
    "ax[0, 0].set_title(\"Mortality Rate per 100 Patients\")\n",
    "ax[0, 1] = summary_qual_re_hos.plot.bar(ax=ax[0, 1])\n",
    "ax[0, 1].set_title(\"Hospital Readmission Rate per 100 000 Population\")\n",
    "ax[1, 0] = summary_bad_health.plot.bar(ax=ax[1,0])\n",
    "ax[1, 0].set_title(\"% of the Population with Perceived Bad Health Conditions\")\n",
    "ax[1, 1] = summary_qual_doc.plot.bar(ax = ax[1,1])\n",
    "ax[1, 1].set_title(\"% of Patients Having Enough Consultation Time\")\n",
    "plt.tight_layout()"
   ]
  },
  {
   "cell_type": "markdown",
   "id": "9ff6c4b0-a3c2-4ddd-b584-e9ecbefde50a",
   "metadata": {},
   "source": [
    "From the graphs we can start visualizing the distinction between health quality and patient satisfaction, as mortality rates and hospital readmission rates inform us about the former, while the perceived population health and the percentage of patients with enough consultation time tell us about the latter. \n",
    "\n",
    "The most notable points for each are as follows:\n",
    "- Mortality rates:\n",
    "    - Highest: Estonia, with 19.11 per 100 patients\n",
    "    - Lowest: Norway, with 10.55 per 100 patients\n",
    "    - Mean: 13.85 per 100 patients\n",
    "- Hospital readmission rates:\n",
    "    - Highest: Israel, with 35.30 per 100,000 population\n",
    "    - Lowest: Netherlands, with 19.88 per 100,000 population\n",
    "    - Mean: 27.53 per 100,000 population\n",
    "- Population percentage with bad health:\n",
    "    - Highest: Estonia, with 13.65%\n",
    "    - Lowest: Canada, with 2.96%\n",
    "    - Mean: 8.09%\n",
    "- Percentage of patients with enough consultation time:\n",
    "    - Highest: Netherlands, with 93.74%\n",
    "    - Lowest: Sweden, with 71.35%\n",
    "    - Mean: 83.74%\n",
    "    \n",
    "More importantly, at this point we have different measures for health systems effectiveness across different countries through different metrics, thus, we can start look for the relationship proportions of foreign workers might have with the metrics we plotted."
   ]
  },
  {
   "cell_type": "markdown",
   "id": "b0158ef0-e1df-43b4-83b1-d7f39b2388a3",
   "metadata": {},
   "source": [
    "### Predicting Healthcare Professionals Migration"
   ]
  },
  {
   "cell_type": "markdown",
   "id": "823f13c0-fea3-4147-acb9-ee21ad0517bb",
   "metadata": {},
   "source": [
    "Similarly to how we filtered out health quality statistics, we now refer to the `worker_migr` data frame so that we can access the average foreign-trained doctors inflow per year since 2015 and for our countries of interest (located in `common_countries`). In addition to factors in healthcare quality and health status, we expect foreign-trained doctors inflow to be dependent on the number of domestically-trained doctors as well, as it reflects the size of a healthcare system, and having a larger system may require doctors, hence, more immigrant doctors."
   ]
  },
  {
   "cell_type": "code",
   "execution_count": null,
   "id": "f7d3ff44-c17d-46e8-8470-128a537dbc43",
   "metadata": {
    "tags": []
   },
   "outputs": [],
   "source": [
    "worker_migr_filtered = worker_migr[[\"Foreign-trained doctors - Annual inflow\", \"Domestically-trained doctors\"]][worker_migr.index.get_level_values('Year') > 2014]\n",
    "worker_migr_summary = worker_migr_filtered.groupby(['Country'])[['Foreign-trained doctors - Annual inflow', \"Domestically-trained doctors\"]].mean().fillna(0)\n",
    "worker_migr_summary = worker_migr_summary[worker_migr_summary.index.get_level_values('Country').isin(common_countries)]\n",
    "fig, ax = plt.subplots(2, 1, figsize = (10,10))\n",
    "ax[0].bar(worker_migr_summary.index, worker_migr_summary['Foreign-trained doctors - Annual inflow'])\n",
    "ax[1].bar(worker_migr_summary.index, worker_migr_summary['Domestically-trained doctors'])\n",
    "ax[0].set_title(\"Foreign-Trained Doctors Annual Inflow\")\n",
    "ax[1].set_title(\"Domestically-trained doctors\")\n",
    "plt.tight_layout()"
   ]
  },
  {
   "cell_type": "markdown",
   "id": "915fa67d-f3a9-42ab-a58f-7eea3ba8d6df",
   "metadata": {},
   "source": [
    "From the two graphs, we observe the average yearly inflow of doctors for each country, where the United Kingdom outpaces every other country by a large margin. For most countries, seeing a greater inflow of foreign-trained doctors coincides with a larger number of domestically trained doctors. The Netherlands, however, has a large number of domestic doctors while having a relative low inflow of foreign-trained doctors. Given this result, to better understand the predictive power of our variables of interest (healthcare quality and health status) we will compare the performance of our model with and without including number of domestically-trained doctors. "
   ]
  },
  {
   "cell_type": "markdown",
   "id": "ba047b73-137c-4ae3-9bd9-f32364500cd2",
   "metadata": {},
   "source": [
    "We continue filtering the reference data frame so that we can form a dataframe called `imm_qual`, where we include all the characteristics from our countries of interest, and these are merged with the average inflow of foreign doctors, such that we can investigate whether there is a relationship among the data."
   ]
  },
  {
   "cell_type": "code",
   "execution_count": null,
   "id": "e7fc95be-3d16-4a00-be50-49ff9ab20a43",
   "metadata": {
    "tags": []
   },
   "outputs": [],
   "source": [
    "imm_qual = pd.merge(summary_qual_mor, summary_qual_re_hos, on = ['Country'])\n",
    "imm_qual = pd.merge(imm_qual, summary_qual_doc, on = ['Country'])\n",
    "imm_qual = pd.merge(imm_qual, summary_bad_health, on = ['Country'])\n",
    "imm_qual = pd.merge(imm_qual, worker_migr_summary, on = ['Country']) \n",
    "imm_qual = pd.merge(imm_qual, age_summary, on = ['Country']) "
   ]
  },
  {
   "cell_type": "markdown",
   "id": "8a698e3d-0dab-476c-ab11-88541435c757",
   "metadata": {},
   "source": [
    "We utilize our new data frame to plot a correlation matrix to explore links between these characteristics \n",
    "\n",
    "\n"
   ]
  },
  {
   "cell_type": "code",
   "execution_count": null,
   "id": "5748cfc5-4799-4bfc-acaa-1643da142264",
   "metadata": {
    "tags": []
   },
   "outputs": [],
   "source": [
    "imm_correlation_matrix = imm_qual.corr()"
   ]
  },
  {
   "cell_type": "code",
   "execution_count": null,
   "id": "7c9ad95a-0562-4e44-b30f-a6b5cbeffd54",
   "metadata": {
    "tags": []
   },
   "outputs": [],
   "source": [
    "plt.figure(figsize=(7.5, 6))  \n",
    "sns.heatmap(imm_correlation_matrix, annot=True, fmt=\".2f\", cmap=\"coolwarm\", cbar=False)\n",
    "\n",
    "plt.xticks(rotation=45, ha='right')\n",
    "plt.yticks(rotation=0)\n",
    "plt.title('Correlation Between Health Outcomes and Healthcare Professionals Migration')\n",
    "\n",
    "plt.show()"
   ]
  },
  {
   "cell_type": "markdown",
   "id": "620abccd-c18a-4d88-9196-84a94c00d396",
   "metadata": {},
   "source": [
    "Emphasizing on the \"Foreign-trained doctors - Annual inflow\" variable, there is a slight, positive correlation among mortality rates and flow of foreign doctors (with a correlation coefficient, $r$, of $0.18$), meanwhile there is a considerably higher positive correlation between hospital readmission rates and foreign- trained doctors annual inflow ($r = 0.43$). Similarly, we also observe a negative correlation when it comes to the percentage of patients having enough consultation time ($r= -0.36$). This implies that lower quality of both acute and general healthcare predicts a higher number of foreign-trained doctors annual inflow, which is consistent with our hypothesis. \n",
    "\n",
    "Contrary to our hypothesis, there is a negative correlation of $-0.21$ between the percentage of the population having perceived bad health and foreign-trained doctors inflow. In addition, percentage of 65 years old and over population also demonstrates a week, negative correlation with doctors inflow.\n",
    "\n",
    "Given these, we will then construct regression models to verify our results and better understand the predictive power of these variables."
   ]
  },
  {
   "cell_type": "markdown",
   "id": "c32f0143-f9af-4f90-8ad0-57f70e8cc969",
   "metadata": {},
   "source": [
    "## Linear Regression Model 1: Healthcare Quality and Health Status"
   ]
  },
  {
   "cell_type": "markdown",
   "id": "79294672-a7c1-4617-9404-ad39e4ce97f0",
   "metadata": {},
   "source": [
    "To check if the correlations found above indicate good predictors for foreign doctors in healthcare quality, we used an OLS regression, where we regress Foreign-trained doctors inflow on Mortality rates, Hospital Readmission rates, Sufficient Consultation Time percentage, and Perceived Bad Health percentage."
   ]
  },
  {
   "cell_type": "code",
   "execution_count": null,
   "id": "8b1928d8-8828-4803-85ca-bb6ab5799d4a",
   "metadata": {
    "tags": []
   },
   "outputs": [],
   "source": [
    "from sklearn import linear_model\n",
    "\n",
    "X = imm_qual[[\"Mortality\", \"Enough Consultation Time\", \"Bad Health\", \"Hospital Readmission\", \"Population: 65 years old and over\"]]\n",
    "y = imm_qual['Foreign-trained doctors - Annual inflow'] \n",
    "\n",
    "X = sm.add_constant(X)\n",
    "doc_imm_model = sm.OLS(y, X)\n",
    "doc_imm_result = doc_imm_model.fit()\n",
    "\n",
    "print(doc_imm_result.summary())"
   ]
  },
  {
   "cell_type": "markdown",
   "id": "5ac3d402-0519-4ade-9f2d-3bef0dab8ae8",
   "metadata": {},
   "source": [
    "The OLS gives us a similar but not identical relationship between the independent variables and the annual inflow of foreign doctors in comparison to just using correlations. \n",
    "\n",
    "The first thing to notice is that the adjusted $R^2$ is $0.551$, implying that our model has strong predictive power. However, every coefficient has a p-value greater than $0.10$, meaning that we cannot rely on them, even on a 90% level of confidence.\n",
    "\n",
    "As expected, indicators of poor acute care quality (mortality and hospital readmission) predict a higher number of doctors inflow, which supports our hypothesis. Despite having a negative correlation with doctors inflow, after controlling for other factors, the percentage of population over 65 years old is associated with higher number of doctors inflow according to the regression result. This is also consistent with our hypothesis. \n",
    "\n",
    "Nevertheless, the linear regression model reveals two predictors that contradict our hypothesis. It indicates that a higher percentage of patients reporting sufficient consultation time, which reflects better general care quality, is associated with an increased inflow of doctors. On the other hand, a higher percentage of the population perceiving their health as poor predicts a slower doctor inflow."
   ]
  },
  {
   "cell_type": "markdown",
   "id": "25539ee6-a9c1-4bd2-9a2d-69df8eb01668",
   "metadata": {},
   "source": [
    "## Linear Regression Model 2: Adding Domestically-trained Doctors"
   ]
  },
  {
   "cell_type": "code",
   "execution_count": null,
   "id": "051df41d-6143-47d6-b298-26f7721bf241",
   "metadata": {
    "tags": []
   },
   "outputs": [],
   "source": [
    "X_2 = imm_qual[[\"Mortality\", \"Enough Consultation Time\", \"Bad Health\", \"Hospital Readmission\",\"Population: 65 years old and over\", \"Domestically-trained doctors\"]]\n",
    "y_2 = imm_qual['Foreign-trained doctors - Annual inflow'] \n",
    "\n",
    "X_2 = sm.add_constant(X_2)\n",
    "doc_imm_model = sm.OLS(y_2, X_2)\n",
    "doc_imm_result = doc_imm_model.fit()\n",
    "\n",
    "print(doc_imm_result.summary())"
   ]
  },
  {
   "cell_type": "markdown",
   "id": "3ad8ff87-be7c-4b60-9942-9abf1dc304d5",
   "metadata": {},
   "source": [
    "As discussed above, to further test the predictive power of our variables of interest, we now include the number of domestically-trained doctors, which reflects sizes of healthcare system, in our regression model. \n",
    "\n",
    "We find that the number of domestically-trained doctors has the only statistically significant coefficient estimate in our model. Adding this variable has introduced substantial changes to the results, most of which are not in line with our original hypothesis.\n",
    "\n",
    "Lower acute care quality, as reflected by higher mortality, and higher readmission rate now predict slower doctors inflow. A higher percentage of elderly population is also associated with a lower number doctors inflow. Both results challenge our hypothesis. Predictions from general care quality (enough consultation time) and percentage of population with perceived bad health continue to be consistent with the hypothesis. \n",
    "\n",
    "The significant changes to the coefficients estimates of healthcare quality and health status indicators, as well as their lack of statistical significance, suggest that they may not be strong indicators of healthcare professionals migration. In contrast, adding the number of domestically trained doctors to the model has introduced a statistically significant coefficient and a considerable increase in $R^2$, revealing its strong predictive power. "
   ]
  },
  {
   "cell_type": "markdown",
   "id": "7264b5bf-959a-426c-bf5b-7e29a8673da6",
   "metadata": {},
   "source": [
    "### Lasso Regression"
   ]
  },
  {
   "cell_type": "code",
   "execution_count": null,
   "id": "be5a67f1-e109-42eb-bd49-b504d1b42a3f",
   "metadata": {
    "tags": []
   },
   "outputs": [],
   "source": [
    "lasso_coefs_dict = {}\n",
    "for alpha in [1, 5, 10, 15]:\n",
    "    lasso_model = linear_model.Lasso(alpha)\n",
    "    lasso_model.fit(X_2, y_2)\n",
    "    lasso_coefs_dict[f'alpha = {alpha}'] = pd.Series(lasso_model.coef_, index = list(X_2))\n",
    "    \n",
    "coefs_comparison = pd.DataFrame(lasso_coefs_dict)\n",
    "coefs_comparison"
   ]
  },
  {
   "cell_type": "markdown",
   "id": "5a79e03c-aac8-4632-a159-4d1b66dcfe05",
   "metadata": {},
   "source": [
    "The Lasso regression results further reveal the predictive power of our variables of interest. When the penalty parameter, alpha, increases to 15, the coefficient of 'Mortality' drops to zero, indicating that it is not a reliable predictor.\n",
    "\n",
    "Conversely, the coefficients for 'Bad Health' and 'Enough Consultation Time' decrease with higher alpha values but remain non-zero even at alpha = 15, implying that these variables retain some predictive relevance. This indicates that perceptions of general healthcare quality (reflected by consultation time) and the prevalence of perceived bad health within a population are somewhat consistent predictors of the inflow of healthcare professionals.\n",
    "\n",
    "The coefficient for 'Hospital Readmission' also decreases with higher alpha but does not shrink to zero, which suggests that it maintains some predictive capability. However, given the overall downward trend in coefficient size with increased alpha values, we should interpret the significance of 'Hospital Readmission' with caution, as its predictive power may not be robust across different model specifications.\n",
    "\n",
    "'Domestically-trained doctors' remain a relatively stable predictor across all alpha levels, indicating that the size of the domestic healthcare workforce is a consistently significant factor in predicting healthcare professional migration."
   ]
  },
  {
   "cell_type": "markdown",
   "id": "785267d9-76be-4029-a499-aa6af08c8cbd",
   "metadata": {},
   "source": [
    "### Results\n",
    "Our analysis has revealed that while healthcare quality and health status variables have shown inconsistent and statistically insignificant results in predicting healthcare professional migration, based on the Lasso regression results, there is evidence to suggest that some of these factors still hold predictive relevance. \n",
    "\n",
    "The results of our model cannot confirm the original hypothesis. However, the analysis reveals that foreign doctors inflow may be attributed to and more consistently predicted by other factors, such as the size of a healthcare system. In the remaining parts of the project, we will delve deeper into the diverse factors that predict healthcare professionals' migration. "
   ]
  },
  {
   "cell_type": "markdown",
   "id": "fdbd9ba3-c13e-42a0-94ca-c9cfc8082f48",
   "metadata": {},
   "source": [
    "## Insurance, Healthcare Spending, and Remuneration as Predictive Factors of Healthcare Professional Migration"
   ]
  },
  {
   "cell_type": "markdown",
   "id": "f64bf059-bbcf-4d99-84df-9c6d5d750d34",
   "metadata": {},
   "source": [
    "This section investigates the predictive power and effects of government insurance, healthcare spending per capita, and healthcare professional remuneration on the migration of foreign healthcare professionals. While economic theory suggests a positive relationship between remuneration and migration, as healthcare workers seek better pay, it is unclear how government insurance will come into play. It is likely that high healthcare spending is related to high healthcare professional remuneration, so the relationships should be similar. As this is a purely predictive analysis, we are not concerned with multicollinearity. \n",
    "\n",
    "For this analysis it was necessary to remove the GP remuneration data due to a low number of observations, so we will use specialist remuneration as a proxy for overall physician salary. When the relationship between healthcare spending and our dependent variables of interest was first observed, the relationship suggested nonlinearity, so the logarithm was taken. The data on doctor and nurse inflow was highly skewed, but taking logarithms also resolved this. Since the data is over several years, we take the average of the data for each country to account for outlier years and prevent autocorrelation."
   ]
  },
  {
   "cell_type": "code",
   "execution_count": null,
   "id": "f87724a3-d9f8-4a5f-a55c-cf6d718ed3e3",
   "metadata": {
    "tags": []
   },
   "outputs": [],
   "source": [
    "hlth_percap_ppp = health_expen[\"Per capita, current prices, current PPPs\"][\"Current expenditure on health (all functions)\"]\n",
    "nur_sal_usd = health_resor[\"Salaried, income, PPP for private consumption, in US$\"][\"Remuneration of hospital nurses\"]\n",
    "spec_sal_usd = health_resor[\"Salaried, income, PPP for private consumption, in US$\"][\"Remuneration of specialists\"]\n",
    "gov_hi_pct = social_proc[\"% of total population\"][\"Government/compulsory health insurance coverage\"]\n",
    "for_doc_pct = worker_migr[\"% of foreign-trained doctors\"]\n",
    "for_nur_pct = worker_migr[\"% of foreign-trained nurses\"]\n",
    "for_doc_inf = worker_migr[\"Foreign-trained doctors - Annual inflow\"]\n",
    "for_nur_inf = worker_migr[\"Foreign-trained nurses - Annual inflow\"]"
   ]
  },
  {
   "cell_type": "code",
   "execution_count": null,
   "id": "f3eb0de9-6ad3-498b-9e7b-52f07a148d29",
   "metadata": {
    "tags": []
   },
   "outputs": [],
   "source": [
    "in_hc_rem = pd.concat([hlth_percap_ppp,spec_sal_usd,nur_sal_usd,gov_hi_pct,for_doc_pct,for_doc_inf,for_nur_pct,for_nur_inf],axis=1)\n",
    "in_hc_rem = in_hc_rem.groupby('Country').mean()\n",
    "in_hc_rem[\"Current expenditure on health (all functions)\"] = np.log(in_hc_rem[\"Current expenditure on health (all functions)\"])\n",
    "in_hc_rem[\"Foreign-trained doctors - Annual inflow\"] = np.log(in_hc_rem[\"Foreign-trained doctors - Annual inflow\"])\n",
    "in_hc_rem[\"Foreign-trained nurses - Annual inflow\"] = np.log(in_hc_rem[\"Foreign-trained nurses - Annual inflow\"])\n",
    "in_hc_rem = in_hc_rem.rename(columns = {\"Current expenditure on health (all functions)\":\"log(Per capita current expenditure on health (PPP))\",\n",
    "                                       \"Foreign-trained doctors - Annual inflow\":\"log(Foreign-trained doctors - Annual inflow)\",\n",
    "                                       \"Foreign-trained nurses - Annual inflow\":\"log(Foreign-trained nurses - Annual inflow)\"})"
   ]
  },
  {
   "cell_type": "markdown",
   "id": "f148c162-bdcc-493a-8b00-4f8663fe6be8",
   "metadata": {},
   "source": [
    "After combining all the data, we now have `in_hc_rem` which contains the remuneration of healthcare professionals, expenditure on healthcare, percentage of the population covered by government health insurance, percent of healthcare professionals that are from other countries, and inflow of healthcare professionals for each country."
   ]
  },
  {
   "cell_type": "code",
   "execution_count": null,
   "id": "b722f97b-e4c5-4f9a-8bb1-618ee07f31f3",
   "metadata": {
    "tags": []
   },
   "outputs": [],
   "source": [
    "doc_inf_pred = in_hc_rem[[\"log(Per capita current expenditure on health (PPP))\",\"Remuneration of specialists\",\n",
    "                          \"Government/compulsory health insurance coverage\",\"log(Foreign-trained doctors - Annual inflow)\"]].dropna()\n",
    "\n",
    "doc_pct_pred = in_hc_rem[[\"log(Per capita current expenditure on health (PPP))\",\"Remuneration of specialists\",\n",
    "                          \"Government/compulsory health insurance coverage\",\"% of foreign-trained doctors\"]].dropna()\n",
    "\n",
    "nur_inf_pred = in_hc_rem[[\"log(Per capita current expenditure on health (PPP))\",\"Remuneration of hospital nurses\",\n",
    "                          \"Government/compulsory health insurance coverage\",\"log(Foreign-trained nurses - Annual inflow)\"]].dropna()\n",
    "\n",
    "nur_pct_pred = in_hc_rem[[\"log(Per capita current expenditure on health (PPP))\",\"Remuneration of hospital nurses\",\n",
    "                          \"Government/compulsory health insurance coverage\",\"% of foreign-trained nurses\"]].dropna()"
   ]
  },
  {
   "cell_type": "markdown",
   "id": "4ebfb85f-a4c0-4566-9069-21a78374e905",
   "metadata": {},
   "source": [
    "### Correlations Between all Factors"
   ]
  },
  {
   "cell_type": "markdown",
   "id": "5e40dfe8-d228-4507-a24f-1ead1aef3b62",
   "metadata": {},
   "source": [
    "We begin with a correlation matrix, as it provides a starting point for the links we may observe among foreign-trained health workers and expenditure."
   ]
  },
  {
   "cell_type": "code",
   "execution_count": null,
   "id": "23149bb2-cf8b-4665-8ddc-c02c3388695d",
   "metadata": {
    "tags": []
   },
   "outputs": [],
   "source": [
    "in_hc_rem_corr  = in_hc_rem.corr()\n",
    "\n",
    "plt.figure(figsize=(7.5, 6))  \n",
    "sns.heatmap(in_hc_rem_corr, annot=True, fmt=\".2f\", cmap=\"coolwarm\", cbar=False)\n",
    "\n",
    "plt.xticks(rotation=45, ha='right')\n",
    "plt.yticks(rotation=0)\n",
    "plt.title('Correlation of foreign healthcare worker migration, healthcare \\n worker remuneration, healthcare spending, and government insurance')\n",
    "\n",
    "plt.show()"
   ]
  },
  {
   "cell_type": "markdown",
   "id": "7f4fd4ab-0ad7-4880-b5bd-e476de8b6668",
   "metadata": {},
   "source": [
    "All factors are positively correlated with each other, except for government insurance coverage which is negatively correlated with most other factors. The correlations for remuneration of both doctors and nurses are consistent with economic theory, suggesting foreign-trained healthcare workers behave as rational economic agents. "
   ]
  },
  {
   "cell_type": "markdown",
   "id": "d91d6230-d50e-4167-939d-c3622253369c",
   "metadata": {},
   "source": [
    "### Predictive Models\n",
    "\n",
    "To further predict the behavior of foreign-trained healthcare workers, we generate regressions of migration based on government insurance, healthcare spending, and remuneration."
   ]
  },
  {
   "cell_type": "code",
   "execution_count": null,
   "id": "e6bbae41-9bbd-4532-9374-8bc9854320f3",
   "metadata": {
    "tags": []
   },
   "outputs": [],
   "source": [
    "x_docinf = doc_inf_pred.loc[:,~doc_inf_pred.columns.isin([\"log(Foreign-trained doctors - Annual inflow)\"])]\n",
    "y_docinf = doc_inf_pred[\"log(Foreign-trained doctors - Annual inflow)\"]\n",
    "\n",
    "x_docinf = sm.add_constant(x_docinf)\n",
    "x_docinf_model = sm.OLS(y_docinf, x_docinf)\n",
    "x_docinf_result = x_docinf_model.fit()\n",
    "\n",
    "print(x_docinf_result.summary())"
   ]
  },
  {
   "cell_type": "markdown",
   "id": "e3781b0e-2753-4287-a4be-b6161cae5683",
   "metadata": {},
   "source": [
    "**Interpretation**\n",
    "\n",
    "A 1% increase in per capita health spending gives a 1.95% increase in foreign doctor inflow, a $1000 increase in specialist remuneration gives a 1.92% increase in foreign doctor inflow, and a change in government healthcare coverage is insignificant."
   ]
  },
  {
   "cell_type": "code",
   "execution_count": null,
   "id": "38652c6f-4c8a-4d49-aa07-0b97e551108c",
   "metadata": {
    "tags": []
   },
   "outputs": [],
   "source": [
    "x_docpct = doc_pct_pred.loc[:,~doc_pct_pred.columns.isin([\"% of foreign-trained doctors\"])]\n",
    "y_docpct = doc_pct_pred[\"% of foreign-trained doctors\"]\n",
    "\n",
    "x_docpct = sm.add_constant(x_docpct)\n",
    "x_docpct_model = sm.OLS(y_docpct, x_docpct)\n",
    "x_docpct_result = x_docpct_model.fit()\n",
    "\n",
    "print(x_docpct_result.summary())"
   ]
  },
  {
   "cell_type": "markdown",
   "id": "79345963-a0ba-4346-8839-269813fb7550",
   "metadata": {},
   "source": [
    "**Interpretation**\n",
    "\n",
    "A 1% increase in per capita health spending gives a 0.15 percentile point increase in foreign doctor percentage, an increase in specialist remuneration is insignificant, and a change in government healthcare coverage is insignificant."
   ]
  },
  {
   "cell_type": "code",
   "execution_count": null,
   "id": "a0e1b458-2d14-4cfd-b392-ba21c82a31b9",
   "metadata": {
    "tags": []
   },
   "outputs": [],
   "source": [
    "x_nurinf = nur_inf_pred.loc[:,~nur_inf_pred.columns.isin([\"log(Foreign-trained nurses - Annual inflow)\"])]\n",
    "y_nurinf = nur_inf_pred[\"log(Foreign-trained nurses - Annual inflow)\"]\n",
    "\n",
    "x_nurinf = sm.add_constant(x_nurinf)\n",
    "x_nurinf_model = sm.OLS(y_nurinf, x_nurinf)\n",
    "x_nurinf_result = x_nurinf_model.fit()\n",
    "\n",
    "print(x_nurinf_result.summary())"
   ]
  },
  {
   "cell_type": "markdown",
   "id": "4f0f0d8a-4f5b-4c08-a7a2-b99d937124c2",
   "metadata": {},
   "source": [
    "**Interpretation**\n",
    "\n",
    "A 1% increase in per capita health spending gives a 1.29% increase in foreign nurse inflow (marginally significant), a $1000 increase in hospital nurse remuneration gives a 8.27% increase in foreign nurse inflow, and a change in government healthcare coverage is insignificant."
   ]
  },
  {
   "cell_type": "code",
   "execution_count": null,
   "id": "c14ebf65-c933-4f1c-b637-f1ab6ec2b502",
   "metadata": {
    "tags": []
   },
   "outputs": [],
   "source": [
    "x_nurpct = nur_pct_pred.loc[:,~nur_pct_pred.columns.isin([\"% of foreign-trained nurses\"])]\n",
    "y_nurpct = nur_pct_pred[\"% of foreign-trained nurses\"]\n",
    "\n",
    "x_nurpct = sm.add_constant(x_nurpct)\n",
    "x_nurpct_model = sm.OLS(y_nurpct, x_nurpct)\n",
    "x_nurpct_result = x_nurpct_model.fit()\n",
    "\n",
    "print(x_nurpct_result.summary())"
   ]
  },
  {
   "cell_type": "markdown",
   "id": "4c3d65c9-a2fb-4a98-a9a1-48d2391ff749",
   "metadata": {},
   "source": [
    "**Interpretation**\n",
    "\n",
    "No results from this regression are significant. This regression also has a very low adjusted R-squared."
   ]
  },
  {
   "cell_type": "markdown",
   "id": "1dbe2edc-9f1d-457c-8270-91ca17ccde6e",
   "metadata": {},
   "source": [
    "### Results\n",
    "We find that per capita expenditure on health is significant at the 10% level for the inflow of foreign doctors and the percentage of foreign doctors, and that it is marginally significant (at the 15% level) for the inflow of foreign nurses. It has no significant prediction power for the percentage of foreign trained nurses. This aligns with our expectation that higher healthcare spending is predictive of healthcare worker immigration.\n",
    "\n",
    "We also find that remuneration of specialists is a significant predictor of foreign doctor inflow but not foreign doctor percentage, and that remuneration of hospital nurses is a significant predictor of foreign nurse inflow but not foreign nurse percentage. This aligns with economic theory; workers flow to higher wages.\n",
    "\n",
    "Government health care coverage was an insignificant predictor of all factors, which is likely due to the low level of variation in the data.\n",
    "\n",
    "Three of the four regressions have high adjusted R-square values, suggesting that these predictors collectively explain a significant amount of the variation of all factors except the percentage of foreign trained nurses."
   ]
  },
  {
   "cell_type": "markdown",
   "id": "2836e0f5-e8a4-4b3b-9b10-85e660f65cdb",
   "metadata": {},
   "source": [
    "## Relationship Between Domestic and Foreign-Trained Medical Professionals"
   ]
  },
  {
   "cell_type": "markdown",
   "id": "1b319cf7-9676-4f50-94a6-b86c3ca76317",
   "metadata": {},
   "source": [
    "While we have mentioned the proportions of local and foreign healthcare professionals before, being able to visualize each country's distribution simultaneously provides a reference point about the scale at which foreign-trained healthcare professionals impact their field, i.e. visualizing if foreign-trained healthcare professionals account for 10% of the industry or 40% of the industry may help us observe the scope at which our findings operate.\n",
    "\n",
    "To do this we use the `worker_migr` dataframe to obtain data suitable for plotting and created `worker_migr_to_plot`, where we calculated and filtered for values regarding the proportion of domestically-trained healthcare workers and the proportion of foreign-trained healthcare workers."
   ]
  },
  {
   "cell_type": "code",
   "execution_count": null,
   "id": "84cbb473-ba62-4a7e-939c-d73364fc4cc6",
   "metadata": {
    "tags": []
   },
   "outputs": [],
   "source": [
    "#create new column for percentage of domestically trained healthcare workers\n",
    "#sum domestic trained doctors and nurses, divide by total\n",
    "worker_migr['%_of_domestic_trained_healthcare_workers'] = (\n",
    "    (worker_migr['Domestically-trained doctors'] + worker_migr['Domestically-trained nurses']) /\n",
    "    (worker_migr['Total number of doctors'] + worker_migr['Total number of nurses'])) * 100\n",
    "\n",
    "worker_migr['%_of_foreign_trained_healthcare_workers'] = (\n",
    "    (worker_migr['Foreign-trained doctors - Stock'] + worker_migr['Foreign-trained nurses - Stock']) /\n",
    "    (worker_migr['Total number of doctors'] + worker_migr['Total number of nurses'])) * 100\n",
    "\n",
    "worker_migr = worker_migr.reset_index()"
   ]
  },
  {
   "cell_type": "code",
   "execution_count": null,
   "id": "71faf3bd-1c92-42f9-b35d-a625e806a66a",
   "metadata": {
    "tags": []
   },
   "outputs": [],
   "source": [
    "worker_migr_to_plot = worker_migr[['Country', 'Year', '%_of_domestic_trained_healthcare_workers',\n",
    "                                    '%_of_foreign_trained_healthcare_workers']].groupby('Country').mean().dropna().reset_index()\n",
    "\n",
    "worker_migr_to_plot.head()"
   ]
  },
  {
   "cell_type": "code",
   "execution_count": null,
   "id": "0b44bd0f-f6c6-4389-be4c-21c6cb007e11",
   "metadata": {
    "tags": []
   },
   "outputs": [],
   "source": [
    "bar_width = 0.4\n",
    "\n",
    "# bar positions\n",
    "r1 = np.arange(len(worker_migr_to_plot['Country']))\n",
    "r2 = [x + bar_width for x in r1]\n",
    "\n",
    "plt.figure(figsize=(11, 6.25))\n",
    "\n",
    "#domestic healthcare workers\n",
    "plt.bar(r1, worker_migr_to_plot['%_of_domestic_trained_healthcare_workers'], color='blue', width=bar_width, label='% of Domestic Trained Healthcare Workers')\n",
    "\n",
    "#foreign healthcare workers\n",
    "plt.bar(r2, worker_migr_to_plot['%_of_foreign_trained_healthcare_workers'], color='orange', width=bar_width, label='% of Foreign Trained Healthcare Workers')\n",
    "\n",
    "plt.xticks([r + bar_width/2 for r in range(len(worker_migr_to_plot['Country']))], worker_migr_to_plot['Country'], rotation=90, size = 15)\n",
    "\n",
    "plt.ylabel('Percentage', size = 13)\n",
    "plt.title('Percentage of Domestic and Foreign Trained Healthcare Workers by Country', size = 15)\n",
    "plt.legend()\n",
    "plt.tight_layout()\n",
    "plt.show()"
   ]
  },
  {
   "cell_type": "markdown",
   "id": "cf28176b-3488-404e-b845-514200e529c9",
   "metadata": {},
   "source": [
    "As seen in the figure above, most countries' healthcare workforce (doctors and nurses) is predominantly local. However, some interesting patterns emerge. Ireland, Israel, New Zealand, Australia, and Switzerland stand out with over 20% of their healthcare workforce being foreign. While many factors affect these percentages, the OECD's 2015 Health Glance provides some insight; in Israel's case, many licenses are issued to doctors born domestically but who completed their training abroad. Although less prevalent, this pattern is also present in Norway, helping to explain their relatively high percentage of foreign trained health care workers. \n",
    "\n",
    "An interesting case study is Switzerland. Several factors appear to influence their healthcare workforce composition. Despite not being in the European Union, there is a free movement of people agreement between Switzerland and the EU. Switzerland's high quality of living and high salaries are likely appealing. This is evidenced by the large majority of these foreign-trained doctors being from neighboring countries, such as France and Italy(OFSP, 2023). Additionally, Switzerland has not trained enough doctors leading to a current shortage of domestically-educated health care professionals."
   ]
  },
  {
   "cell_type": "markdown",
   "id": "fa9e4cef-ad8d-4df1-bdad-b06b63b15aed",
   "metadata": {},
   "source": [
    "## Maps\n",
    "\n",
    "This section contains two interactive maps: one showing total annual inflow of healthcare professionals and the other showing the percentage of foreign healthcare workers. Hover over countries on the maps to see breakdowns by profession."
   ]
  },
  {
   "cell_type": "code",
   "execution_count": null,
   "id": "0b5a0a2e-4efd-4673-bd15-40e3197f53de",
   "metadata": {
    "tags": []
   },
   "outputs": [],
   "source": [
    "map_data = worker_migr[['Country', 'Year', '%_of_domestic_trained_healthcare_workers',\n",
    "                        '%_of_foreign_trained_healthcare_workers', \"% of foreign-trained doctors\",\n",
    "                        \"% of foreign-trained nurses\", \"Foreign-trained doctors - Annual inflow\",\n",
    "                        \"Foreign-trained nurses - Annual inflow\"]].groupby('Country').mean().reset_index()\n",
    "\n",
    "map_data[\"Total foreign healthcare professional annual inflow\"] = map_data[\"Foreign-trained doctors - Annual inflow\"]+map_data[\"Foreign-trained nurses - Annual inflow\"]\n",
    "world = gpd.read_file(gpd.datasets.get_path('naturalearth_lowres'))\n",
    "\n",
    "world['name'] = world['name'].replace({'United States of America': 'United States', 'Turkey': 'Türkiye'}) \n",
    "\n",
    "merged_data = world.merge(map_data, how='left', left_on='name', right_on='Country')"
   ]
  },
  {
   "cell_type": "code",
   "execution_count": null,
   "id": "8671e405-02f6-4a9b-831a-ef63f376f26b",
   "metadata": {
    "tags": []
   },
   "outputs": [],
   "source": [
    "geo_source = GeoJSONDataSource(geojson=merged_data.to_json())\n",
    "color_mapper = LinearColorMapper(palette=OrRd[9][::-1], low=0, high=15000)\n",
    "\n",
    "hover = HoverTool(tooltips=[('Country', '@name'),\n",
    "                            ('Total foreign healthcare professional annual inflow', '@{Total foreign healthcare professional annual inflow}{0.2f}'),\n",
    "                            ('Annual inflow of foreign-trained doctors', '@{Foreign-trained doctors - Annual inflow}{0.2f}'),\n",
    "                            ('Annual inflow of foreign-trained nurses', '@{Foreign-trained nurses - Annual inflow}{0.2f}')])\n",
    "\n",
    "p = figure(title=\"Map of OECD Healthcare Immigration (Average Annual Inflow)\", align = 'center', tools=[hover], width=1000, height=600)\n",
    "p.title.align = 'center'\n",
    "p.patches('xs', 'ys', source=geo_source,\n",
    "          fill_color={'field': 'Total foreign healthcare professional annual inflow', 'transform': color_mapper},\n",
    "          line_color='black', line_width=0.5)\n",
    "\n",
    "color_bar = ColorBar(color_mapper=color_mapper, label_standoff=8, width=500, height=20,\n",
    "                     border_line_color=None, location='bottom_center', orientation='horizontal', \n",
    "                     title=\"Total foreign healthcare professional annual inflow\")\n",
    "\n",
    "footnote = Label(x=10, y=5, x_units='screen', y_units='screen',\n",
    "                 text=\"Source: OECD (2023)\", render_mode='css',\n",
    "                 text_font_size='10pt', text_color='gray')\n",
    "\n",
    "p.add_layout(footnote)\n",
    "p.add_layout(color_bar, 'below')\n",
    "\n",
    "output_notebook()\n",
    "show(p)"
   ]
  },
  {
   "cell_type": "code",
   "execution_count": null,
   "id": "60ba058a-5947-4ccd-841f-c08f0dc3e3f4",
   "metadata": {
    "tags": []
   },
   "outputs": [],
   "source": [
    "geo_source = GeoJSONDataSource(geojson=merged_data.to_json())\n",
    "color_mapper = LinearColorMapper(palette=OrRd[9][::-1], low=0, high=45)\n",
    "\n",
    "hover = HoverTool(tooltips=[('Country', '@name'),\n",
    "                            ('% of foreign-trained healthcare workers', '@{%_of_foreign_trained_healthcare_workers}{0.2f}%'),\n",
    "                            ('% of foreign-trained doctors', '@{% of foreign-trained doctors}{0.2f}%'),\n",
    "                            ('% of foreign-trained nurses', '@{% of foreign-trained nurses}{0.2f}%')])\n",
    "\n",
    "q = figure(title=\"Map of OECD Healthcare Immigration (% Foreign Trained)\", align = 'center', tools=[hover], width=1000, height=600)\n",
    "q.title.align = 'center'\n",
    "q.patches('xs', 'ys', source=geo_source,\n",
    "          fill_color={'field': '%_of_foreign_trained_healthcare_workers', 'transform': color_mapper},\n",
    "          line_color='black', line_width=0.5)\n",
    "\n",
    "color_bar = ColorBar(color_mapper=color_mapper, label_standoff=8, width=500, height=20,\n",
    "                     border_line_color=None, location='bottom_center', orientation='horizontal', \n",
    "                     title=\"% of foreign-trained healthcare workers\")\n",
    "\n",
    "footnote = Label(x=10, y=5, x_units='screen', y_units='screen',\n",
    "                 text=\"Source: OECD (2023)\", render_mode='css',\n",
    "                 text_font_size='10pt', text_color='gray')\n",
    "\n",
    "q.add_layout(footnote)\n",
    "q.add_layout(color_bar, 'below')\n",
    "\n",
    "output_notebook()\n",
    "show(q)"
   ]
  },
  {
   "cell_type": "markdown",
   "id": "310f995e-36e0-4f31-b074-b39d5e52b2a9",
   "metadata": {},
   "source": [
    "The maps succinctly summarize the observations we used as a starting point for this project, as we can visualize the magnitude of the annual inflow of foreign-trained healthcare workers, as well as the proportions of said healthcare workers in OECD countries. It is from here where, due to the differences in values, we thought we could compare the performance of healthcare systems with the inflow and fraction of foreign-trained healthcare workers."
   ]
  },
  {
   "cell_type": "markdown",
   "id": "be23979d-3264-441e-b543-1f52a2fa0487",
   "metadata": {},
   "source": [
    "## Conclusion\n",
    "Throughout this project we explored the relationship among healthcare systems and the migration of healthcare professionals in OECD countries. We started by comparing health quality (through mortality and hospital readmission rates), health status, and patient satisfaction (through percentage of the population with perceived with bad health and proportion of patients with enough consultation time) with annual inflow of foreign healthcare workers. \n",
    "The results of this analysis were inconsistent, as indicated by the significant changes to the coefficient estimates after controlling for the number of domestically-trained doctors and the Lasso regression results. \n",
    "\n",
    "Then we explored the behavior of foreign-trained healthcare workers with respect to healthcare spending, remuneration of healthcare workers, and government insurance. The results aligned with economic theory, as greater remuneration and expenditure predicted an increase in the annual inflow and proportion of foreign trained healthcare workers. However, insurance had an insignificant relationship.\n",
    "\n",
    "Next we displayed the proportions of domestic versus foreign trained healthcare workers, and found that the proportions are predominantly domestic, but there were some countries with considerably higher rates (Israel, Ireland, New Zealand, Australia, and Switzerland).\n",
    "\n",
    "Lastly, we plotted interactive maps in order to visualize the distribution and magnitude of healthcare professional inflows.\n",
    "\n",
    "Further research can focus on the impacts of migration on the countries where healthcare professionals emigrated from, and examine if the outcomes in the receiving countries differ based on the distribution of countries of origin of their immigrants. "
   ]
  },
  {
   "cell_type": "markdown",
   "id": "dd330003-ef2e-4def-a21e-68a905d6e164",
   "metadata": {},
   "source": [
    "## References\n",
    "Global Affairs Canada. (2017). Global Health and Development. Retrieved from https://www.international.gc.ca/world-monde/issues_development-enjeux_developpement/global_health-sante_mondiale/health_development-sante_developpement.aspx?\n",
    "lang=eng\n",
    "\n",
    "OECD (2023), International Migration Outlook 2023, OECD Publishing, Paris, https://doi.org/10.1787/b0f40584-en\n",
    "\n",
    "OECD (2023), *Demographic References*, OECD.Stat, https://stats.oecd.org/Index.aspx?DataSetCode=HEALTH_DEMR\n",
    "\n",
    "OECD (2023), *Economic References*, OECD.Stat, https://stats.oecd.org/Index.aspx?DataSetCode=HEALTH_ECOR\n",
    "\n",
    "OECD (2023), *Health Expenditure and Financing*, OECD.Stat, https://stats.oecd.org/Index.aspx?DataSetCode=SHA\n",
    "\n",
    "OECD (2015), *International migration of doctors*, in Health at a Glance 2015: OECD Indicators, OECD\n",
    "Publishing, Paris.\n",
    "\n",
    "OECD (2023), *Healthcare Quality Indicators*, OECD.Stat, https://stats.oecd.org/Index.aspx?DataSetCode=HEALTH_HCQI\n",
    "\n",
    "OECD (2023), *Healthcare Resources*, OECD.Stat, https://stats.oecd.org/Index.aspx?DataSetCode=HEALTH_REAC\n",
    "\n",
    "OECD (2023), *Healthcare Utilization* OECD.Stat, https://stats.oecd.org/Index.aspx?DataSetCode=HEALTH_PROC\n",
    "\n",
    "OECD (2023), *Social Protection*, OECD.Stat, https://stats.oecd.org/Index.aspx?DataSetCode=HEALTH_PROT\n",
    "\n",
    "OECD (2023), *Health Workforce Migration*, OECD.Stat, https://stats.oecd.org/Index.aspx?DataSetCode=HEALTH_WFMI\n",
    "\n",
    "OFSP(2023), *Statistiques médecins*, https://www.bag.admin.ch/bag/fr/home/zahlen-und-statistiken/statistiken-berufe-im-gesundheitswesen/statistiken-medizinalberufe1/statistiken-aerztinnen-aerzte.html\n"
   ]
  }
 ],
 "metadata": {
  "kernelspec": {
   "display_name": "Python 3 (ipykernel)",
   "language": "python",
   "name": "python3"
  },
  "language_info": {
   "codemirror_mode": {
    "name": "ipython",
    "version": 3
   },
   "file_extension": ".py",
   "mimetype": "text/x-python",
   "name": "python",
   "nbconvert_exporter": "python",
   "pygments_lexer": "ipython3",
   "version": "3.10.8"
  }
 },
 "nbformat": 4,
 "nbformat_minor": 5
}
