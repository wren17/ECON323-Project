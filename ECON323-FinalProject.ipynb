{
 "cells": [
  {
   "cell_type": "markdown",
   "id": "1a85568f-4ba3-4e7a-b801-bd89971ba553",
   "metadata": {},
   "source": [
    "Begin by importing all of the csv files"
   ]
  },
  {
   "cell_type": "code",
   "execution_count": null,
   "id": "bae48a13-2e26-49a2-85e8-1fe57b1f4c15",
   "metadata": {},
   "outputs": [],
   "source": []
  }
 ],
 "metadata": {
  "kernelspec": {
   "display_name": "Python 3 (ipykernel)",
   "language": "python",
   "name": "python3"
  },
  "language_info": {
   "codemirror_mode": {
    "name": "ipython",
    "version": 3
   },
   "file_extension": ".py",
   "mimetype": "text/x-python",
   "name": "python",
   "nbconvert_exporter": "python",
   "pygments_lexer": "ipython3",
   "version": "3.10.8"
  }
 },
 "nbformat": 4,
 "nbformat_minor": 5
}
