{
 "cells": [
  {
   "cell_type": "markdown",
   "id": "be3de3ce-1df6-4e32-9107-0a7166ad58e5",
   "metadata": {},
   "source": [
    "# Healthcare on the Move: Patterns and Predictors of Medical Professional Migration in OECD Countries\n",
    "**Elijah Adrian** (student id: 90293598)\\\n",
    "**Wuyang Ren** (student id: 87924817)\\\n",
    "**Pierre Lambelet** (student id: 46419362)\\\n",
    "**Angelo Mladineo** (student id: 61846507)"
   ]
  },
  {
   "cell_type": "markdown",
   "id": "aad1973e-0bf7-4004-a5a5-f4f623b2a48d",
   "metadata": {},
   "source": [
    "## Introduction\n",
    "\n",
    "The Government of Canada states that health is an inalienable human right, crucial for sustainable development, economic prosperity, and poverty eradication, as well as being an indicator of a country's progress as health increases the likelihood for sustained growth ([Global Affairs Canada](https://www.international.gc.ca/world-monde/issues_development-enjeux_developpement/global_health-sante_mondiale/health_development-sante_developpement.aspx?lang=eng), 2017), and it is through healthcare systems where governments directly administer the health of a nation. Therefore, it is imperative to study healthcare systems, find patterns among their characteristics, and evaluate their performance constantly, to improve health outcomes for all citizens.\n",
    "\n",
    "The purpose of this project is to analyze a key aspect of healthcare systems: the national background of healthcare workers. Such that we can check if there is a significant impact on the performance of healthcare systems because of the  background of its medical professionals. \n",
    "We will focus on OECD countries specifically, because they have a comprehensive database among them, from which patterns of migration and healthcare systems' performance can be observed.\n",
    "For example, the latest OECD annual report on migration mentions that migration into OECD countries, in addition to employment of foreigners within them, has reached record high levels in 2022 ([OECD](https://www.oecd.org/migration/international-migration-outlook-1999124x.htm), 2023). \n",
    "\n",
    "Thus, in order to explore the impact of medical professionals backgrounds', this research project is divided into three points of interest with an additional section focused on maps showcasing how the migration of medical professionals looks like:\n",
    "\n",
    "- The relationship between health outcomes and migration of healthcare providers \n",
    "- Government health insurance, healthcare spending, and remuneration of medical professionals as predictive factors of healthcare professional migration\n",
    "- Relationship between domestic and foreign-trained medical professionals\n",
    "- Maps\n",
    "\n",
    "To explore these points of interest, we will use the OECD data to generate graphical representations and perform statistical analyses such that we can identify relationships in the data that indicate if foreign medical professionals are affecting healthcare systems significantly."
   ]
  },
  {
   "cell_type": "markdown",
   "id": "4a59817a-3d3d-46ae-8f90-a92e4a697f1e",
   "metadata": {},
   "source": [
    "## Data"
   ]
  },
  {
   "cell_type": "markdown",
   "id": "cc85a921-5ca5-4383-9fb5-5f9312668982",
   "metadata": {},
   "source": [
    "### Importing libraries"
   ]
  },
  {
   "cell_type": "markdown",
   "id": "a6ff5930-60f0-409d-99f9-37342d00f8a2",
   "metadata": {},
   "source": [
    "As it was mentioned in the introduction, the datasets in this project come from datasets found in [OECD data](https://data.oecd.org), but before we present and clean them, we start by importing the Python libraries that allow us to work with the data.\n",
    "\n",
    "These are:\n",
    "`math`, `pandas`, `numpy` , `geopandas`, `matplotlib.pyplot`, `seaborn`, and `statsmodels.api`.\n",
    "\n"
   ]
  },
  {
   "cell_type": "code",
   "execution_count": null,
   "id": "13481667-999f-4313-9b90-8204c2de15f7",
   "metadata": {
    "tags": []
   },
   "outputs": [
    {
     "name": "stdout",
     "output_type": "stream",
     "text": [
      "Requirement already satisfied: geopandas in /opt/conda/lib/python3.10/site-packages (0.14.3)\n",
      "Requirement already satisfied: packaging in /opt/conda/lib/python3.10/site-packages (from geopandas) (23.0)\n",
      "Requirement already satisfied: pandas>=1.4.0 in /opt/conda/lib/python3.10/site-packages (from geopandas) (1.5.3)\n",
      "Requirement already satisfied: pyproj>=3.3.0 in /opt/conda/lib/python3.10/site-packages (from geopandas) (3.6.1)\n",
      "Requirement already satisfied: shapely>=1.8.0 in /opt/conda/lib/python3.10/site-packages (from geopandas) (2.0.4)\n",
      "Requirement already satisfied: fiona>=1.8.21 in /opt/conda/lib/python3.10/site-packages (from geopandas) (1.9.6)\n",
      "Requirement already satisfied: click~=8.0 in /opt/conda/lib/python3.10/site-packages (from fiona>=1.8.21->geopandas) (8.1.3)\n",
      "Requirement already satisfied: cligj>=0.5 in /opt/conda/lib/python3.10/site-packages (from fiona>=1.8.21->geopandas) (0.7.2)\n",
      "Requirement already satisfied: six in /opt/conda/lib/python3.10/site-packages (from fiona>=1.8.21->geopandas) (1.16.0)\n",
      "Requirement already satisfied: click-plugins>=1.0 in /opt/conda/lib/python3.10/site-packages (from fiona>=1.8.21->geopandas) (1.1.1)\n",
      "Requirement already satisfied: certifi in /opt/conda/lib/python3.10/site-packages (from fiona>=1.8.21->geopandas) (2022.12.7)\n",
      "Requirement already satisfied: attrs>=19.2.0 in /opt/conda/lib/python3.10/site-packages (from fiona>=1.8.21->geopandas) (22.2.0)\n",
      "Requirement already satisfied: python-dateutil>=2.8.1 in /opt/conda/lib/python3.10/site-packages (from pandas>=1.4.0->geopandas) (2.8.2)\n",
      "Requirement already satisfied: pytz>=2020.1 in /opt/conda/lib/python3.10/site-packages (from pandas>=1.4.0->geopandas) (2022.7.1)\n",
      "Requirement already satisfied: numpy>=1.21.0 in /opt/conda/lib/python3.10/site-packages (from pandas>=1.4.0->geopandas) (1.23.5)\n"
     ]
    }
   ],
   "source": [
    "! pip install geopandas"
   ]
  },
  {
   "cell_type": "code",
   "execution_count": null,
   "id": "bae48a13-2e26-49a2-85e8-1fe57b1f4c15",
   "metadata": {
    "tags": []
   },
   "outputs": [],
   "source": [
    "import math\n",
    "import pandas as pd\n",
    "import numpy as np\n",
    "import geopandas as gpd\n",
    "import matplotlib.pyplot as plt\n",
    "import seaborn as sns\n",
    "import statsmodels.api as sm\n",
    "%matplotlib inline\n",
    "pd.set_option('display.max_columns', None)\n",
    "sns.set()"
   ]
  },
  {
   "cell_type": "markdown",
   "id": "4310b9e1-51db-48e9-8381-f2b0a76424de",
   "metadata": {},
   "source": [
    "### Loading datasets"
   ]
  },
  {
   "cell_type": "markdown",
   "id": "0cd971e0-3dc6-4e3d-a0c2-9c418b0e3633",
   "metadata": {},
   "source": [
    "Now we read all the data files from the OECD. The naming convention we use is an abbreviation of the datasets' names (for example `demo_ref_raw` stands for **demo**graphic **ref**erence data and so on) and all of them have the suffix \"raw\" in their variable name to indicate that the datasets have not been processed.\n",
    "\n"
   ]
  },
  {
   "cell_type": "code",
   "execution_count": null,
   "id": "d4bc98c3-c2eb-4fb4-ad8c-b6fbffa52985",
   "metadata": {
    "tags": []
   },
   "outputs": [],
   "source": [
    "demo_ref_raw = pd.read_csv('demographicref.csv') #demographic reference data\n",
    "econ_ref_raw = pd.read_csv('econref.csv') #economic reference data\n",
    "health_expen_raw = pd.read_csv('healthexpenditure.csv') #healthcare expenditure data\n",
    "health_qual_raw = pd.read_csv('healthquality.csv') #healthcare quality data\n",
    "health_resor_raw = pd.read_csv('healthresources.csv') #healthcare resources data\n",
    "health_util_raw = pd.read_csv('healthutil.csv') #healthcare utilization data\n",
    "social_proc_raw = pd.read_csv('socialprotection.csv') #social healthcare protection data\n",
    "worker_migr_raw = pd.read_csv('healthworkmigration.csv') #healthcare worker migration data"
   ]
  },
  {
   "cell_type": "code",
   "execution_count": null,
   "id": "9f175837-4117-4da9-b5c8-0bf2d7f5ce8b",
   "metadata": {
    "tags": []
   },
   "outputs": [],
   "source": [
    "health_stat_raw = pd.read_csv('healthstatus.csv',nrows = 284583) #health status data"
   ]
  },
  {
   "cell_type": "markdown",
   "id": "8a1f48eb-922e-4976-8b6d-de6e60e461d6",
   "metadata": {},
   "source": [
    "Note that the final dataset (*healthstatus.csv*) cannot be loaded past the 284,614th line, so in order to avoid having partial data on one variable we needed to cut approximately the last 40,000 entries."
   ]
  },
  {
   "cell_type": "markdown",
   "id": "b546fdc3-a163-4132-b8f1-bd4c2f42ab36",
   "metadata": {},
   "source": [
    "It is important to mention that all of these datasets were obtained from the [OECD database](https://data.oecd.org/).\n",
    "\n",
    "To be more precise, each dataset we include was obtained from the following sources:\n",
    "- [Demographic Reference Data](https://stats.oecd.org/Index.aspx?DataSetCode=HEALTH_DEMR)  \n",
    "- [Economic Reference Data](https://stats.oecd.org/Index.aspx?DataSetCode=HEALTH_ECOR)  \n",
    "- [Healthcare Expenditure Data](https://stats.oecd.org/Index.aspx?DataSetCode=SHA) \n",
    "- [Healthcare Quality Data](https://stats.oecd.org/Index.aspx?DataSetCode=HEALTH_HCQI)  \n",
    "- [Healthcare Resources Data](https://stats.oecd.org/Index.aspx?DataSetCode=HEALTH_REAC)  \n",
    "- [Healthcare Utilization Data](https://stats.oecd.org/Index.aspx?DataSetCode=HEALTH_PROC)  \n",
    "- [Social Healthcare Protection Data](https://stats.oecd.org/Index.aspx?DataSetCode=HEALTH_PROT)  \n",
    "- [Healthcare Worker Migration Data](https://stats.oecd.org/Index.aspx?DataSetCode=HEALTH_WFMI)  \n",
    "\n",
    "Full citations are at the end of the document."
   ]
  },
  {
   "cell_type": "markdown",
   "id": "425e0e74-0916-40ec-b096-2f4c39d912d0",
   "metadata": {},
   "source": [
    "### Data cleaning"
   ]
  },
  {
   "cell_type": "markdown",
   "id": "e6fa606c-05cc-4028-9b83-4f6dbc9e3a5e",
   "metadata": {},
   "source": [
    "We start the data cleaning process by removing unwanted columns of data. We are left with columns that we deemed relevant for our project."
   ]
  },
  {
   "cell_type": "code",
   "execution_count": null,
   "id": "fb99cfa9-e148-478a-8af3-6b35ed7bc8b3",
   "metadata": {
    "tags": []
   },
   "outputs": [],
   "source": [
    "demo_ref_col = demo_ref_raw[['Variable','Measure','Country','Year','Value']]\n",
    "econ_ref_col = econ_ref_raw[['Variable', 'Measure', 'Country','Year', 'Value']]\n",
    "health_expen_col = health_expen_raw[['Financing scheme', 'Function','Provider', 'Measure', 'Country', 'Year', 'Unit', 'Value']]\n",
    "health_qual_col = health_qual_raw[['Country','Periods','Indicator','Gender','Age Group','Value','Value.1']]\n",
    "health_resor_col = health_resor_raw[['Variable','Measure','Country','Year','Value']]\n",
    "health_util_col = health_util_raw[['Variable','Measure','Country','Year','Value']]\n",
    "social_proc_col = social_proc_raw[['Variable','Measure','Country','Year','Value']]\n",
    "worker_migr_col = worker_migr_raw[['Country','Variable','Country of origin','Year','Value']]\n",
    "health_stat_col = health_stat_raw[['Variable','Measure','Country','Year','Value']]"
   ]
  },
  {
   "cell_type": "markdown",
   "id": "daf7e9d3-8ce8-42fe-bab4-84cd4dcc0780",
   "metadata": {
    "tags": []
   },
   "source": [
    "We proceed to remove unwanted rows of data. Typically, these are rows containing data measured in units that cannot be compared between countries (e.g. in local currency or raw numbers of incidents). In addition to that, we have to remove rows containing variables with few observations or rows that are unlikely to be helpful for our purposes. Almost all data sets required this, the exceptions are `demo_ref_col` and `worker_mig_col`."
   ]
  },
  {
   "cell_type": "code",
   "execution_count": null,
   "id": "380ecc68-0e2c-4202-88f4-78974e4c67d1",
   "metadata": {
    "tags": []
   },
   "outputs": [],
   "source": [
    "econ_ref_clean = econ_ref_col.loc[(econ_ref_col['Measure']=='National currency unit per US$, PPP')|\n",
    "                       (econ_ref_col['Measure']=='/capita, US$ purchasing power parity')|\n",
    "                       (econ_ref_col['Measure']=='Million US$ at exchange rate')|\n",
    "                       (econ_ref_col['Measure']=='/capita, US$ exchange rate ')|\n",
    "                       (econ_ref_col['Measure']=='/capita, US$ purchasing power parity')]\n",
    "\n",
    "health_expen_clean = health_expen_col.loc[(health_expen_col['Measure']=='Share of gross domestic product')|\n",
    "                       (health_expen_col['Measure']=='Constant prices, OECD base year')|\n",
    "                       (health_expen_col['Measure']=='Share of current expenditure on health')|\n",
    "                       (health_expen_col['Measure']=='Per capita, current prices, current PPPs')]\n",
    "\n",
    "health_qual_clean = health_qual_col.loc[((health_qual_col['Value']=='Age-sex standardised rate per 100 000 population')|\n",
    "               (health_qual_col['Value']=='Age-sex standardised rate per 100 patients')|\n",
    "               (health_qual_col['Value']=='Age-standardised survival (%)'))|\n",
    "               (health_qual_col['Value']=='Rate per 100 deaths (%)')|\n",
    "               (health_qual_col['Value']=='Crude rate per 100 patients')|\n",
    "               (health_qual_col['Value']=='Age-sex standardised ratio')|\n",
    "               (health_qual_col['Value']=='Age-standardised survival (%)')|\n",
    "               (health_qual_col['Value']=='Ratio')|\n",
    "               (health_qual_col['Gender']=='Total')] \n",
    "\n",
    "health_qual_clean = health_qual_clean.drop(list((health_qual_clean.loc[(health_qual_clean['Periods']==\"2000-2004\")|\n",
    "                                                                      (health_qual_clean['Periods']==\"2005-2009\")|\n",
    "                                                                      (health_qual_clean['Periods']==\"2010-2014\")|\n",
    "                                                                      (health_qual_clean['Periods']==\"2015-2019\")]).index.values)) \n",
    "\n",
    "health_resor_clean = health_resor_col.loc[(health_resor_col['Measure']=='Density per 1 000 population (head counts)')|\n",
    "                (health_resor_col['Measure']=='Per million population')|\n",
    "                (health_resor_col['Measure']=='% of total physicians (head counts)')|\n",
    "                (health_resor_col['Measure']=='Per 1 000 population')|\n",
    "                (health_resor_col['Measure']=='% of physicians (head counts)')|\n",
    "                (health_resor_col['Measure']=='Per 100 000 population')|\n",
    "                (health_resor_col['Measure']=='% of total hospital employment (head counts)')|\n",
    "                (health_resor_col['Measure']=='Per 1 000 live births')|\n",
    "                (health_resor_col['Measure']=='Salaried, income, US$ exchange rate')] \n",
    "\n",
    "health_util_clean = health_util_col.loc[(health_util_col['Measure']=='Per 100 000 population')|\n",
    "               (health_util_col['Measure']=='% performed as inpatient cases')|\n",
    "               (health_util_col['Measure']=='% performed as day cases')|\n",
    "               (health_util_col['Measure']=='Per 100 000 females')|\n",
    "               (health_util_col['Measure']=='Inpatient cases per 100 000 population ')|\n",
    "               (health_util_col['Measure']=='Total procedures per 100 000 population')|\n",
    "               (health_util_col['Measure']=='Day cases per 100 000 population')|\n",
    "               (health_util_col['Measure']=='Per 1 000 population')|\n",
    "               (health_util_col['Measure']=='% of children immunised')|\n",
    "               (health_util_col['Measure']=='Waiting times from specialist assessment to treatment: Mean (days)')|\n",
    "               (health_util_col['Measure']=='Waiting times of patients on the list: % of all patients waiting more than 3 months')|\n",
    "               (health_util_col['Measure']=='Waiting times of patients on the list: Mean (days)')]\n",
    "\n",
    "social_proc_clean = social_proc_col.loc[(social_proc_col['Measure']=='% of total population')|\n",
    "                                        (social_proc_col['Measure']=='% of total population covered')] \n",
    "\n",
    "health_stat_clean = health_stat_col.loc[(health_stat_col['Measure']=='Deaths per 100 000 females (standardised rates)')|\n",
    "               (health_stat_col['Measure']=='Deaths per 100 000 females (crude rates)')|\n",
    "               (health_stat_col['Measure']=='Years lost, /100 000 females, aged 75 years old')|\n",
    "               (health_stat_col['Measure']=='Deaths per 100 000 males (standardised rates)')|\n",
    "               (health_stat_col['Measure']=='Deaths per 100 000 population (standardised rates)')|\n",
    "               (health_stat_col['Measure']=='Deaths per 100 000 males (crude rates)')|\n",
    "               (health_stat_col['Measure']=='Years lost, /100 000 males, aged 75 years old')|\n",
    "               (health_stat_col['Measure']=='Years lost, /100 000 population, aged 75 years old')|\n",
    "               (health_stat_col['Measure']=='Deaths per 100 000 population (crude rates)')|\n",
    "               (health_stat_col['Measure']=='% of population (crude rate)')|\n",
    "               (health_stat_col['Measure']=='Years')|\n",
    "               (health_stat_col['Measure']=='Incidence per 100 000 population')|\n",
    "               (health_stat_col['Measure']=='Deaths per 1 000 live births')]"
   ]
  },
  {
   "cell_type": "markdown",
   "id": "15f07a37-60c5-42a2-ac3e-4341d95358db",
   "metadata": {},
   "source": [
    "Next we want to remove all the countries not present in the migration dataframe (`worker_migr_col`) from every other dataframe. We specifically select countries with a sufficient number of observations (we deemed 50 observations as appropriate). To do this we use a for loop that appends an empty list with countries if they have sufficient migration data and are not in the list already (to avoid for repeated entries). \n",
    "\n",
    "This results in the `migr_list` list, where we have all the countries (i.e. country names) that meet our observations criteria without duplicates."
   ]
  },
  {
   "cell_type": "code",
   "execution_count": null,
   "id": "bb5a16af-3dde-4e94-9971-b13a780e5152",
   "metadata": {
    "tags": []
   },
   "outputs": [],
   "source": [
    "migr_list = []\n",
    "for country in worker_migr_col[\"Country\"]:\n",
    "    if (worker_migr_col[\"Country\"].value_counts()[country] > 50) and (country not in migr_list):\n",
    "        migr_list.append(country)"
   ]
  },
  {
   "cell_type": "markdown",
   "id": "26470569-2ff4-4f2f-aa07-b8acc1f33384",
   "metadata": {},
   "source": [
    "We put `migr_list` into action immediately by filtering for all the rows in each dataframe where the *\"Country\"* column's value is in the list."
   ]
  },
  {
   "cell_type": "code",
   "execution_count": null,
   "id": "481ad504-6cf8-4433-bb81-d39d4f531f1d",
   "metadata": {
    "tags": []
   },
   "outputs": [],
   "source": [
    "econ_ref_clean = econ_ref_clean.loc[(econ_ref_clean[\"Country\"].isin(migr_list))]\n",
    "demo_ref_clean = demo_ref_col.loc[(demo_ref_col[\"Country\"].isin(migr_list))]\n",
    "health_expen_clean = health_expen_clean.loc[(health_expen_clean[\"Country\"].isin(migr_list))]\n",
    "health_qual_clean = health_qual_clean.loc[(health_qual_clean[\"Country\"].isin(migr_list))]\n",
    "health_resor_clean = health_resor_clean.loc[(health_resor_clean[\"Country\"].isin(migr_list))]\n",
    "health_util_clean = health_util_clean.loc[(health_util_clean[\"Country\"].isin(migr_list))]\n",
    "social_proc_clean = social_proc_clean.loc[(social_proc_clean[\"Country\"].isin(migr_list))]\n",
    "health_stat_clean = health_stat_clean.loc[(health_stat_clean[\"Country\"].isin(migr_list))]"
   ]
  },
  {
   "cell_type": "markdown",
   "id": "f47815d1-d4ac-4700-8116-553c3b6befe9",
   "metadata": {},
   "source": [
    "Lastly before pivoting we want to reset all the indexes."
   ]
  },
  {
   "cell_type": "code",
   "execution_count": null,
   "id": "cfa7f23d-0956-457f-b016-3f4f996562b7",
   "metadata": {
    "tags": []
   },
   "outputs": [],
   "source": [
    "econ_ref_clean = econ_ref_clean.reset_index()\n",
    "demo_ref_clean = demo_ref_clean.reset_index()\n",
    "health_expen_clean = health_expen_clean.reset_index()\n",
    "health_qual_clean = health_qual_clean.reset_index()\n",
    "health_resor_clean = health_resor_clean.reset_index()\n",
    "health_util_clean = health_util_clean.reset_index()\n",
    "social_proc_clean = social_proc_clean.reset_index()\n",
    "health_stat_clean = health_stat_clean.reset_index()"
   ]
  },
  {
   "cell_type": "markdown",
   "id": "26cdda8b-c848-4cfe-8ebf-109fe8d4f9ad",
   "metadata": {},
   "source": [
    "It is important to note that the dataframes in the code cell above have the suffix *\"clean\"*, this is to indicate that they have been processed (i.e. cleaned) and are ready for statistical analysis. We started using this naming convention before, and while these versions of the dataframes are not the ones we would present (a more suitable display is in the next code cell), it is these versions from where most of our work will stem. "
   ]
  },
  {
   "cell_type": "markdown",
   "id": "589c5f6a-9141-4d9e-b3be-cbb7db7e6973",
   "metadata": {},
   "source": [
    "Next we have to pivot each dataframe, and merge the reference data, i.e. data that is not directly related to healthcare but that describes the countries we are going to use (such as purchasing power for `econ_ref` and employment for `demo_ref`)."
   ]
  },
  {
   "cell_type": "code",
   "execution_count": null,
   "id": "6f52e40d-24ad-461e-998a-35d3869b1e8d",
   "metadata": {
    "tags": []
   },
   "outputs": [],
   "source": [
    "worker_migr = worker_migr_col.pivot_table(index = ['Year','Country'], columns = ['Variable'], values = 'Value')\n",
    "demo_ref = demo_ref_clean.pivot_table(index = ['Year','Country'], columns = ['Measure','Variable'], values = 'Value')\n",
    "econ_ref = econ_ref_clean.pivot_table(index = ['Year','Country'], columns = ['Measure','Variable'], values = 'Value')\n",
    "health_expen = health_expen_clean.pivot_table(index = ['Year','Country'], columns = ['Measure','Function'], values = 'Value')\n",
    "health_qual = health_qual_clean.pivot_table(index = ['Periods','Country','Age Group'], columns = ['Value','Indicator'], values = 'Value.1')\n",
    "health_resor = health_resor_clean.pivot_table(index = ['Year','Country'], columns = ['Measure','Variable'], values = 'Value')\n",
    "health_util = health_util_clean.pivot_table(index = ['Year','Country'], columns = ['Measure','Variable'], values = 'Value')\n",
    "social_proc = social_proc_clean.pivot_table(index = ['Year','Country'], columns = ['Measure','Variable'], values = 'Value')\n",
    "health_stat = health_stat_clean.pivot_table(index = ['Year','Country'], columns = ['Measure','Variable'], values = 'Value')\n",
    "\n",
    "reference = pd.merge(demo_ref,econ_ref, on = ['Year','Country'])"
   ]
  },
  {
   "cell_type": "code",
   "execution_count": null,
   "id": "2160e2e5-19b0-46f8-8808-8642290436af",
   "metadata": {
    "tags": []
   },
   "outputs": [],
   "source": [
    "worker_migr"
   ]
  },
  {
   "cell_type": "markdown",
   "id": "de0e436b-3801-4871-a8f4-a9808f004fb2",
   "metadata": {
    "tags": []
   },
   "source": [
    "Here we have the final versions of our dataframes. To greatly simplify the information they present, we have eight dataframes that display data regarding healthcare, and one dataframe (the `reference` dataframe) that describes countries' economic and demographic conditions.\n",
    "\n",
    "Most dataframes have the same hierarchical index, where we have 'Year' and 'Country' as the two indices. `healt_qual` is the exception, as it uses three indices, but all dataframes follow an initial index regarding time measurements, followed by a location (\"Country\") index."
   ]
  },
  {
   "cell_type": "markdown",
   "id": "75693deb-54fa-4d0a-9edc-9ef15e3131b2",
   "metadata": {},
   "source": [
    "## Relationship Between Health Outcome and Migration of Healthcare Providers "
   ]
  },
  {
   "cell_type": "markdown",
   "id": "17ebd429-81de-46e3-a6c2-a8352bb06609",
   "metadata": {},
   "source": [
    "To gauge the quality of acute care, we use the mortality and hospital readmission rate of the following conditions:\n",
    "* Mortality within 30 days of admission\n",
    "    * AMI(heart attack)\n",
    "    * Haemorrhagic stroke\n",
    "    * Ischemic stroke\n",
    "*  Hip fracture surgery initiated within 2 calendar days after admission to the hospital \n",
    "\n",
    "We will also use questionnaire results, including the percentage of patients have enough consultation time and percentage of the population with perceived bad health conditions, as a measured of health status and patient satisfaction.\n",
    "\n",
    "We filter data from the `health_qual_clean` dataframe and remove repeated entries."
   ]
  },
  {
   "cell_type": "code",
   "execution_count": null,
   "id": "c28899f8-48c4-4d4f-bd72-e19fc8489595",
   "metadata": {
    "tags": []
   },
   "outputs": [],
   "source": [
    "mor_val =  health_qual_clean[\"Value\"] == \"Age-sex standardised rate per 100 patients\"\n",
    "hos_val =  health_qual_clean[\"Value\"] == \"Age-sex standardised rate per 100 000 population\" #Measure of mortality rate and hospital admission/readmission rate\n",
    "doc_val = health_qual_clean[\"Value\"] == \"Crude rate per 100 patients\"\n",
    "doc_gender = health_qual_clean[\"Gender\"] == \"Total\"\n",
    "\n",
    "health_qual_clean['Periods'] = pd.to_numeric(health_qual_clean['Periods'])\n",
    "yrs =  health_qual_clean[\"Periods\"] > 2014\n",
    "\n",
    "mor_ind = health_qual_clean[\"Indicator\"].str.contains(\"mortality\")\n",
    "re_hos_ind = health_qual_clean[\"Indicator\"].str.contains(\"hospital readmission\")\n",
    "doc_val_ind = health_qual_clean[\"Indicator\"].str.contains(\"spending enough time with patients during the consultation\")\n",
    "\n",
    "qual_mor = health_qual_clean[mor_ind & yrs & mor_val]\n",
    "qual_re_hos = health_qual_clean[re_hos_ind & yrs & hos_val]\n",
    "qual_doc= health_qual_clean[doc_val_ind & yrs & doc_val & doc_gender ]\n",
    "\n",
    "\n",
    "mor_countries = set(qual_mor['Country'].unique())\n",
    "re_hos_countries = set(qual_re_hos['Country'].unique())\n",
    "doc_countries = set(qual_doc['Country'].unique())\n",
    "\n",
    "common_countries = mor_countries & re_hos_countries & doc_countries #filtering out countries\n",
    "\n",
    "qual_mor_filtered = qual_mor[qual_mor['Country'].isin(common_countries)]\n",
    "qual_re_hos_filtered = qual_re_hos[qual_re_hos['Country'].isin(common_countries)]\n",
    "qual_doc_filtered = qual_doc[qual_doc['Country'].isin(common_countries)]"
   ]
  },
  {
   "cell_type": "markdown",
   "id": "4d602b22-07a4-4b06-bca1-b38784cc3d14",
   "metadata": {},
   "source": [
    "With our filtered data, we create new, small \"summary\" dataframes that allow for a clear plotting of average mortality and average hospital readmission rates since the year 2015."
   ]
  },
  {
   "cell_type": "code",
   "execution_count": null,
   "id": "ab0e7a29-3f66-4563-9f1d-24dece5c0dab",
   "metadata": {
    "tags": []
   },
   "outputs": [],
   "source": [
    "summary_qual_mor = pd.DataFrame(qual_mor_filtered.groupby(['Country'])['Value.1'].mean()).rename(columns={'Value.1': 'Mortality'})\n",
    "summary_qual_re_hos = pd.DataFrame(qual_re_hos_filtered .groupby(['Country'])['Value.1'].mean()).rename(columns={'Value.1': 'Hospital Readmission'})\n",
    "summary_qual_doc =  pd.DataFrame(qual_doc_filtered.groupby(['Country'])['Value.1'].mean()).rename(columns={'Value.1': 'Enough Consultation Time'})"
   ]
  },
  {
   "cell_type": "markdown",
   "id": "1981748d-c899-4043-990d-1621e42746fd",
   "metadata": {},
   "source": [
    "We do the same to represent countries with \"bad health\", using the crude rate as a first filter (in this context, crude rate is a measurement of health quality spanning from \"very good\" to \"very bad\"), and then filtering specifically for \"bad/very bad health\" such that we can focus on the proportion of people that are perceived to have bad health conditions. "
   ]
  },
  {
   "cell_type": "code",
   "execution_count": null,
   "id": "84d8546a-89fe-4338-af41-1e04412e262c",
   "metadata": {
    "tags": []
   },
   "outputs": [],
   "source": [
    "bad_health = pd.DataFrame(health_stat[\"% of population (crude rate)\"][\"Bad/very bad health, total aged 15+\"]).rename(columns={'Bad/very bad health, total aged 15+': 'Bad Health'})\n",
    "bad_health = bad_health[bad_health.index.get_level_values('Year') > 2014]\n",
    "bad_health_filterd = bad_health[bad_health.index.get_level_values('Country').isin(common_countries)]\n",
    "\n",
    "summary_bad_health = pd.DataFrame(bad_health_filterd.groupby(['Country'])['Bad Health'].mean()) "
   ]
  },
  {
   "cell_type": "markdown",
   "id": "a72dd134-c0c6-42e8-8dcf-f6119da582d8",
   "metadata": {},
   "source": [
    "We also need to consider the population age distribution of countries as it may be a factor that may influence, the perceived health of the a nation, and in turn how effective a healthcare system is. "
   ]
  },
  {
   "cell_type": "code",
   "execution_count": null,
   "id": "8de09e00-72fb-4d56-b162-719561b3c706",
   "metadata": {
    "tags": []
   },
   "outputs": [],
   "source": [
    "age_ref = pd.DataFrame(reference[\"% of total population\"][\"Population: 65 years old and over\"])\n",
    "age_ref = age_ref[age_ref.index.get_level_values('Year') > 2014]\n",
    "age_ref_filtered = age_ref[age_ref.index.get_level_values('Country').isin(common_countries)]\n",
    "\n",
    "age_summary = pd.DataFrame(age_ref_filtered.groupby(\"Country\").mean())"
   ]
  },
  {
   "cell_type": "code",
   "execution_count": null,
   "id": "2741e274-d4e3-418e-a4b4-1782a9112080",
   "metadata": {
    "tags": []
   },
   "outputs": [],
   "source": [
    "fig, ax = plt.subplots(2, 2, figsize=(10, 10))\n",
    "ax[0, 0] = summary_qual_mor.plot.bar(ax=ax[0,0])\n",
    "ax[0, 0].set_title(\"Mortality Rate per 100 Patients\")\n",
    "ax[0, 1] = summary_qual_re_hos.plot.bar(ax=ax[0, 1])\n",
    "ax[0, 1].set_title(\"Hospital Readmission Rate per 100 000 Population\")\n",
    "ax[1, 0] = summary_bad_health.plot.bar(ax=ax[1,0])\n",
    "ax[1, 0].set_title(\"% of the Population with Perceived Bad Health Conditions\")\n",
    "ax[1, 1] = summary_qual_doc.plot.bar(ax = ax[1,1])\n",
    "ax[1, 1].set_title(\"% of Patients Having Enough Consultation Time\")\n",
    "plt.tight_layout()"
   ]
  },
  {
   "cell_type": "markdown",
   "id": "b0158ef0-e1df-43b4-83b1-d7f39b2388a3",
   "metadata": {},
   "source": [
    "### Health Workforce Migration"
   ]
  },
  {
   "cell_type": "code",
   "execution_count": null,
   "id": "f7d3ff44-c17d-46e8-8470-128a537dbc43",
   "metadata": {
    "tags": []
   },
   "outputs": [],
   "source": [
    "worker_migr_filtered = worker_migr[[\"Foreign-trained doctors - Annual inflow\"]][worker_migr.index.get_level_values('Year') > 2014]\n",
    "worker_migr_summary = worker_migr_filtered.groupby(['Country'])['Foreign-trained doctors - Annual inflow'].mean().fillna(0)\n",
    "worker_migr_summary = worker_migr_summary[worker_migr_summary.index.get_level_values('Country').isin(common_countries)]\n",
    "worker_migr_summary.plot.bar()"
   ]
  },
  {
   "cell_type": "code",
   "execution_count": null,
   "id": "237df024-b945-43b1-b42e-d2a0623a5282",
   "metadata": {
    "tags": []
   },
   "outputs": [],
   "source": [
    "per_capita_gdp = pd.DataFrame( reference[\"/capita, US$ purchasing power parity\"][\"Gross domestic product (GDP)\"])\n",
    "per_capita_gdp = per_capita_gdp[per_capita_gdp.index.get_level_values('Year') > 2014]\n",
    "per_capita_gdp_filtered = per_capita_gdp[per_capita_gdp.index.get_level_values('Country').isin(common_countries)]\n",
    "\n",
    "per_capita_gdp_summary = pd.DataFrame(per_capita_gdp_filtered.groupby(['Country'])['Gross domestic product (GDP)'].mean()).rename(columns={'Gross domestic product (GDP)': 'GDP per Capita by US$ purchasing power parity'})"
   ]
  },
  {
   "cell_type": "code",
   "execution_count": null,
   "id": "e7fc95be-3d16-4a00-be50-49ff9ab20a43",
   "metadata": {
    "tags": []
   },
   "outputs": [],
   "source": [
    "imm_qual = pd.merge(summary_qual_mor, summary_qual_re_hos, on = ['Country'])\n",
    "imm_qual = pd.merge(imm_qual, summary_qual_doc, on = ['Country'])\n",
    "imm_qual = pd.merge(imm_qual, summary_bad_health, on = ['Country'])\n",
    "imm_qual = pd.merge(imm_qual, per_capita_gdp_summary, on = ['Country'])\n",
    "imm_qual = pd.merge(imm_qual, worker_migr_summary, on = ['Country']) \n",
    "imm_qual = pd.merge(imm_qual, age_summary, on = ['Country']) "
   ]
  },
  {
   "cell_type": "code",
   "execution_count": null,
   "id": "5748cfc5-4799-4bfc-acaa-1643da142264",
   "metadata": {
    "tags": []
   },
   "outputs": [],
   "source": [
    "imm_correlation_matrix = imm_qual.corr()"
   ]
  },
  {
   "cell_type": "code",
   "execution_count": null,
   "id": "7c9ad95a-0562-4e44-b30f-a6b5cbeffd54",
   "metadata": {
    "tags": []
   },
   "outputs": [],
   "source": [
    "plt.figure(figsize=(7.5, 6))  \n",
    "sns.heatmap(imm_correlation_matrix, annot=True, fmt=\".2f\", cmap=\"coolwarm\", cbar=False)\n",
    "\n",
    "plt.xticks(rotation=45, ha='right')\n",
    "plt.yticks(rotation=0)\n",
    "plt.title('Correlation Between Health Outcomes and Healthcare Professionals Migration')\n",
    "\n",
    "plt.show()"
   ]
  },
  {
   "cell_type": "code",
   "execution_count": null,
   "id": "1c855bc0-0e7e-44fa-86ce-2a4c98876efd",
   "metadata": {
    "tags": []
   },
   "outputs": [],
   "source": [
    "imm_qual"
   ]
  },
  {
   "cell_type": "code",
   "execution_count": null,
   "id": "576d4fa3-be78-4f87-bfab-6d0970228077",
   "metadata": {
    "tags": []
   },
   "outputs": [],
   "source": [
    "from sklearn import linear_model\n",
    "\n",
    "\n",
    "X = imm_qual[[\"Mortality\", \"Enough Consultation Time\", \"Bad Health\", \"Hospital Readmission\"]]\n",
    "y = imm_qual['Foreign-trained doctors - Annual inflow'] \n",
    "\n",
    "X = sm.add_constant(X)\n",
    "doc_imm_model = sm.OLS(y, X)\n",
    "doc_imm_result = doc_imm_model.fit()\n",
    "\n",
    "print(doc_imm_result.summary())"
   ]
  },
  {
   "cell_type": "code",
   "execution_count": null,
   "id": "be5a67f1-e109-42eb-bd49-b504d1b42a3f",
   "metadata": {
    "tags": []
   },
   "outputs": [],
   "source": [
    "lr_model = linear_model.LinearRegression()\n",
    "lr_model.fit(X, y)\n",
    "lr_coefs = pd.Series(dict(zip(list(X),lr_model.coef_)))\n",
    "lasso_coefs_dict = {}\n",
    "for alpha in [1, 5, 10, 15]:\n",
    "    lasso_model = linear_model.Lasso(alpha)\n",
    "    lasso_model.fit(X, y)\n",
    "    lasso_coefs_dict[f'alpha = {alpha}'] = pd.Series(lasso_model.coef_, index = list(X))\n",
    "    \n",
    "coefs_comparison = pd.DataFrame(lasso_coefs_dict)\n",
    "coefs_comparison"
   ]
  },
  {
   "cell_type": "markdown",
   "id": "5a79e03c-aac8-4632-a159-4d1b66dcfe05",
   "metadata": {},
   "source": [
    "The coefficient do not shrink significantly with various levels of alpha in the Lasso model, indicating that all regressors have strong predictive power\n"
   ]
  },
  {
   "cell_type": "markdown",
   "id": "785267d9-76be-4029-a499-aa6af08c8cbd",
   "metadata": {},
   "source": [
    "### Results\n",
    "In countries where the quality of acute healthcare is lower, as evidenced by higher mortality and hospital readmission rates, there is a tendency to have a higher proportion of immigrant doctors in the medical workforce. On the other hand, countries that report better patient satisfaction and overall health status are associated with a lower presence of immigrant doctors"
   ]
  },
  {
   "cell_type": "markdown",
   "id": "fdbd9ba3-c13e-42a0-94ca-c9cfc8082f48",
   "metadata": {},
   "source": [
    "## Insurance, Healthcare Spending, and Remuneration as Predictive Factors of Healthcare Professional Migration"
   ]
  },
  {
   "cell_type": "markdown",
   "id": "f64bf059-bbcf-4d99-84df-9c6d5d750d34",
   "metadata": {},
   "source": [
    "This section investigates the predictive power and effects of government insurance, healthcare spending per capita, and healthcare professional remuneration on the migration of foreign healthcare professionals. While economic theory suggests a positive relationship between remuneration and migration, as healthcare workers seek better pay, it is unclear how the other factors will come into play. It is likely that high healthcare spending is related to high healthcare professional remuneration, so the relationships should be similar. As this is a purely predictive analysis, we are not concerned with multicollinearity. \n",
    "\n",
    "For this analysis it was necessary to remove the GP remuneration data due to a low number of observations, so we will use specialist remuneration as a proxy for overall physician salary. The relationship when plotted between healthcare spending and the dependent variables of interest suggested nonlinearity, so the logarithm was taken. The data on doctor and nurse inflow was highly skewed, but taking the log also resolved this. Since the data is over several years, we take the average of the data for each country to account for outlier years and prevent autocorrelation."
   ]
  },
  {
   "cell_type": "code",
   "execution_count": null,
   "id": "7e85e002-f81c-4bc5-b57c-724d224161f9",
   "metadata": {
    "tags": []
   },
   "outputs": [],
   "source": [
    "log_hlth_percap_ppp = np.log(health_expen[\"Per capita, current prices, current PPPs\"][\"Current expenditure on health (all functions)\"])\n",
    "nur_sal_usd = health_resor[\"Salaried, income, US$ exchange rate\"][\"Remuneration of hospital nurses\"]\n",
    "spec_sal_usd = health_resor[\"Salaried, income, US$ exchange rate\"][\"Remuneration of specialists\"]\n",
    "gov_hi_pct = social_proc[\"% of total population\"][\"Government/compulsory health insurance coverage\"]\n",
    "for_doc_pct = worker_migr[\"% of foreign-trained doctors\"]\n",
    "for_nur_pct = worker_migr[\"% of foreign-trained nurses\"]\n",
    "log_for_doc_inf = np.log(worker_migr.loc[worker_migr[\"Foreign-trained doctors - Annual inflow\"]!=0][\"Foreign-trained doctors - Annual inflow\"])\n",
    "log_for_nur_inf = np.log(worker_migr.loc[worker_migr[\"Foreign-trained nurses - Annual inflow\"]!=0][\"Foreign-trained nurses - Annual inflow\"])"
   ]
  },
  {
   "cell_type": "code",
   "execution_count": null,
   "id": "f87724a3-d9f8-4a5f-a55c-cf6d718ed3e3",
   "metadata": {},
   "outputs": [],
   "source": [
    "hlth_percap_ppp = health_expen[\"Per capita, current prices, current PPPs\"][\"Current expenditure on health (all functions)\"]\n",
    "nur_sal_usd = health_resor[\"Salaried, income, US$ exchange rate\"][\"Remuneration of hospital nurses\"]\n",
    "spec_sal_usd = health_resor[\"Salaried, income, US$ exchange rate\"][\"Remuneration of specialists\"]\n",
    "gov_hi_pct = social_proc[\"% of total population\"][\"Government/compulsory health insurance coverage\"]\n",
    "for_doc_pct = worker_migr[\"% of foreign-trained doctors\"]\n",
    "for_nur_pct = worker_migr[\"% of foreign-trained nurses\"]\n",
    "for_doc_inf = worker_migr[\"Foreign-trained doctors - Annual inflow\"]\n",
    "for_nur_inf = worker_migr[\"Foreign-trained nurses - Annual inflow\"]"
   ]
  },
  {
   "cell_type": "code",
   "execution_count": null,
   "id": "f3eb0de9-6ad3-498b-9e7b-52f07a148d29",
   "metadata": {
    "tags": []
   },
   "outputs": [],
   "source": [
    "in_hc_rem = pd.concat([hlth_percap_ppp,spec_sal_usd,nur_sal_usd,gov_hi_pct,for_doc_pct,for_doc_inf,for_nur_pct,for_nur_inf],axis=1)\n",
    "in_hc_rem = in_hc_rem.groupby('Country').mean()\n",
    "in_hc_rem[\"Current expenditure on health (all functions)\"] = np.log(in_hc_rem[\"Current expenditure on health (all functions)\"])\n",
    "in_hc_rem[\"Foreign-trained doctors - Annual inflow\"] = np.log(in_hc_rem[\"Foreign-trained doctors - Annual inflow\"])\n",
    "in_hc_rem[\"Foreign-trained nurses - Annual inflow\"] = np.log(in_hc_rem[\"Foreign-trained nurses - Annual inflow\"])\n",
    "in_hc_rem = in_hc_rem.rename(columns = {\"Current expenditure on health (all functions)\":\"log(Per capita current expenditure on health (PPP))\",\n",
    "                                       \"Foreign-trained doctors - Annual inflow\":\"log(Foreign-trained doctors - Annual inflow)\",\n",
    "                                       \"Foreign-trained nurses - Annual inflow\":\"log(Foreign-trained nurses - Annual inflow)\"})"
   ]
  },
  {
   "cell_type": "code",
   "execution_count": null,
   "id": "b722f97b-e4c5-4f9a-8bb1-618ee07f31f3",
   "metadata": {},
   "outputs": [],
   "source": [
    "doc_inf_pred = in_hc_rem[[\"log(Per capita current expenditure on health (PPP))\",\"Remuneration of specialists\",\n",
    "                          \"Government/compulsory health insurance coverage\",\"log(Foreign-trained doctors - Annual inflow)\"]].dropna()\n",
    "\n",
    "doc_pct_pred = in_hc_rem[[\"log(Per capita current expenditure on health (PPP))\",\"Remuneration of specialists\",\n",
    "                          \"Government/compulsory health insurance coverage\",\"% of foreign-trained doctors\"]].dropna()\n",
    "\n",
    "nur_inf_pred = in_hc_rem[[\"log(Per capita current expenditure on health (PPP))\",\"Remuneration of hospital nurses\",\n",
    "                          \"Government/compulsory health insurance coverage\",\"log(Foreign-trained nurses - Annual inflow)\"]].dropna()\n",
    "\n",
    "nur_pct_pred = in_hc_rem[[\"log(Per capita current expenditure on health (PPP))\",\"Remuneration of hospital nurses\",\n",
    "                          \"Government/compulsory health insurance coverage\",\"% of foreign-trained nurses\"]].dropna()"
   ]
  },
  {
   "cell_type": "markdown",
   "id": "4ebfb85f-a4c0-4566-9069-21a78374e905",
   "metadata": {},
   "source": [
    "### Correlations Between all Factors"
   ]
  },
  {
   "cell_type": "code",
   "execution_count": null,
   "id": "23149bb2-cf8b-4665-8ddc-c02c3388695d",
   "metadata": {
    "tags": []
   },
   "outputs": [],
   "source": [
    "in_hc_rem_corr  = in_hc_rem.corr()\n",
    "\n",
    "plt.figure(figsize=(7.5, 6))  \n",
    "sns.heatmap(in_hc_rem_corr, annot=True, fmt=\".2f\", cmap=\"coolwarm\", cbar=False)\n",
    "\n",
    "plt.xticks(rotation=45, ha='right')\n",
    "plt.yticks(rotation=0)\n",
    "plt.title('Correlation of foreign healthcare worker migration, healthcare worker remuneration, healthcare spending, and government insurance')\n",
    "\n",
    "plt.show()"
   ]
  },
  {
   "cell_type": "markdown",
   "id": "7f4fd4ab-0ad7-4880-b5bd-e476de8b6668",
   "metadata": {},
   "source": [
    "**Interpretation**\n",
    "All factors are positively correlated with each other, except for government insurance coverage which is negatively correlated with most other factors. "
   ]
  },
  {
   "cell_type": "markdown",
   "id": "d91d6230-d50e-4167-939d-c3622253369c",
   "metadata": {},
   "source": [
    "### Predictive Models\n",
    "\n",
    "Predictive regressions of migration based on government insurance, healthcare spending, and remuneration."
   ]
  },
  {
   "cell_type": "code",
   "execution_count": null,
   "id": "e6bbae41-9bbd-4532-9374-8bc9854320f3",
   "metadata": {
    "tags": []
   },
   "outputs": [],
   "source": [
    "x_docinf = doc_inf_pred.loc[:,~doc_inf_pred.columns.isin([\"log(Foreign-trained doctors - Annual inflow)\"])]\n",
    "y_docinf = doc_inf_pred[\"log(Foreign-trained doctors - Annual inflow)\"]\n",
    "\n",
    "x_docinf = sm.add_constant(x_docinf)\n",
    "x_docinf_model = sm.OLS(y_docinf, x_docinf)\n",
    "x_docinf_result = x_docinf_model.fit()\n",
    "\n",
    "print(x_docinf_result.summary())"
   ]
  },
  {
   "cell_type": "markdown",
   "id": "e3781b0e-2753-4287-a4be-b6161cae5683",
   "metadata": {},
   "source": [
    "**Interpretation**\n",
    "\n",
    "A 1% increase in per capita health spending gives a 1.65% increase in foreign doctor inflow. A $1000 increase in specialist remuneration gives a 1.78% increase in foreign doctor inflow. An increase in government healthcare coverage of 1 percentile point gives a 7.09% decrease in foreign doctor inflow."
   ]
  },
  {
   "cell_type": "code",
   "execution_count": null,
   "id": "38652c6f-4c8a-4d49-aa07-0b97e551108c",
   "metadata": {
    "tags": []
   },
   "outputs": [],
   "source": [
    "x_docpct = doc_pct_pred.loc[:,~doc_pct_pred.columns.isin([\"% of foreign-trained doctors\"])]\n",
    "y_docpct = doc_pct_pred[\"% of foreign-trained doctors\"]\n",
    "\n",
    "x_docpct = sm.add_constant(x_docpct)\n",
    "x_docpct_model = sm.OLS(y_docpct, x_docpct)\n",
    "x_docpct_result = x_docpct_model.fit()\n",
    "\n",
    "print(x_docpct_result.summary())"
   ]
  },
  {
   "cell_type": "markdown",
   "id": "79345963-a0ba-4346-8839-269813fb7550",
   "metadata": {},
   "source": [
    "**Interpretation**\n",
    "\n",
    "A 1% increase in per capita health spending gives a 0.13 percentile point increase in foreign doctor percentage. A $1000 increase in specialist remuneration gives a 0.10 percentile point increase in foreign doctor percentage. An increase in government healthcare coverage of 1 percentile point gives a 0.14 percentile point decrease in foreign doctor percentage."
   ]
  },
  {
   "cell_type": "code",
   "execution_count": null,
   "id": "a0e1b458-2d14-4cfd-b392-ba21c82a31b9",
   "metadata": {
    "tags": []
   },
   "outputs": [],
   "source": [
    "x_nurinf = nur_inf_pred.loc[:,~nur_inf_pred.columns.isin([\"log(Foreign-trained nurses - Annual inflow)\"])]\n",
    "y_nurinf = nur_inf_pred[\"log(Foreign-trained nurses - Annual inflow)\"]\n",
    "\n",
    "x_nurinf = sm.add_constant(x_nurinf)\n",
    "x_nurinf_model = sm.OLS(y_nurinf, x_nurinf)\n",
    "x_nurinf_result = x_nurinf_model.fit()\n",
    "\n",
    "print(x_nurinf_result.summary())"
   ]
  },
  {
   "cell_type": "markdown",
   "id": "4f0f0d8a-4f5b-4c08-a7a2-b99d937124c2",
   "metadata": {},
   "source": [
    "**Interpretation**\n",
    "\n",
    "A 1% increase in per capita health spending gives a 0.78% increase in foreign nurse inflow. A $1000 increase in hospital nurse remuneration gives a 6.28% increase in foreign nurse inflow. An increase in government healthcare coverage of 1 percentile point gives a 0.66% decrease in foreign nurse inflow."
   ]
  },
  {
   "cell_type": "code",
   "execution_count": null,
   "id": "c14ebf65-c933-4f1c-b637-f1ab6ec2b502",
   "metadata": {
    "tags": []
   },
   "outputs": [],
   "source": [
    "x_nurpct = nur_pct_pred.loc[:,~nur_pct_pred.columns.isin([\"% of foreign-trained nurses\"])]\n",
    "y_nurpct = nur_pct_pred[\"% of foreign-trained nurses\"]\n",
    "\n",
    "x_nurpct = sm.add_constant(x_nurpct)\n",
    "x_nurpct_model = sm.OLS(y_nurpct, x_nurpct)\n",
    "x_nurpct_result = x_nurpct_model.fit()\n",
    "\n",
    "print(x_nurpct_result.summary())"
   ]
  },
  {
   "cell_type": "markdown",
   "id": "4c3d65c9-a2fb-4a98-a9a1-48d2391ff749",
   "metadata": {},
   "source": [
    "**Interpretation**\n",
    "\n",
    "A 1% increase in per capita health spending gives a 0.02 percentile point increase in foreign nurse percentage. A $1000 increase in hospital nurse remuneration gives a 0.20 percentile point increase in foreign nurse percentage. An increase in government healthcare coverage of 1 percentile point gives a 0.14 percentile point increase in foreign nurse percentage."
   ]
  },
  {
   "cell_type": "markdown",
   "id": "1dbe2edc-9f1d-457c-8270-91ca17ccde6e",
   "metadata": {},
   "source": [
    "### Results\n",
    "**Use interpretations**"
   ]
  },
  {
   "cell_type": "markdown",
   "id": "2836e0f5-e8a4-4b3b-9b10-85e660f65cdb",
   "metadata": {},
   "source": [
    "## Relationship Between Domestic and Foreign-Trained Medical Professionals"
   ]
  },
  {
   "cell_type": "code",
   "execution_count": null,
   "id": "84cbb473-ba62-4a7e-939c-d73364fc4cc6",
   "metadata": {
    "tags": []
   },
   "outputs": [],
   "source": [
    "#create new column for percentage of domestically trained healthcare workers\n",
    "#sum domestic trained doctors and nurses, divide by total\n",
    "worker_migr['%_of_domestic_trained_healthcare_workers'] = (\n",
    "    (worker_migr['Domestically-trained doctors'] + worker_migr['Domestically-trained nurses']) /\n",
    "    (worker_migr['Total number of doctors'] + worker_migr['Total number of nurses'])\n",
    ") * 100\n",
    "\n",
    "worker_migr['%_of_foreign_trained_healthcare_workers'] = (\n",
    "    (worker_migr['Foreign-trained doctors - Stock'] + worker_migr['Foreign-trained nurses - Stock']) /\n",
    "    (worker_migr['Total number of doctors'] + worker_migr['Total number of nurses'])\n",
    ") * 100\n",
    "\n",
    "\n",
    "#worker_migr['%_of_workers_unknown_training'] = 100 - (worker_migr['%_of_foreign_trained_healthcare_workers']\\\n",
    "                                                    #+ worker_migr['%_of_domestic_trained_healthcare_workers'])\n",
    "\n",
    "\n",
    "# Reset index\n",
    "worker_migr= worker_migr.reset_index()"
   ]
  },
  {
   "cell_type": "code",
   "execution_count": null,
   "id": "71faf3bd-1c92-42f9-b35d-a625e806a66a",
   "metadata": {
    "tags": []
   },
   "outputs": [],
   "source": [
    "worker_migr_to_plot = worker_migr[['Country', 'Year', '%_of_domestic_trained_healthcare_workers',\n",
    "                                    '%_of_foreign_trained_healthcare_workers']] \\\n",
    "                        .groupby('Country') \\\n",
    "                        .mean() \\\n",
    "                        .dropna() \\\n",
    "                        .reset_index()\n",
    "\n",
    "worker_migr_to_plot.head()"
   ]
  },
  {
   "cell_type": "code",
   "execution_count": null,
   "id": "0b44bd0f-f6c6-4389-be4c-21c6cb007e11",
   "metadata": {
    "tags": []
   },
   "outputs": [],
   "source": [
    "bar_width = 0.4\n",
    "\n",
    "# bar positions\n",
    "r1 = np.arange(len(worker_migr_to_plot['Country']))\n",
    "r2 = [x + bar_width for x in r1]\n",
    "\n",
    "plt.figure(figsize=(12, 7.5))\n",
    "\n",
    "#domestic healthcare workers\n",
    "plt.bar(r1, worker_migr_to_plot['%_of_domestic_trained_healthcare_workers'], color='blue', width=bar_width, label='% of Domestic Trained Healthcare Workers')\n",
    "\n",
    "#foreign healthcare workers\n",
    "plt.bar(r2, worker_migr_to_plot['%_of_foreign_trained_healthcare_workers'], color='orange', width=bar_width, label='% of Foreign Trained Healthcare Workers')\n",
    "\n",
    "plt.xticks([r + bar_width/2 for r in range(len(worker_migr_to_plot['Country']))], worker_migr_to_plot['Country'], rotation=90, size = 15)\n",
    "\n",
    "plt.xlabel('Country', size = 15)\n",
    "plt.ylabel('Percentage', size = 15)\n",
    "plt.title('Percentage of Domestic and Foreign Trained Healthcare Workers by Country', size = 20)\n",
    "plt.legend()\n",
    "plt.tight_layout()\n",
    "plt.show()"
   ]
  },
  {
   "cell_type": "markdown",
   "id": "cf28176b-3488-404e-b845-514200e529c9",
   "metadata": {},
   "source": [
    "As seen in the figure above, most countries' healthcare workforce (doctors and nurses) is, understandably, predominantly local. However, some interesting patterns emerge. Ireland, Israel, New Zealand, Australia, and Switzerland stand out - over 20% of their healthcare workforce are foreign trained. While many factors affect these percentages, the OECD's 2015 Health Glance provides some insight; in Israel's case, many licenses are issued to doctors born domestically but who completed their training abroad. Although less prevalent, this pattern is also present in Norway, helping to explain their relatively high percentage of foreign trained health care workers. \n",
    "\n",
    "An interesting case study is Switzerland. Several factors appear to influence their healthcare workforce composition. Despite not being in the European Union, there is a free movement of people agreement between Switzerland and the EU. Switzerland's high quality of living and high salaries are appealing. This is evidenced by the large majority of these foreign-trained doctors being from neighboring countries, such as France and Italy(OFSP, 2023). Additionally, Switzerland has not trained enough doctors leading to a shortage of domestically-educated health care professionals.\n"
   ]
  },
  {
   "cell_type": "markdown",
   "id": "fa9e4cef-ad8d-4df1-bdad-b06b63b15aed",
   "metadata": {},
   "source": [
    "## Maps\n",
    "\n",
    "Maps of doctor inflow, foreign doctor percentage, nurse inflow, and foreign nurse percentage"
   ]
  },
  {
   "cell_type": "code",
   "execution_count": null,
   "id": "6c76ec31-4eba-4db0-ab8e-e8aa3ee1539f",
   "metadata": {
    "tags": []
   },
   "outputs": [],
   "source": [
    "map_data = worker_migr[['Country', 'Year', '%_of_domestic_trained_healthcare_workers',\n",
    "                        '%_of_foreign_trained_healthcare_workers', \"% of foreign-trained doctors\",\n",
    "                        \"% of foreign-trained nurses\", \"Foreign-trained doctors - Annual inflow\",\n",
    "                        \"Foreign-trained nurses - Annual inflow\"\n",
    "                       ]] \\\n",
    "            .groupby('Country') \\\n",
    "            .mean() \\\n",
    "            .reset_index()"
   ]
  },
  {
   "cell_type": "code",
   "execution_count": null,
   "id": "6ad2eea7-bc2c-445f-bdb5-32460f32ca39",
   "metadata": {
    "tags": []
   },
   "outputs": [],
   "source": [
    "world = gpd.read_file(gpd.datasets.get_path('naturalearth_lowres'))\n",
    "\n",
    "europe = world[world['continent'] == \"Europe\"]\n",
    "\n",
    "europe = europe[europe['name'] != \"Russia\"]\n",
    "\n",
    "#Replace 'United States of America' with 'United States' and 'Turkey' with 'Türkiye'\n",
    "world['name'] = world['name'].replace({'United States of America': 'United States', 'Turkey': 'Türkiye'})\n",
    "\n",
    "\n",
    "merged_data = world.merge(map_data, how='left', left_on='name', right_on='Country')\n",
    "\n",
    "europe_data =merged_data[merged_data[\"continent\"] == 'Europe']\n",
    "\n",
    "europe_data = europe_data[europe_data['name'] != 'Russia']"
   ]
  },
  {
   "cell_type": "code",
   "execution_count": null,
   "id": "2f0f5daf-cab2-4480-903a-858329c032c1",
   "metadata": {
    "tags": []
   },
   "outputs": [],
   "source": [
    "for variable in ['% of foreign-trained doctors', '% of foreign-trained nurses',\n",
    "                 'Foreign-trained doctors - Annual inflow', 'Foreign-trained nurses - Annual inflow']:\n",
    "    \n",
    "    fig, ax = plt.subplots(2, 1, figsize=(10, 12))\n",
    "    \n",
    "    world.plot(ax=ax[0], color='white', edgecolor='black')\n",
    "    ax[0].set_title(f'Map of {variable}')\n",
    "\n",
    "    merged_data.plot(column=variable, cmap='OrRd', linewidth=0.8, ax=ax[0], edgecolor='0.8', legend=True)\n",
    "\n",
    "    ax[0].text(0.15, 0.2, 'White areas indicate \\nunavailable data', horizontalalignment='center', verticalalignment='center',\n",
    "            transform=ax[0].transAxes, fontsize=12, bbox=dict(facecolor='white', alpha=0.5))\n",
    "    \n",
    "    europe.plot(ax=ax[1], color='white', edgecolor='black')\n",
    "    europe_data.plot(column=variable, cmap='OrRd', linewidth=0.8, ax=ax[1], edgecolor='0.8', legend=True)\n",
    "    ax[1].set_title(f'Map of {variable} (Zoomed in on Europe)')\n",
    "\n",
    "    ax[1].text(0.15, 0.2, 'White areas indicate \\nunavailable data', horizontalalignment='center', verticalalignment='center', \n",
    "            transform=ax[1].transAxes, fontsize=12, bbox=dict(facecolor='white', alpha=0.5))\n",
    "    \n",
    "    plt.tight_layout()\n",
    "    plt.show()\n"
   ]
  },
  {
   "cell_type": "code",
   "execution_count": null,
   "id": "e0e1906d-2fd8-4dae-a0fa-d57c55e186bc",
   "metadata": {
    "tags": []
   },
   "outputs": [],
   "source": [
    "from bokeh.io import output_notebook,show\n",
    "from bokeh.plotting import figure, ColumnDataSource\n",
    "from bokeh.io import output_notebook, show, output_file\n",
    "from bokeh.plotting import figure\n",
    "from bokeh.models import GeoJSONDataSource, LinearColorMapper, ColorBar, HoverTool, Label, Legend\n",
    "from bokeh.palettes import brewer\n",
    "output_notebook()\n",
    "import json\n",
    "from bokeh.palettes import OrRd"
   ]
  },
  {
   "cell_type": "code",
   "execution_count": null,
   "id": "4b431d1e-0236-44da-b75b-7e9d8eca58e5",
   "metadata": {
    "tags": []
   },
   "outputs": [],
   "source": [
    "geo_source = GeoJSONDataSource(geojson=merged_data.to_json())\n",
    "\n",
    "color_mapper = LinearColorMapper(palette=OrRd[9][::-1], low=0, high=45)\n",
    "\n",
    "hover = HoverTool(tooltips=[('Country', '@name'),\n",
    "                            ('% of foreign-trained doctors', '@{% of foreign-trained doctors}{0.2f}%'),\n",
    "                            ('Annual inflow of foreign-trained doctors', '@{Foreign-trained doctors - Annual inflow}{0.2f}'),\n",
    "                            ('% of foreign-trained nurses', '@{% of foreign-trained nurses}{0.2f}%'),\n",
    "                            ('Annual inflow of foreign-trained nurses', '@{Foreign-trained nurses - Annual inflow}{0.2f}')])\n",
    "\n",
    "\n",
    "p = figure(title=\"Interactive Map of OECD Healthcare Immigration\", align = 'center', tools=[hover], width=1000, height=600)\n",
    "\n",
    "p.title.align = 'center'\n",
    "\n",
    "p.patches('xs', 'ys', source=geo_source,\n",
    "          fill_color={'field': '% of foreign-trained doctors', 'transform': color_mapper},\n",
    "          line_color='black', line_width=0.5)\n",
    "\n",
    "color_bar = ColorBar(color_mapper=color_mapper, label_standoff=8, width=500, height=20,\n",
    "                     border_line_color=None, location='bottom_center', orientation='horizontal', \n",
    "                     title=\"% of foreign-trained doctors\")\n",
    "\n",
    "footnote = Label(x=10, y=5, x_units='screen', y_units='screen',\n",
    "                 text=\"Source: OECD (2023)\", render_mode='css',\n",
    "                 text_font_size='10pt', text_color='gray')\n",
    "\n",
    "p.add_layout(footnote)\n",
    "\n",
    "\n",
    "p.add_layout(color_bar, 'below')\n",
    "\n",
    "output_notebook()\n",
    "show(p)\n",
    "\n"
   ]
  },
  {
   "cell_type": "markdown",
   "id": "dd330003-ef2e-4def-a21e-68a905d6e164",
   "metadata": {},
   "source": [
    "## References\n",
    "Global Affairs Canada. (2017). Global Health and Development. Retrieved from https://www.international.gc.ca/world-monde/issues_development-enjeux_developpement/global_health-sante_mondiale/health_development-sante_developpement.aspx?\n",
    "lang=eng\n",
    "\n",
    "OECD (2023), International Migration Outlook 2023, OECD Publishing, Paris, https://doi.org/10.1787/b0f40584-en\n",
    "\n",
    "OECD (2023), *Demographic References*, OECD.Stat, https://stats.oecd.org/Index.aspx?DataSetCode=HEALTH_DEMR\n",
    "\n",
    "OECD (2023), *Economic References*, OECD.Stat, https://stats.oecd.org/Index.aspx?DataSetCode=HEALTH_ECOR\n",
    "\n",
    "OECD (2023), *Health Expenditure and Financing*, OECD.Stat, https://stats.oecd.org/Index.aspx?DataSetCode=SHA\n",
    "\n",
    "OECD (2015), *International migration of doctors*, in Health at a Glance 2015: OECD Indicators, OECD\n",
    "Publishing, Paris.\n",
    "\n",
    "OECD (2023), *Healthcare Quality Indicators*, OECD.Stat, https://stats.oecd.org/Index.aspx?DataSetCode=HEALTH_HCQI\n",
    "\n",
    "OECD (2023), *Healthcare Resources*, OECD.Stat, https://stats.oecd.org/Index.aspx?DataSetCode=HEALTH_REAC\n",
    "\n",
    "OECD (2023), *Healthcare Utilization* OECD.Stat, https://stats.oecd.org/Index.aspx?DataSetCode=HEALTH_PROC\n",
    "\n",
    "OECD (2023), *Social Protection*, OECD.Stat, https://stats.oecd.org/Index.aspx?DataSetCode=HEALTH_PROT\n",
    "\n",
    "OECD (2023), *Health Workforce Migration*, OECD.Stat, https://stats.oecd.org/Index.aspx?DataSetCode=HEALTH_WFMI\n",
    "\n",
    "OFSP(2023), *Statistiques médecins*, https://www.bag.admin.ch/bag/fr/home/zahlen-und-statistiken/statistiken-berufe-im-gesundheitswesen/statistiken-medizinalberufe1/statistiken-aerztinnen-aerzte.html\n"
   ]
  },
  {
   "cell_type": "code",
   "execution_count": null,
   "id": "13dc8008-860d-47c2-9bb8-e6ce0eb3a398",
   "metadata": {},
   "outputs": [],
   "source": []
  }
 ],
 "metadata": {
  "kernelspec": {
   "display_name": "Python 3 (ipykernel)",
   "language": "python",
   "name": "python3"
  },
  "language_info": {
   "codemirror_mode": {
    "name": "ipython",
    "version": 3
   },
   "file_extension": ".py",
   "mimetype": "text/x-python",
   "name": "python",
   "nbconvert_exporter": "python",
   "pygments_lexer": "ipython3",
   "version": "3.10.8"
  }
 },
 "nbformat": 4,
 "nbformat_minor": 5
}
