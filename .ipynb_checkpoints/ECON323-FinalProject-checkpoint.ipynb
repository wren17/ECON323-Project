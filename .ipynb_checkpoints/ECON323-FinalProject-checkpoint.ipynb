{
 "cells": [
  {
   "cell_type": "markdown",
   "id": "1a85568f-4ba3-4e7a-b801-bd89971ba553",
   "metadata": {},
   "source": [
    "Begin by importing all necessary libraries."
   ]
  },
  {
   "cell_type": "code",
   "execution_count": 1,
   "id": "bae48a13-2e26-49a2-85e8-1fe57b1f4c15",
   "metadata": {},
   "outputs": [],
   "source": [
    "import math\n",
    "import pandas as pd\n",
    "import numpy as np"
   ]
  },
  {
   "cell_type": "markdown",
   "id": "0cd971e0-3dc6-4e3d-a0c2-9c418b0e3633",
   "metadata": {},
   "source": [
    "Then import all data files."
   ]
  },
  {
   "cell_type": "code",
   "execution_count": 10,
   "id": "d4bc98c3-c2eb-4fb4-ad8c-b6fbffa52985",
   "metadata": {
    "tags": []
   },
   "outputs": [],
   "source": [
    "demo_ref = pd.read_csv('demographicref.csv') #demographic reference data\n",
    "econ_ref = pd.read_csv('econref.csv') #economic reference data\n",
    "health_expen = pd.read_csv('healthexpenditure.csv') #healthcare expenditure data\n",
    "health_qual = pd.read_csv('healthquality.csv') #healthcare quality data\n",
    "health_resor = pd.read_csv('healthresources.csv') #healthcare resources data\n",
    "#health_stat = pd.read_csv('healthstatus.csv') #health status data\n",
    "health_util = pd.read_csv('healthutilization.csv') #healthcare utilization data\n",
    "social_proc = pd.read_csv('socialprotection.csv') #social healthcare protection data\n",
    "worker_migr = pd.read_csv('healthworkmigration.csv') #healthcare worker migration data"
   ]
  },
  {
   "cell_type": "code",
   "execution_count": 9,
   "id": "9f175837-4117-4da9-b5c8-0bf2d7f5ce8b",
   "metadata": {
    "tags": []
   },
   "outputs": [],
   "source": [
    "#health_stat = pd.read_csv('healthstatus.csv') #health status data - cannot load "
   ]
  },
  {
   "cell_type": "markdown",
   "id": "e6fa606c-05cc-4028-9b83-4f6dbc9e3a5e",
   "metadata": {},
   "source": [
    "Clean and tidy dataframes"
   ]
  },
  {
   "cell_type": "code",
   "execution_count": 15,
   "id": "fb99cfa9-e148-478a-8af3-6b35ed7bc8b3",
   "metadata": {},
   "outputs": [
    {
     "data": {
      "text/html": [
       "<div>\n",
       "<style scoped>\n",
       "    .dataframe tbody tr th:only-of-type {\n",
       "        vertical-align: middle;\n",
       "    }\n",
       "\n",
       "    .dataframe tbody tr th {\n",
       "        vertical-align: top;\n",
       "    }\n",
       "\n",
       "    .dataframe thead th {\n",
       "        text-align: right;\n",
       "    }\n",
       "</style>\n",
       "<table border=\"1\" class=\"dataframe\">\n",
       "  <thead>\n",
       "    <tr style=\"text-align: right;\">\n",
       "      <th></th>\n",
       "      <th>Variable</th>\n",
       "      <th>Measure</th>\n",
       "      <th>Country</th>\n",
       "      <th>Year</th>\n",
       "      <th>Value</th>\n",
       "    </tr>\n",
       "  </thead>\n",
       "  <tbody>\n",
       "    <tr>\n",
       "      <th>0</th>\n",
       "      <td>Female population, incl. France Metropolitan +...</td>\n",
       "      <td>Thousands of persons</td>\n",
       "      <td>Australia</td>\n",
       "      <td>2010</td>\n",
       "      <td>11063.90</td>\n",
       "    </tr>\n",
       "    <tr>\n",
       "      <th>1</th>\n",
       "      <td>Female population, incl. France Metropolitan +...</td>\n",
       "      <td>Thousands of persons</td>\n",
       "      <td>Australia</td>\n",
       "      <td>2011</td>\n",
       "      <td>11221.80</td>\n",
       "    </tr>\n",
       "    <tr>\n",
       "      <th>2</th>\n",
       "      <td>Female population, incl. France Metropolitan +...</td>\n",
       "      <td>Thousands of persons</td>\n",
       "      <td>Australia</td>\n",
       "      <td>2012</td>\n",
       "      <td>11420.50</td>\n",
       "    </tr>\n",
       "    <tr>\n",
       "      <th>3</th>\n",
       "      <td>Female population, incl. France Metropolitan +...</td>\n",
       "      <td>Thousands of persons</td>\n",
       "      <td>Australia</td>\n",
       "      <td>2013</td>\n",
       "      <td>11622.00</td>\n",
       "    </tr>\n",
       "    <tr>\n",
       "      <th>4</th>\n",
       "      <td>Female population, incl. France Metropolitan +...</td>\n",
       "      <td>Thousands of persons</td>\n",
       "      <td>Australia</td>\n",
       "      <td>2014</td>\n",
       "      <td>11807.80</td>\n",
       "    </tr>\n",
       "    <tr>\n",
       "      <th>...</th>\n",
       "      <td>...</td>\n",
       "      <td>...</td>\n",
       "      <td>...</td>\n",
       "      <td>...</td>\n",
       "      <td>...</td>\n",
       "    </tr>\n",
       "    <tr>\n",
       "      <th>11900</th>\n",
       "      <td>Fertility</td>\n",
       "      <td>Children per women aged 15 to 49 years old</td>\n",
       "      <td>Peru</td>\n",
       "      <td>2017</td>\n",
       "      <td>2.28</td>\n",
       "    </tr>\n",
       "    <tr>\n",
       "      <th>11901</th>\n",
       "      <td>Fertility</td>\n",
       "      <td>Children per women aged 15 to 49 years old</td>\n",
       "      <td>Peru</td>\n",
       "      <td>2018</td>\n",
       "      <td>2.26</td>\n",
       "    </tr>\n",
       "    <tr>\n",
       "      <th>11902</th>\n",
       "      <td>Fertility</td>\n",
       "      <td>Children per women aged 15 to 49 years old</td>\n",
       "      <td>Peru</td>\n",
       "      <td>2019</td>\n",
       "      <td>2.24</td>\n",
       "    </tr>\n",
       "    <tr>\n",
       "      <th>11903</th>\n",
       "      <td>Fertility</td>\n",
       "      <td>Children per women aged 15 to 49 years old</td>\n",
       "      <td>Peru</td>\n",
       "      <td>2020</td>\n",
       "      <td>2.22</td>\n",
       "    </tr>\n",
       "    <tr>\n",
       "      <th>11904</th>\n",
       "      <td>Fertility</td>\n",
       "      <td>Children per women aged 15 to 49 years old</td>\n",
       "      <td>Peru</td>\n",
       "      <td>2021</td>\n",
       "      <td>2.19</td>\n",
       "    </tr>\n",
       "  </tbody>\n",
       "</table>\n",
       "<p>11905 rows × 5 columns</p>\n",
       "</div>"
      ],
      "text/plain": [
       "                                                Variable  \\\n",
       "0      Female population, incl. France Metropolitan +...   \n",
       "1      Female population, incl. France Metropolitan +...   \n",
       "2      Female population, incl. France Metropolitan +...   \n",
       "3      Female population, incl. France Metropolitan +...   \n",
       "4      Female population, incl. France Metropolitan +...   \n",
       "...                                                  ...   \n",
       "11900                                          Fertility   \n",
       "11901                                          Fertility   \n",
       "11902                                          Fertility   \n",
       "11903                                          Fertility   \n",
       "11904                                          Fertility   \n",
       "\n",
       "                                          Measure    Country  Year     Value  \n",
       "0                            Thousands of persons  Australia  2010  11063.90  \n",
       "1                            Thousands of persons  Australia  2011  11221.80  \n",
       "2                            Thousands of persons  Australia  2012  11420.50  \n",
       "3                            Thousands of persons  Australia  2013  11622.00  \n",
       "4                            Thousands of persons  Australia  2014  11807.80  \n",
       "...                                           ...        ...   ...       ...  \n",
       "11900  Children per women aged 15 to 49 years old       Peru  2017      2.28  \n",
       "11901  Children per women aged 15 to 49 years old       Peru  2018      2.26  \n",
       "11902  Children per women aged 15 to 49 years old       Peru  2019      2.24  \n",
       "11903  Children per women aged 15 to 49 years old       Peru  2020      2.22  \n",
       "11904  Children per women aged 15 to 49 years old       Peru  2021      2.19  \n",
       "\n",
       "[11905 rows x 5 columns]"
      ]
     },
     "execution_count": 15,
     "metadata": {},
     "output_type": "execute_result"
    }
   ],
   "source": [
    "#demo_ref = demo_ref[['Variable','Measure','Country','Year','Value']]\n"
   ]
  },
  {
   "cell_type": "code",
   "execution_count": null,
   "id": "4a5e0f6b-67e9-4f9e-b5cb-61fe43514edd",
   "metadata": {},
   "outputs": [],
   "source": []
  }
 ],
 "metadata": {
  "kernelspec": {
   "display_name": "Python 3 (ipykernel)",
   "language": "python",
   "name": "python3"
  },
  "language_info": {
   "codemirror_mode": {
    "name": "ipython",
    "version": 3
   },
   "file_extension": ".py",
   "mimetype": "text/x-python",
   "name": "python",
   "nbconvert_exporter": "python",
   "pygments_lexer": "ipython3",
   "version": "3.10.8"
  }
 },
 "nbformat": 4,
 "nbformat_minor": 5
}
