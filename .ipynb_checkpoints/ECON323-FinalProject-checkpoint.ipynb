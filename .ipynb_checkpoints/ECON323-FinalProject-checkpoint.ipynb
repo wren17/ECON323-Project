{
 "cells": [
  {
   "cell_type": "markdown",
   "id": "1a85568f-4ba3-4e7a-b801-bd89971ba553",
   "metadata": {},
   "source": [
    "Begin by importing all necessary libraries and allowing us to view all dataframe columns."
   ]
  },
  {
   "cell_type": "code",
   "execution_count": 139,
   "id": "bae48a13-2e26-49a2-85e8-1fe57b1f4c15",
   "metadata": {},
   "outputs": [],
   "source": [
    "import math\n",
    "import pandas as pd\n",
    "import numpy as np\n",
    "import geopandas as gpd\n",
    "import matplotlib.pyplot as plt\n",
    "%matplotlib inline\n",
    "pd.set_option('display.max_columns', None)"
   ]
  },
  {
   "cell_type": "markdown",
   "id": "0cd971e0-3dc6-4e3d-a0c2-9c418b0e3633",
   "metadata": {},
   "source": [
    "Then import all data files."
   ]
  },
  {
   "cell_type": "code",
   "execution_count": 2,
   "id": "d4bc98c3-c2eb-4fb4-ad8c-b6fbffa52985",
   "metadata": {
    "tags": []
   },
   "outputs": [],
   "source": [
    "demo_ref_raw = pd.read_csv('demographicref.csv') #demographic reference data\n",
    "econ_ref_raw = pd.read_csv('econref.csv') #economic reference data\n",
    "health_expen_raw = pd.read_csv('healthexpenditure.csv') #healthcare expenditure data\n",
    "health_qual_raw = pd.read_csv('healthquality.csv') #healthcare quality data\n",
    "health_resor_raw = pd.read_csv('healthresources.csv') #healthcare resources data\n",
    "health_util_raw = pd.read_csv('healthutil.csv') #healthcare utilization data\n",
    "social_proc_raw = pd.read_csv('socialprotection.csv') #social healthcare protection data\n",
    "worker_migr_raw = pd.read_csv('healthworkmigration.csv') #healthcare worker migration data"
   ]
  },
  {
   "cell_type": "markdown",
   "id": "8a1f48eb-922e-4976-8b6d-de6e60e461d6",
   "metadata": {},
   "source": [
    "The final dataset cannot be loaded past the 284,614th line, so in order to avoid having partial data on one variable we needed to cut the last 40,000 or so entries."
   ]
  },
  {
   "cell_type": "code",
   "execution_count": 3,
   "id": "9f175837-4117-4da9-b5c8-0bf2d7f5ce8b",
   "metadata": {
    "tags": []
   },
   "outputs": [],
   "source": [
    "health_stat_raw = pd.read_csv('healthstatus.csv',nrows = 284583) #health status data"
   ]
  },
  {
   "cell_type": "markdown",
   "id": "e6fa606c-05cc-4028-9b83-4f6dbc9e3a5e",
   "metadata": {},
   "source": [
    "Remove unwanted columns of data."
   ]
  },
  {
   "cell_type": "code",
   "execution_count": 4,
   "id": "fb99cfa9-e148-478a-8af3-6b35ed7bc8b3",
   "metadata": {},
   "outputs": [],
   "source": [
    "demo_ref_col = demo_ref_raw[['Variable','Measure','Country','Year','Value']]\n",
    "econ_ref_col = econ_ref_raw[['Variable', 'Measure', 'Country','Year', 'Value']]\n",
    "health_expen_col = health_expen_raw[['Financing scheme', 'Function','Provider', 'Measure', 'Country', 'Year', 'Unit', 'Value']]\n",
    "health_qual_col = health_qual_raw[['Country','Periods','Indicator','Gender','Age Group','Value','Value.1']]\n",
    "health_resor_col = health_resor_raw[['Variable','Measure','Country','Year','Value']]\n",
    "health_util_col = health_util_raw[['Variable','Measure','Country','Year','Value']]\n",
    "social_proc_col = social_proc_raw[['Variable','Measure','Country','Year','Value']]\n",
    "worker_migr_col = worker_migr_raw[['Country','Variable','Country of origin','Year','Value']]\n",
    "health_stat_col = health_stat_raw[['Variable','Measure','Country','Year','Value']]"
   ]
  },
  {
   "cell_type": "code",
   "execution_count": 176,
   "id": "896b3760-e70a-438d-b932-92388b4f9c99",
   "metadata": {
    "tags": []
   },
   "outputs": [],
   "source": [
    "migr_list = []\n",
    "\n",
    "for country in worker_migr_col[\"Country\"]:\n",
    "    if (worker_migr_col[\"Country\"].value_counts()[country] > 50) and (country not in migr_list):\n",
    "        migr_list.append(country)"
   ]
  },
  {
   "cell_type": "markdown",
   "id": "daf7e9d3-8ce8-42fe-bab4-84cd4dcc0780",
   "metadata": {
    "tags": []
   },
   "source": [
    "Remove unwanted rows of data. Typically rows containing data measured in units that cannot be compared between countries (e.g. in local currency or raw numbers of incidents). Also removing rows containing variables with few observations or which are unlikely to be helpful for our purposes. Not all data sets required this."
   ]
  },
  {
   "cell_type": "code",
   "execution_count": 149,
   "id": "380ecc68-0e2c-4202-88f4-78974e4c67d1",
   "metadata": {
    "tags": []
   },
   "outputs": [],
   "source": [
    "econ_ref_clean = econ_ref_col.loc[(econ_ref_col['Measure']=='National currency unit per US$, PPP')|\n",
    "                       (econ_ref_col['Measure']=='/capita, US$ purchasing power parity')|\n",
    "                       (econ_ref_col['Measure']=='Million US$ at exchange rate')|\n",
    "                       (econ_ref_col['Measure']=='/capita, US$ exchange rate ')|\n",
    "                       (econ_ref_col['Measure']=='Current prices in NCU')|\n",
    "                       (econ_ref_col['Country']=='/capita, US$ purchasing power parity')]\n",
    "\n",
    "health_expen_clean = health_expen_col.loc[health_expen_col['Measure']=='Share of gross domestic product']\n",
    "\n",
    "health_qual_clean = health_qual_col.loc[((health_qual_col['Value']=='Age-sex standardised rate per 100 000 population')|\n",
    "               (health_qual_col['Value']=='Age-sex standardised rate per 100 patients')|\n",
    "               (health_qual_col['Value']=='Age-standardised survival (%) '))&\n",
    "                (health_qual_col['Gender']=='Total')] \n",
    "\n",
    "health_resor_clean = health_resor_col.loc[(health_resor_col['Measure']=='Density per 1 000 population (head counts)')|\n",
    "                (health_resor_col['Measure']=='Per million population')|\n",
    "                (health_resor_col['Measure']=='% of total physicians (head counts)')|\n",
    "                (health_resor_col['Measure']=='Per 1 000 population')|\n",
    "                (health_resor_col['Measure']=='% of physicians (head counts)')|\n",
    "                (health_resor_col['Measure']=='Per 100 000 population')|\n",
    "                (health_resor_col['Measure']=='% of total hospital employment (head counts)')|\n",
    "                (health_resor_col['Measure']=='Per 1 000 live births')|\n",
    "                (health_resor_col['Measure']=='Salaried, income, US$ exchange rate')] \n",
    "\n",
    "health_util_clean = health_util_col.loc[(health_util_col['Measure']=='Per 100 000 population')|\n",
    "               (health_util_col['Measure']=='% performed as inpatient cases')|\n",
    "               (health_util_col['Measure']=='% performed as day cases')|\n",
    "               (health_util_col['Measure']=='Per 100 000 females')|\n",
    "               (health_util_col['Measure']=='Inpatient cases per 100 000 population ')|\n",
    "               (health_util_col['Measure']=='Total procedures per 100 000 population')|\n",
    "               (health_util_col['Measure']=='Day cases per 100 000 population')|\n",
    "               (health_util_col['Measure']=='Per 1 000 population')]\n",
    "\n",
    "social_proc_clean = social_proc_col.loc[(social_proc_col['Measure']=='% of total population')|\n",
    "                                        (social_proc_col['Measure']=='% of total population covered')] \n",
    "\n",
    "health_stat_clean = health_stat_col.loc[(health_stat_col['Measure']=='Deaths per 100 000 females (standardised rates)')|\n",
    "               (health_stat_col['Measure']=='Deaths per 100 000 females (crude rates)')|\n",
    "               (health_stat_col['Measure']=='Years lost, /100 000 females, aged 75 years old')|\n",
    "               (health_stat_col['Measure']=='Deaths per 100 000 males (standardised rates)')|\n",
    "               (health_stat_col['Measure']=='Deaths per 100 000 population (standardised rates)')|\n",
    "               (health_stat_col['Measure']=='Deaths per 100 000 males (crude rates)')|\n",
    "               (health_stat_col['Measure']=='Years lost, /100 000 males, aged 75 years old')|\n",
    "               (health_stat_col['Measure']=='Years lost, /100 000 population, aged 75 years old')|\n",
    "               (health_stat_col['Measure']=='Deaths per 100 000 population (crude rates)')|\n",
    "               (health_stat_col['Measure']=='% of population (crude rate)')|\n",
    "               (health_stat_col['Measure']=='Years')]"
   ]
  },
  {
   "cell_type": "markdown",
   "id": "589c5f6a-9141-4d9e-b3be-cbb7db7e6973",
   "metadata": {},
   "source": [
    "Next we have to pivot the dataframes."
   ]
  },
  {
   "cell_type": "code",
   "execution_count": 103,
   "id": "6f52e40d-24ad-461e-998a-35d3869b1e8d",
   "metadata": {
    "tags": []
   },
   "outputs": [],
   "source": [
    "worker_migr = worker_migr_col.pivot_table(index = ['Country','Year'], columns = ['Variable'], values = 'Value')\n",
    "demo_ref = demo_ref_col.pivot_table(index = ['Country','Year'], columns = ['Measure','Variable'], values = 'Value')\n",
    "econ_ref = econ_ref_clean.pivot_table(index = ['Country','Year'], columns = ['Measure','Variable'], values = 'Value')\n",
    "health_expen = health_expen_clean.pivot_table(index = ['Country','Year'], columns = ['Measure','Function'], values = 'Value')\n",
    "health_qual = health_qual_clean.pivot_table(index = ['Country','Periods','Age Group'], columns = ['Value','Indicator'], values = 'Value.1')\n",
    "health_resor = health_resor_clean.pivot_table(index = ['Country','Year'], columns = ['Measure','Variable'], values = 'Value')\n",
    "health_util = health_util_clean.pivot_table(index = ['Country','Year'], columns = ['Measure','Variable'], values = 'Value')\n",
    "social_proc = social_proc_clean.pivot_table(index = ['Country','Year'], columns = ['Measure','Variable'], values = 'Value')\n",
    "health_stat = health_stat_clean.pivot_table(index = ['Country','Year'], columns = ['Measure','Variable'], values = 'Value')"
   ]
  },
  {
   "cell_type": "code",
   "execution_count": 177,
   "id": "4ed41b7a-be75-4efe-b9cc-5dba745dc695",
   "metadata": {
    "tags": []
   },
   "outputs": [
    {
     "data": {
      "text/plain": [
       "['Australia',\n",
       " 'Austria',\n",
       " 'Belgium',\n",
       " 'Canada',\n",
       " 'Czechia',\n",
       " 'Denmark',\n",
       " 'Finland',\n",
       " 'France',\n",
       " 'Germany',\n",
       " 'Hungary',\n",
       " 'Ireland',\n",
       " 'Italy',\n",
       " 'Netherlands',\n",
       " 'New Zealand',\n",
       " 'Norway',\n",
       " 'Poland',\n",
       " 'Sweden',\n",
       " 'Switzerland',\n",
       " 'Türkiye',\n",
       " 'United Kingdom',\n",
       " 'United States',\n",
       " 'Chile',\n",
       " 'Estonia',\n",
       " 'Israel',\n",
       " 'Slovenia',\n",
       " 'Greece',\n",
       " 'Lithuania',\n",
       " 'Latvia',\n",
       " 'Colombia']"
      ]
     },
     "execution_count": 177,
     "metadata": {},
     "output_type": "execute_result"
    }
   ],
   "source": [
    "migr_list"
   ]
  },
  {
   "cell_type": "code",
   "execution_count": 97,
   "id": "ffbbc46f-d96a-4e3a-966c-e792d552f5ca",
   "metadata": {
    "tags": []
   },
   "outputs": [],
   "source": [
    "reference = pd.merge(demo_ref,econ_ref, on = ['Country','Year'])"
   ]
  },
  {
   "cell_type": "markdown",
   "id": "75693deb-54fa-4d0a-9edc-9ef15e3131b2",
   "metadata": {},
   "source": [
    "## Relationship Between Health Outcome and Migration of Healthcare Providers \n",
    "**Preliminary Analysis**"
   ]
  },
  {
   "cell_type": "markdown",
   "id": "ba8a0822-ec11-4a6a-bb3b-68cf3f836153",
   "metadata": {},
   "source": [
    "### Measures of Health Outcome"
   ]
  },
  {
   "cell_type": "markdown",
   "id": "6eb0fc97-ed29-4b7b-b99e-8743afc02b6c",
   "metadata": {},
   "source": [
    "* Acute care outcome: \\\n",
    "Number of deaths in any hospital and out of hospital that occurred within 30 days of the admission date of the denominator cases."
   ]
  },
  {
   "cell_type": "code",
   "execution_count": 8,
   "id": "c28899f8-48c4-4d4f-bd72-e19fc8489595",
   "metadata": {
    "tags": []
   },
   "outputs": [
    {
     "ename": "KeyError",
     "evalue": "'Indicator'",
     "output_type": "error",
     "traceback": [
      "\u001b[0;31m---------------------------------------------------------------------------\u001b[0m",
      "\u001b[0;31mKeyError\u001b[0m                                  Traceback (most recent call last)",
      "File \u001b[0;32m/opt/conda/lib/python3.10/site-packages/pandas/core/indexes/base.py:3802\u001b[0m, in \u001b[0;36mIndex.get_loc\u001b[0;34m(self, key, method, tolerance)\u001b[0m\n\u001b[1;32m   3801\u001b[0m \u001b[38;5;28;01mtry\u001b[39;00m:\n\u001b[0;32m-> 3802\u001b[0m     \u001b[38;5;28;01mreturn\u001b[39;00m \u001b[38;5;28;43mself\u001b[39;49m\u001b[38;5;241;43m.\u001b[39;49m\u001b[43m_engine\u001b[49m\u001b[38;5;241;43m.\u001b[39;49m\u001b[43mget_loc\u001b[49m\u001b[43m(\u001b[49m\u001b[43mcasted_key\u001b[49m\u001b[43m)\u001b[49m\n\u001b[1;32m   3803\u001b[0m \u001b[38;5;28;01mexcept\u001b[39;00m \u001b[38;5;167;01mKeyError\u001b[39;00m \u001b[38;5;28;01mas\u001b[39;00m err:\n",
      "File \u001b[0;32m/opt/conda/lib/python3.10/site-packages/pandas/_libs/index.pyx:138\u001b[0m, in \u001b[0;36mpandas._libs.index.IndexEngine.get_loc\u001b[0;34m()\u001b[0m\n",
      "File \u001b[0;32m/opt/conda/lib/python3.10/site-packages/pandas/_libs/index.pyx:165\u001b[0m, in \u001b[0;36mpandas._libs.index.IndexEngine.get_loc\u001b[0;34m()\u001b[0m\n",
      "File \u001b[0;32mpandas/_libs/hashtable_class_helper.pxi:5745\u001b[0m, in \u001b[0;36mpandas._libs.hashtable.PyObjectHashTable.get_item\u001b[0;34m()\u001b[0m\n",
      "File \u001b[0;32mpandas/_libs/hashtable_class_helper.pxi:5753\u001b[0m, in \u001b[0;36mpandas._libs.hashtable.PyObjectHashTable.get_item\u001b[0;34m()\u001b[0m\n",
      "\u001b[0;31mKeyError\u001b[0m: 'Indicator'",
      "\nThe above exception was the direct cause of the following exception:\n",
      "\u001b[0;31mKeyError\u001b[0m                                  Traceback (most recent call last)",
      "Cell \u001b[0;32mIn[8], line 1\u001b[0m\n\u001b[0;32m----> 1\u001b[0m ind \u001b[38;5;241m=\u001b[39m \u001b[43mhealth_qual\u001b[49m\u001b[43m[\u001b[49m\u001b[38;5;124;43m\"\u001b[39;49m\u001b[38;5;124;43mIndicator\u001b[39;49m\u001b[38;5;124;43m\"\u001b[39;49m\u001b[43m]\u001b[49m\u001b[38;5;241m.\u001b[39mstr\u001b[38;5;241m.\u001b[39mcontains(\u001b[38;5;124m\"\u001b[39m\u001b[38;5;124mmortality\u001b[39m\u001b[38;5;124m\"\u001b[39m)\n\u001b[1;32m      2\u001b[0m val \u001b[38;5;241m=\u001b[39m  health_qual[\u001b[38;5;124m\"\u001b[39m\u001b[38;5;124mValue\u001b[39m\u001b[38;5;124m\"\u001b[39m] \u001b[38;5;241m==\u001b[39m \u001b[38;5;124m\"\u001b[39m\u001b[38;5;124mAge-sex standardised rate per 100 patients\u001b[39m\u001b[38;5;124m\"\u001b[39m\n\u001b[1;32m      3\u001b[0m health_qual[\u001b[38;5;124m'\u001b[39m\u001b[38;5;124mPeriods\u001b[39m\u001b[38;5;124m'\u001b[39m] \u001b[38;5;241m=\u001b[39m pd\u001b[38;5;241m.\u001b[39mto_numeric(health_qual[\u001b[38;5;124m'\u001b[39m\u001b[38;5;124mPeriods\u001b[39m\u001b[38;5;124m'\u001b[39m])\n",
      "File \u001b[0;32m/opt/conda/lib/python3.10/site-packages/pandas/core/frame.py:3806\u001b[0m, in \u001b[0;36mDataFrame.__getitem__\u001b[0;34m(self, key)\u001b[0m\n\u001b[1;32m   3804\u001b[0m \u001b[38;5;28;01mif\u001b[39;00m is_single_key:\n\u001b[1;32m   3805\u001b[0m     \u001b[38;5;28;01mif\u001b[39;00m \u001b[38;5;28mself\u001b[39m\u001b[38;5;241m.\u001b[39mcolumns\u001b[38;5;241m.\u001b[39mnlevels \u001b[38;5;241m>\u001b[39m \u001b[38;5;241m1\u001b[39m:\n\u001b[0;32m-> 3806\u001b[0m         \u001b[38;5;28;01mreturn\u001b[39;00m \u001b[38;5;28;43mself\u001b[39;49m\u001b[38;5;241;43m.\u001b[39;49m\u001b[43m_getitem_multilevel\u001b[49m\u001b[43m(\u001b[49m\u001b[43mkey\u001b[49m\u001b[43m)\u001b[49m\n\u001b[1;32m   3807\u001b[0m     indexer \u001b[38;5;241m=\u001b[39m \u001b[38;5;28mself\u001b[39m\u001b[38;5;241m.\u001b[39mcolumns\u001b[38;5;241m.\u001b[39mget_loc(key)\n\u001b[1;32m   3808\u001b[0m     \u001b[38;5;28;01mif\u001b[39;00m is_integer(indexer):\n",
      "File \u001b[0;32m/opt/conda/lib/python3.10/site-packages/pandas/core/frame.py:3857\u001b[0m, in \u001b[0;36mDataFrame._getitem_multilevel\u001b[0;34m(self, key)\u001b[0m\n\u001b[1;32m   3855\u001b[0m \u001b[38;5;28;01mdef\u001b[39;00m \u001b[38;5;21m_getitem_multilevel\u001b[39m(\u001b[38;5;28mself\u001b[39m, key):\n\u001b[1;32m   3856\u001b[0m     \u001b[38;5;66;03m# self.columns is a MultiIndex\u001b[39;00m\n\u001b[0;32m-> 3857\u001b[0m     loc \u001b[38;5;241m=\u001b[39m \u001b[38;5;28;43mself\u001b[39;49m\u001b[38;5;241;43m.\u001b[39;49m\u001b[43mcolumns\u001b[49m\u001b[38;5;241;43m.\u001b[39;49m\u001b[43mget_loc\u001b[49m\u001b[43m(\u001b[49m\u001b[43mkey\u001b[49m\u001b[43m)\u001b[49m\n\u001b[1;32m   3858\u001b[0m     \u001b[38;5;28;01mif\u001b[39;00m \u001b[38;5;28misinstance\u001b[39m(loc, (\u001b[38;5;28mslice\u001b[39m, np\u001b[38;5;241m.\u001b[39mndarray)):\n\u001b[1;32m   3859\u001b[0m         new_columns \u001b[38;5;241m=\u001b[39m \u001b[38;5;28mself\u001b[39m\u001b[38;5;241m.\u001b[39mcolumns[loc]\n",
      "File \u001b[0;32m/opt/conda/lib/python3.10/site-packages/pandas/core/indexes/multi.py:2916\u001b[0m, in \u001b[0;36mMultiIndex.get_loc\u001b[0;34m(self, key, method)\u001b[0m\n\u001b[1;32m   2913\u001b[0m     \u001b[38;5;28;01mreturn\u001b[39;00m mask\n\u001b[1;32m   2915\u001b[0m \u001b[38;5;28;01mif\u001b[39;00m \u001b[38;5;129;01mnot\u001b[39;00m \u001b[38;5;28misinstance\u001b[39m(key, \u001b[38;5;28mtuple\u001b[39m):\n\u001b[0;32m-> 2916\u001b[0m     loc \u001b[38;5;241m=\u001b[39m \u001b[38;5;28;43mself\u001b[39;49m\u001b[38;5;241;43m.\u001b[39;49m\u001b[43m_get_level_indexer\u001b[49m\u001b[43m(\u001b[49m\u001b[43mkey\u001b[49m\u001b[43m,\u001b[49m\u001b[43m \u001b[49m\u001b[43mlevel\u001b[49m\u001b[38;5;241;43m=\u001b[39;49m\u001b[38;5;241;43m0\u001b[39;49m\u001b[43m)\u001b[49m\n\u001b[1;32m   2917\u001b[0m     \u001b[38;5;28;01mreturn\u001b[39;00m _maybe_to_slice(loc)\n\u001b[1;32m   2919\u001b[0m keylen \u001b[38;5;241m=\u001b[39m \u001b[38;5;28mlen\u001b[39m(key)\n",
      "File \u001b[0;32m/opt/conda/lib/python3.10/site-packages/pandas/core/indexes/multi.py:3263\u001b[0m, in \u001b[0;36mMultiIndex._get_level_indexer\u001b[0;34m(self, key, level, indexer)\u001b[0m\n\u001b[1;32m   3259\u001b[0m         \u001b[38;5;28;01mreturn\u001b[39;00m \u001b[38;5;28mslice\u001b[39m(i, j, step)\n\u001b[1;32m   3261\u001b[0m \u001b[38;5;28;01melse\u001b[39;00m:\n\u001b[0;32m-> 3263\u001b[0m     idx \u001b[38;5;241m=\u001b[39m \u001b[38;5;28;43mself\u001b[39;49m\u001b[38;5;241;43m.\u001b[39;49m\u001b[43m_get_loc_single_level_index\u001b[49m\u001b[43m(\u001b[49m\u001b[43mlevel_index\u001b[49m\u001b[43m,\u001b[49m\u001b[43m \u001b[49m\u001b[43mkey\u001b[49m\u001b[43m)\u001b[49m\n\u001b[1;32m   3265\u001b[0m     \u001b[38;5;28;01mif\u001b[39;00m level \u001b[38;5;241m>\u001b[39m \u001b[38;5;241m0\u001b[39m \u001b[38;5;129;01mor\u001b[39;00m \u001b[38;5;28mself\u001b[39m\u001b[38;5;241m.\u001b[39m_lexsort_depth \u001b[38;5;241m==\u001b[39m \u001b[38;5;241m0\u001b[39m:\n\u001b[1;32m   3266\u001b[0m         \u001b[38;5;66;03m# Desired level is not sorted\u001b[39;00m\n\u001b[1;32m   3267\u001b[0m         \u001b[38;5;28;01mif\u001b[39;00m \u001b[38;5;28misinstance\u001b[39m(idx, \u001b[38;5;28mslice\u001b[39m):\n\u001b[1;32m   3268\u001b[0m             \u001b[38;5;66;03m# test_get_loc_partial_timestamp_multiindex\u001b[39;00m\n",
      "File \u001b[0;32m/opt/conda/lib/python3.10/site-packages/pandas/core/indexes/multi.py:2849\u001b[0m, in \u001b[0;36mMultiIndex._get_loc_single_level_index\u001b[0;34m(self, level_index, key)\u001b[0m\n\u001b[1;32m   2847\u001b[0m     \u001b[38;5;28;01mreturn\u001b[39;00m \u001b[38;5;241m-\u001b[39m\u001b[38;5;241m1\u001b[39m\n\u001b[1;32m   2848\u001b[0m \u001b[38;5;28;01melse\u001b[39;00m:\n\u001b[0;32m-> 2849\u001b[0m     \u001b[38;5;28;01mreturn\u001b[39;00m \u001b[43mlevel_index\u001b[49m\u001b[38;5;241;43m.\u001b[39;49m\u001b[43mget_loc\u001b[49m\u001b[43m(\u001b[49m\u001b[43mkey\u001b[49m\u001b[43m)\u001b[49m\n",
      "File \u001b[0;32m/opt/conda/lib/python3.10/site-packages/pandas/core/indexes/base.py:3804\u001b[0m, in \u001b[0;36mIndex.get_loc\u001b[0;34m(self, key, method, tolerance)\u001b[0m\n\u001b[1;32m   3802\u001b[0m     \u001b[38;5;28;01mreturn\u001b[39;00m \u001b[38;5;28mself\u001b[39m\u001b[38;5;241m.\u001b[39m_engine\u001b[38;5;241m.\u001b[39mget_loc(casted_key)\n\u001b[1;32m   3803\u001b[0m \u001b[38;5;28;01mexcept\u001b[39;00m \u001b[38;5;167;01mKeyError\u001b[39;00m \u001b[38;5;28;01mas\u001b[39;00m err:\n\u001b[0;32m-> 3804\u001b[0m     \u001b[38;5;28;01mraise\u001b[39;00m \u001b[38;5;167;01mKeyError\u001b[39;00m(key) \u001b[38;5;28;01mfrom\u001b[39;00m \u001b[38;5;21;01merr\u001b[39;00m\n\u001b[1;32m   3805\u001b[0m \u001b[38;5;28;01mexcept\u001b[39;00m \u001b[38;5;167;01mTypeError\u001b[39;00m:\n\u001b[1;32m   3806\u001b[0m     \u001b[38;5;66;03m# If we have a listlike key, _check_indexing_error will raise\u001b[39;00m\n\u001b[1;32m   3807\u001b[0m     \u001b[38;5;66;03m#  InvalidIndexError. Otherwise we fall through and re-raise\u001b[39;00m\n\u001b[1;32m   3808\u001b[0m     \u001b[38;5;66;03m#  the TypeError.\u001b[39;00m\n\u001b[1;32m   3809\u001b[0m     \u001b[38;5;28mself\u001b[39m\u001b[38;5;241m.\u001b[39m_check_indexing_error(key)\n",
      "\u001b[0;31mKeyError\u001b[0m: 'Indicator'"
     ]
    }
   ],
   "source": [
    "\n",
    "ind = health_qual[\"Indicator\"].str.contains(\"mortality\")\n",
    "val =  health_qual[\"Value\"] == \"Age-sex standardised rate per 100 patients\"\n",
    "health_qual['Periods'] = pd.to_numeric(health_qual['Periods'])\n",
    "yrs =  health_qual[\"Periods\"] > 2014\n",
    "\n",
    "health_qual_2 = health_qual.loc[ind & val & yrs]"
   ]
  },
  {
   "cell_type": "code",
   "execution_count": null,
   "id": "ab0e7a29-3f66-4563-9f1d-24dece5c0dab",
   "metadata": {
    "tags": []
   },
   "outputs": [],
   "source": [
    "summary_qual = health_qual_2.groupby(['Country'])['Value.1'].mean()"
   ]
  },
  {
   "cell_type": "code",
   "execution_count": null,
   "id": "57ff9456-6f23-48f7-9804-2f4a36f93244",
   "metadata": {
    "tags": []
   },
   "outputs": [],
   "source": [
    "summary_qual= pd.DataFrame(summary_qual).rename(columns={'Value.1': 'mortality_rate'})"
   ]
  },
  {
   "cell_type": "code",
   "execution_count": null,
   "id": "2741e274-d4e3-418e-a4b4-1782a9112080",
   "metadata": {
    "tags": []
   },
   "outputs": [],
   "source": [
    "summary_qual.plot.bar()"
   ]
  },
  {
   "cell_type": "markdown",
   "id": "b0158ef0-e1df-43b4-83b1-d7f39b2388a3",
   "metadata": {},
   "source": [
    "### Health Workforce Migration"
   ]
  },
  {
   "cell_type": "code",
   "execution_count": null,
   "id": "01f5a1fa-97fe-42fb-9cd8-96899fdbf1c9",
   "metadata": {
    "tags": []
   },
   "outputs": [],
   "source": [
    "worker_migr"
   ]
  },
  {
   "cell_type": "code",
   "execution_count": null,
   "id": "feba26e9-5b59-4bd2-a901-d105872c57ec",
   "metadata": {
    "tags": []
   },
   "outputs": [],
   "source": [
    "imm_doc = (worker_migr[\"Variable\"] == \"Foreign-trained doctors - Annual inflow\")\n",
    "yrs2 = (worker_migr[\"Year\"] > 2014)"
   ]
  },
  {
   "cell_type": "code",
   "execution_count": null,
   "id": "2c93a095-9684-4352-9ac2-c52f710a9e11",
   "metadata": {
    "tags": []
   },
   "outputs": [],
   "source": [
    "worker_migr = worker_migr[imm_doc & yrs2]"
   ]
  },
  {
   "cell_type": "code",
   "execution_count": null,
   "id": "6c79dfd1-9b8d-4b55-8172-74d66aab9131",
   "metadata": {
    "tags": []
   },
   "outputs": [],
   "source": [
    "summary_imm_doc = pd.DataFrame (worker_migr.groupby(['Country'])['Value'].mean())"
   ]
  },
  {
   "cell_type": "code",
   "execution_count": null,
   "id": "c90add00-d3db-4f8e-a235-f7d596399ff4",
   "metadata": {
    "tags": []
   },
   "outputs": [],
   "source": [
    "summary_imm_doc.plot.bar()"
   ]
  },
  {
   "cell_type": "code",
   "execution_count": null,
   "id": "e7fc95be-3d16-4a00-be50-49ff9ab20a43",
   "metadata": {
    "tags": []
   },
   "outputs": [],
   "source": [
    "doc_mor = pd.merge(summary_qual,summary_imm_doc, on = ['Country'])\n",
    "doc_mor"
   ]
  },
  {
   "cell_type": "code",
   "execution_count": null,
   "id": "68e97142-d554-4420-8139-784863e9558b",
   "metadata": {
    "tags": []
   },
   "outputs": [],
   "source": [
    "doc_mor['mortality_rate'].corr(doc_mor['Value'])"
   ]
  },
  {
   "cell_type": "markdown",
   "id": "fdbd9ba3-c13e-42a0-94ca-c9cfc8082f48",
   "metadata": {},
   "source": [
    "## Insurance, Healthcare Spending, and Remuneration as Predictive Factors of Healthcare Professional Migration\n",
    "\n",
    "**Preliminary Analysis**"
   ]
  },
  {
   "cell_type": "code",
   "execution_count": 122,
   "id": "7e85e002-f81c-4bc5-b57c-724d224161f9",
   "metadata": {
    "tags": []
   },
   "outputs": [],
   "source": [
    "gdp_ppp = reference[\"/capita, US$ purchasing power parity\"][\"Gross domestic product (GDP)\"]\n",
    "hlth_gdp_share = health_expen[\"Share of gross domestic product\"][\"Current expenditure on health (all functions)\"]\n",
    "inpt_gdp_share = health_expen[\"Share of gross domestic product\"][\"Inpatient curative and rehabilitative care\"]\n",
    "prev_gdp_share = health_expen[\"Share of gross domestic product\"][\"Preventive care\"]\n",
    "gp_sal_usd = health_resor[\"Salaried, income, US$ exchange rate\"][\"Remuneration of general practitioners\"]\n",
    "nur_sal_usd = health_resor[\"Salaried, income, US$ exchange rate\"][\"Remuneration of hospital nurses\"]\n",
    "spec_sal_usd = health_resor[\"Salaried, income, US$ exchange rate\"][\"Remuneration of specialists\"]\n",
    "gov_hi_pct = social_proc[\"% of total population\"][\"Government/compulsory health insurance coverage\"]\n",
    "for_doc_pct = worker_migr[\"% of foreign-trained doctors\"]\n",
    "for_nur_pct = worker_migr[\"% of foreign-trained nurses\"]\n",
    "for_doc_inf = worker_migr[\"Foreign-trained doctors - Annual inflow\"]\n",
    "for_nur_inf = worker_migr[\"Foreign-trained nurses - Annual inflow\"]"
   ]
  },
  {
   "cell_type": "code",
   "execution_count": 124,
   "id": "9e14509b-d644-40f4-b3ad-6e558a3100b5",
   "metadata": {
    "tags": []
   },
   "outputs": [],
   "source": [
    "doc_pct_pred_list = [gdp_ppp,hlth_gdp_share,gp_sal_usd,spec_sal_usd,gov_hi_pct,for_doc_pct]\n",
    "doc_pct_pred = pd.concat(doc_pct_pred_list,axis=1).dropna()\n",
    "doc_pct_pred_corr = doc_pct_pred.corr()[\"% of foreign-trained doctors\"]\n",
    "\n",
    "doc_inf_pred_list = [gdp_ppp,hlth_gdp_share,gp_sal_usd,spec_sal_usd,gov_hi_pct,for_doc_inf]\n",
    "doc_inf_pred = pd.concat(doc_inf_pred_list,axis=1).dropna()\n",
    "doc_inf_pred_corr = doc_inf_pred.corr()[\"Foreign-trained doctors - Annual inflow\"]"
   ]
  },
  {
   "cell_type": "code",
   "execution_count": 126,
   "id": "225fd016-2eaf-4475-9941-5c26dbb9f8b1",
   "metadata": {
    "tags": []
   },
   "outputs": [],
   "source": [
    "nur_pct_pred_list = [gdp_ppp,hlth_gdp_share,nur_sal_usd,gov_hi_pct,for_nur_pct]\n",
    "nur_pct_pred = pd.concat(nur_pct_pred_list,axis=1).dropna()\n",
    "nur_pct_pred_corr = nur_pct_pred.corr()[\"% of foreign-trained nurses\"]\n",
    "\n",
    "nur_inf_pred_list = [gdp_ppp,hlth_gdp_share,nur_sal_usd,gov_hi_pct,for_nur_inf]\n",
    "nur_inf_pred = pd.concat(nur_inf_pred_list,axis=1).dropna()\n",
    "nur_inf_pred_corr = nur_inf_pred.corr()[\"Foreign-trained nurses - Annual inflow\"]"
   ]
  },
  {
   "cell_type": "code",
   "execution_count": 127,
   "id": "c6649347-ecad-4e42-80eb-ee9c2e8b8265",
   "metadata": {
    "tags": []
   },
   "outputs": [
    {
     "name": "stdout",
     "output_type": "stream",
     "text": [
      "Percentage of foreign-trained doctors \n",
      "Gross domestic product (GDP)                       0.075365\n",
      "Current expenditure on health (all functions)      0.188999\n",
      "Remuneration of general practitioners              0.294342\n",
      "Remuneration of specialists                        0.526637\n",
      "Government/compulsory health insurance coverage    0.116792\n",
      "% of foreign-trained doctors                       1.000000\n",
      "Name: % of foreign-trained doctors, dtype: float64\n",
      "\n",
      "Inflow of foreign-trained doctors \n",
      "Gross domestic product (GDP)                       0.119307\n",
      "Current expenditure on health (all functions)      0.167185\n",
      "Remuneration of general practitioners              0.057669\n",
      "Remuneration of specialists                        0.217792\n",
      "Government/compulsory health insurance coverage    0.072621\n",
      "Foreign-trained doctors - Annual inflow            1.000000\n",
      "Name: Foreign-trained doctors - Annual inflow, dtype: float64\n",
      "\n",
      "Percentage of foreign-trained nurses \n",
      "Gross domestic product (GDP)                       0.542174\n",
      "Current expenditure on health (all functions)      0.385632\n",
      "Remuneration of hospital nurses                    0.461748\n",
      "Government/compulsory health insurance coverage    0.179168\n",
      "% of foreign-trained nurses                        1.000000\n",
      "Name: % of foreign-trained nurses, dtype: float64\n",
      "\n",
      "Inflow of foreign-trained nurses \n",
      "Gross domestic product (GDP)                       0.248658\n",
      "Current expenditure on health (all functions)      0.025955\n",
      "Remuneration of hospital nurses                    0.174883\n",
      "Government/compulsory health insurance coverage    0.010819\n",
      "Foreign-trained nurses - Annual inflow             1.000000\n",
      "Name: Foreign-trained nurses - Annual inflow, dtype: float64\n",
      "\n"
     ]
    }
   ],
   "source": [
    "print(\"Percentage of foreign-trained doctors \\n\" + str(doc_pct_pred_corr)+\"\\n\")\n",
    "print(\"Inflow of foreign-trained doctors \\n\" + str(doc_inf_pred_corr)+\"\\n\")\n",
    "print(\"Percentage of foreign-trained nurses \\n\" + str(nur_pct_pred_corr)+\"\\n\")\n",
    "print(\"Inflow of foreign-trained nurses \\n\" + str(nur_inf_pred_corr)+\"\\n\")"
   ]
  },
  {
   "cell_type": "markdown",
   "id": "fa9e4cef-ad8d-4df1-bdad-b06b63b15aed",
   "metadata": {},
   "source": [
    "## Maps\n",
    "\n",
    "**Map of doctor inflow, map of foreign doctor percentage, map of nurse inflow, map of foreign nurse percentage**"
   ]
  },
  {
   "cell_type": "code",
   "execution_count": null,
   "id": "5090401f-7a8d-43b3-bbc8-d0a739fb3b6a",
   "metadata": {},
   "outputs": [],
   "source": []
  }
 ],
 "metadata": {
  "kernelspec": {
   "display_name": "Python 3 (ipykernel)",
   "language": "python",
   "name": "python3"
  },
  "language_info": {
   "codemirror_mode": {
    "name": "ipython",
    "version": 3
   },
   "file_extension": ".py",
   "mimetype": "text/x-python",
   "name": "python",
   "nbconvert_exporter": "python",
   "pygments_lexer": "ipython3",
   "version": "3.10.8"
  }
 },
 "nbformat": 4,
 "nbformat_minor": 5
}
