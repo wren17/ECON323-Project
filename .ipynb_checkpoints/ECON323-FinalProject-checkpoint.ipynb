{
 "cells": [
  {
   "cell_type": "markdown",
   "id": "1a85568f-4ba3-4e7a-b801-bd89971ba553",
   "metadata": {},
   "source": [
    "Begin by importing all necessary libraries."
   ]
  },
  {
   "cell_type": "code",
   "execution_count": 1,
   "id": "bae48a13-2e26-49a2-85e8-1fe57b1f4c15",
   "metadata": {},
   "outputs": [],
   "source": [
    "import math\n",
    "import pandas as pd\n",
    "import numpy as np\n",
    "%matplotlib inline"
   ]
  },
  {
   "cell_type": "markdown",
   "id": "0cd971e0-3dc6-4e3d-a0c2-9c418b0e3633",
   "metadata": {},
   "source": [
    "Then import all data files."
   ]
  },
  {
   "cell_type": "code",
   "execution_count": 2,
   "id": "d4bc98c3-c2eb-4fb4-ad8c-b6fbffa52985",
   "metadata": {
    "tags": []
   },
   "outputs": [],
   "source": [
    "demo_ref = pd.read_csv('demographicref.csv') #demographic reference data\n",
    "econ_ref = pd.read_csv('econref.csv') #economic reference data\n",
    "health_expen = pd.read_csv('healthexpenditure.csv') #healthcare expenditure data\n",
    "health_qual = pd.read_csv('healthquality.csv') #healthcare quality data\n",
    "health_resor = pd.read_csv('healthresources.csv') #healthcare resources data\n",
    "health_util = pd.read_csv('healthutil.csv') #healthcare utilization data\n",
    "social_proc = pd.read_csv('socialprotection.csv') #social healthcare protection data\n",
    "worker_migr = pd.read_csv('healthworkmigration.csv') #healthcare worker migration data"
   ]
  },
  {
   "cell_type": "markdown",
   "id": "8a1f48eb-922e-4976-8b6d-de6e60e461d6",
   "metadata": {},
   "source": [
    "The final dataset cannot be loaded past the 284,614th line, so in order to avoid having partial data on one variable we needed to cut the last 40,000 or so entries."
   ]
  },
  {
   "cell_type": "code",
   "execution_count": 3,
   "id": "9f175837-4117-4da9-b5c8-0bf2d7f5ce8b",
   "metadata": {
    "tags": []
   },
   "outputs": [],
   "source": [
    "health_stat = pd.read_csv('healthstatus.csv',nrows = 284583) #health status data"
   ]
  },
  {
   "cell_type": "markdown",
   "id": "e6fa606c-05cc-4028-9b83-4f6dbc9e3a5e",
   "metadata": {},
   "source": [
    "Remove unwanted columns of data."
   ]
  },
  {
   "cell_type": "code",
   "execution_count": 4,
   "id": "fb99cfa9-e148-478a-8af3-6b35ed7bc8b3",
   "metadata": {},
   "outputs": [],
   "source": [
    "demo_ref = demo_ref[['Variable','Measure','Country','Year','Value']]\n",
    "econ_ref = econ_ref[['Variable', 'Measure', 'Country','Year', 'Value']]\n",
    "health_expen = health_expen[['Financing scheme', 'Function','Provider', 'Measure', 'Country', 'Year', 'Unit', 'Value']]\n",
    "health_qual = health_qual[['Country','Periods','Indicator','Gender','Age Group','Value','Value.1']]\n",
    "health_resor = health_resor[['Variable','Measure','Country','Year','Value']]\n",
    "health_util = health_util[['Variable','Measure','Country','Year','Value']]\n",
    "social_proc = social_proc[['Variable','Measure','Country','Year','Value']]\n",
    "worker_migr = worker_migr[['Country','Variable','Country of origin','Year','Value']]\n",
    "health_stat = health_stat[['Variable','Measure','Country','Year','Value']]"
   ]
  },
  {
   "cell_type": "markdown",
   "id": "daf7e9d3-8ce8-42fe-bab4-84cd4dcc0780",
   "metadata": {
    "tags": []
   },
   "source": [
    "Remove unwanted rows of data"
   ]
  },
  {
   "cell_type": "code",
   "execution_count": 24,
   "id": "380ecc68-0e2c-4202-88f4-78974e4c67d1",
   "metadata": {
    "tags": []
   },
   "outputs": [
    {
     "data": {
      "text/html": [
       "<div>\n",
       "<style scoped>\n",
       "    .dataframe tbody tr th:only-of-type {\n",
       "        vertical-align: middle;\n",
       "    }\n",
       "\n",
       "    .dataframe tbody tr th {\n",
       "        vertical-align: top;\n",
       "    }\n",
       "\n",
       "    .dataframe thead th {\n",
       "        text-align: right;\n",
       "    }\n",
       "</style>\n",
       "<table border=\"1\" class=\"dataframe\">\n",
       "  <thead>\n",
       "    <tr style=\"text-align: right;\">\n",
       "      <th></th>\n",
       "      <th>Variable</th>\n",
       "      <th>Measure</th>\n",
       "      <th>Country</th>\n",
       "      <th>Year</th>\n",
       "      <th>Value</th>\n",
       "    </tr>\n",
       "  </thead>\n",
       "  <tbody>\n",
       "    <tr>\n",
       "      <th>32828</th>\n",
       "      <td>Hospitals</td>\n",
       "      <td>Per million population</td>\n",
       "      <td>Australia</td>\n",
       "      <td>2010</td>\n",
       "      <td>61.05</td>\n",
       "    </tr>\n",
       "    <tr>\n",
       "      <th>32829</th>\n",
       "      <td>Hospitals</td>\n",
       "      <td>Per million population</td>\n",
       "      <td>Australia</td>\n",
       "      <td>2011</td>\n",
       "      <td>60.21</td>\n",
       "    </tr>\n",
       "    <tr>\n",
       "      <th>32830</th>\n",
       "      <td>Hospitals</td>\n",
       "      <td>Per million population</td>\n",
       "      <td>Australia</td>\n",
       "      <td>2012</td>\n",
       "      <td>59.25</td>\n",
       "    </tr>\n",
       "    <tr>\n",
       "      <th>32831</th>\n",
       "      <td>Hospitals</td>\n",
       "      <td>Per million population</td>\n",
       "      <td>Australia</td>\n",
       "      <td>2013</td>\n",
       "      <td>58.76</td>\n",
       "    </tr>\n",
       "    <tr>\n",
       "      <th>32832</th>\n",
       "      <td>Hospitals</td>\n",
       "      <td>Per million population</td>\n",
       "      <td>Australia</td>\n",
       "      <td>2014</td>\n",
       "      <td>56.31</td>\n",
       "    </tr>\n",
       "    <tr>\n",
       "      <th>...</th>\n",
       "      <td>...</td>\n",
       "      <td>...</td>\n",
       "      <td>...</td>\n",
       "      <td>...</td>\n",
       "      <td>...</td>\n",
       "    </tr>\n",
       "    <tr>\n",
       "      <th>109446</th>\n",
       "      <td>Total adult ICU beds (average)</td>\n",
       "      <td>Per 100 000 population</td>\n",
       "      <td>Australia</td>\n",
       "      <td>2020</td>\n",
       "      <td>8.10</td>\n",
       "    </tr>\n",
       "    <tr>\n",
       "      <th>109447</th>\n",
       "      <td>Total adult ICU beds (average)</td>\n",
       "      <td>Per 100 000 population</td>\n",
       "      <td>Australia</td>\n",
       "      <td>2021</td>\n",
       "      <td>8.35</td>\n",
       "    </tr>\n",
       "    <tr>\n",
       "      <th>109448</th>\n",
       "      <td>Total adult ICU beds (average)</td>\n",
       "      <td>Per 100 000 population</td>\n",
       "      <td>Australia</td>\n",
       "      <td>2022</td>\n",
       "      <td>8.28</td>\n",
       "    </tr>\n",
       "    <tr>\n",
       "      <th>109470</th>\n",
       "      <td>Total paediatric ICU beds</td>\n",
       "      <td>Per 100 000 population</td>\n",
       "      <td>Spain</td>\n",
       "      <td>2021</td>\n",
       "      <td>0.53</td>\n",
       "    </tr>\n",
       "    <tr>\n",
       "      <th>109471</th>\n",
       "      <td>Total adult ICU beds (average)</td>\n",
       "      <td>Per 100 000 population</td>\n",
       "      <td>Sweden</td>\n",
       "      <td>2021</td>\n",
       "      <td>4.92</td>\n",
       "    </tr>\n",
       "  </tbody>\n",
       "</table>\n",
       "<p>51055 rows × 5 columns</p>\n",
       "</div>"
      ],
      "text/plain": [
       "                              Variable                 Measure    Country  \\\n",
       "32828                        Hospitals  Per million population  Australia   \n",
       "32829                        Hospitals  Per million population  Australia   \n",
       "32830                        Hospitals  Per million population  Australia   \n",
       "32831                        Hospitals  Per million population  Australia   \n",
       "32832                        Hospitals  Per million population  Australia   \n",
       "...                                ...                     ...        ...   \n",
       "109446  Total adult ICU beds (average)  Per 100 000 population  Australia   \n",
       "109447  Total adult ICU beds (average)  Per 100 000 population  Australia   \n",
       "109448  Total adult ICU beds (average)  Per 100 000 population  Australia   \n",
       "109470       Total paediatric ICU beds  Per 100 000 population      Spain   \n",
       "109471  Total adult ICU beds (average)  Per 100 000 population     Sweden   \n",
       "\n",
       "        Year  Value  \n",
       "32828   2010  61.05  \n",
       "32829   2011  60.21  \n",
       "32830   2012  59.25  \n",
       "32831   2013  58.76  \n",
       "32832   2014  56.31  \n",
       "...      ...    ...  \n",
       "109446  2020   8.10  \n",
       "109447  2021   8.35  \n",
       "109448  2022   8.28  \n",
       "109470  2021   0.53  \n",
       "109471  2021   4.92  \n",
       "\n",
       "[51055 rows x 5 columns]"
      ]
     },
     "execution_count": 24,
     "metadata": {},
     "output_type": "execute_result"
    }
   ],
   "source": [
    "#health_expen.loc[health_expen['Measure']=='Share of gross domestic product'] #removing measures in units of local currency\n",
    "\n",
    "#health_qual.loc[(health_qual['Value']=='Age-sex standardised rate per 100 000 population')|\n",
    "#               (health_qual['Value']=='Age-sex standardised rate per 100 patients')|\n",
    "#               (health_qual['Value']=='Age-standardised survival (%) ')] #keeping variables which can be compared across countries\n",
    "\n",
    "#health_resor.loc[(health_resor['Measure']=='Density per 1 000 population (head counts)')|\n",
    "#                (health_resor['Measure']=='Per million population')|\n",
    "#                (health_resor['Measure']=='% of total physicians (head counts)')|\n",
    "#                (health_resor['Measure']=='Per 1 000 population')|\n",
    "#                (health_resor['Measure']=='% of physicians (head counts)')|\n",
    "#                (health_resor['Measure']=='Per 100 000 population')|\n",
    "#                (health_resor['Measure']=='% of total hospital employment (head counts)')|\n",
    "#                (health_resor['Measure']=='Per 1 000 live births')|\n",
    "#                (health_resor['Measure']=='Salaried, income, US$ exchange rate')] #keeping variables which can be compared across countries and removing similar measures\n",
    "\n",
    "health"
   ]
  },
  {
   "cell_type": "markdown",
   "id": "589c5f6a-9141-4d9e-b3be-cbb7db7e6973",
   "metadata": {},
   "source": [
    "Next we have to clean and tidy the data."
   ]
  },
  {
   "cell_type": "code",
   "execution_count": 68,
   "id": "6f52e40d-24ad-461e-998a-35d3869b1e8d",
   "metadata": {
    "tags": []
   },
   "outputs": [],
   "source": [
    "demo_ref_pv = demo_ref.pivot_table(index = ['Country','Year'], columns = 'Variable', values = 'Value')\n",
    "econ_ref_pv = econ_ref.pivot_table(index = ['Country','Year'], columns = 'Variable', values = 'Value')"
   ]
  },
  {
   "cell_type": "code",
   "execution_count": null,
   "id": "10d1780a-4824-4ab7-aac4-580bf772c67a",
   "metadata": {},
   "outputs": [],
   "source": []
  }
 ],
 "metadata": {
  "kernelspec": {
   "display_name": "Python 3 (ipykernel)",
   "language": "python",
   "name": "python3"
  },
  "language_info": {
   "codemirror_mode": {
    "name": "ipython",
    "version": 3
   },
   "file_extension": ".py",
   "mimetype": "text/x-python",
   "name": "python",
   "nbconvert_exporter": "python",
   "pygments_lexer": "ipython3",
   "version": "3.10.8"
  }
 },
 "nbformat": 4,
 "nbformat_minor": 5
}
