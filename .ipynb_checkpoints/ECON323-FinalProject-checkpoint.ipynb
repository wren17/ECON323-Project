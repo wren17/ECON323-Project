{
 "cells": [
  {
   "cell_type": "markdown",
   "id": "1a85568f-4ba3-4e7a-b801-bd89971ba553",
   "metadata": {},
   "source": [
    "Begin by importing all necessary libraries."
   ]
  },
  {
   "cell_type": "code",
   "execution_count": 2,
   "id": "bae48a13-2e26-49a2-85e8-1fe57b1f4c15",
   "metadata": {},
   "outputs": [],
   "source": [
    "import math\n",
    "import pandas as pd\n",
    "import numpy as np"
   ]
  },
  {
   "cell_type": "markdown",
   "id": "0cd971e0-3dc6-4e3d-a0c2-9c418b0e3633",
   "metadata": {},
   "source": [
    "Then import all data files."
   ]
  },
  {
   "cell_type": "code",
   "execution_count": 3,
   "id": "d4bc98c3-c2eb-4fb4-ad8c-b6fbffa52985",
   "metadata": {
    "tags": []
   },
   "outputs": [],
   "source": [
    "demo_ref = pd.read_csv('demographicref.csv') #demographic reference data\n",
    "econ_ref = pd.read_csv('econref.csv') #economic reference data\n",
    "health_expen = pd.read_csv('healthexpenditure.csv') #healthcare expenditure data\n",
    "health_qual = pd.read_csv('healthquality.csv') #healthcare quality data\n",
    "health_resor = pd.read_csv('healthresources.csv') #healthcare resources data\n",
    "health_util = pd.read_csv('healthutil.csv') #healthcare utilization data\n",
    "social_proc = pd.read_csv('socialprotection.csv') #social healthcare protection data\n",
    "worker_migr = pd.read_csv('healthworkmigration.csv') #healthcare worker migration data"
   ]
  },
  {
   "cell_type": "markdown",
   "id": "8a1f48eb-922e-4976-8b6d-de6e60e461d6",
   "metadata": {},
   "source": [
    "The final dataset cannot be loaded past the 284,614th line, so in order to avoid having partial data on one variable we needed to cut the last 40,000 or so entries."
   ]
  },
  {
   "cell_type": "code",
   "execution_count": 31,
   "id": "9f175837-4117-4da9-b5c8-0bf2d7f5ce8b",
   "metadata": {
    "tags": []
   },
   "outputs": [],
   "source": [
    "health_stat = pd.read_csv('healthstatus.csv',nrows = 284583) #health status data"
   ]
  },
  {
   "cell_type": "markdown",
   "id": "e6fa606c-05cc-4028-9b83-4f6dbc9e3a5e",
   "metadata": {},
   "source": [
    "Remove unwanted columns of data"
   ]
  },
  {
   "cell_type": "code",
   "execution_count": 33,
   "id": "fb99cfa9-e148-478a-8af3-6b35ed7bc8b3",
   "metadata": {},
   "outputs": [],
   "source": [
    "demo_ref = demo_ref[['Variable','Measure','Country','Year','Value']]\n",
    "econ_ref = econ_ref[['Variable', 'Measure', 'Country','Year', 'Value']]\n",
    "health_expen = health_expen[['Financing scheme', 'Function','Provider', 'Measure', 'Country', 'Year', 'Unit', 'Value']]\n",
    "health_qual = health_qual[['Country','Periods','Indicator','Gender','Age Group','Value','Value.1']]\n",
    "health_resor = health_resor[['Variable','Measure','Country','Year','Value']]\n",
    "health_util = health_util[['Variable','Measure','Country','Year','Value']]\n",
    "social_proc = social_proc[['Variable','Measure','Country','Year','Value']]\n",
    "worker_migr = worker_migr[['Country','Variable','Country of origin','Year','Value']]\n",
    "health_stat = health_stat[['Variable','Measure','Country','Year','Value']]"
   ]
  },
  {
   "cell_type": "code",
   "execution_count": null,
   "id": "1ca29734-3fa9-4fb4-a273-d1275d70b897",
   "metadata": {},
   "outputs": [],
   "source": []
  }
 ],
 "metadata": {
  "kernelspec": {
   "display_name": "Python 3 (ipykernel)",
   "language": "python",
   "name": "python3"
  },
  "language_info": {
   "codemirror_mode": {
    "name": "ipython",
    "version": 3
   },
   "file_extension": ".py",
   "mimetype": "text/x-python",
   "name": "python",
   "nbconvert_exporter": "python",
   "pygments_lexer": "ipython3",
   "version": "3.10.8"
  }
 },
 "nbformat": 4,
 "nbformat_minor": 5
}
